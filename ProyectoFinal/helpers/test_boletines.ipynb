{
 "cells": [
  {
   "cell_type": "code",
   "execution_count": 1,
   "metadata": {},
   "outputs": [],
   "source": [
    "import boletines\n",
    "import random\n",
    "\n",
    "random.seed(420)"
   ]
  },
  {
   "cell_type": "code",
   "execution_count": 2,
   "metadata": {},
   "outputs": [],
   "source": [
    "uri = open('./../mongo_uri.txt', 'r', encoding='utf-8').read()"
   ]
  },
  {
   "cell_type": "code",
   "execution_count": 3,
   "metadata": {},
   "outputs": [
    {
     "name": "stdout",
     "output_type": "stream",
     "text": [
      "Wall time: 3.52 s\n"
     ]
    }
   ],
   "source": [
    "%%time\n",
    "dict_sentences = boletines.sentences(uri, source='corenlp')"
   ]
  },
  {
   "cell_type": "code",
   "execution_count": 4,
   "metadata": {},
   "outputs": [
    {
     "name": "stdout",
     "output_type": "stream",
     "text": [
      "El corpus consta de 6583 enunciados.\n",
      "Tamaño mínimo: 3 tokens.\n",
      "Tamaño máximo: 131 tokens.\n",
      "Tamaño promedio: 39.80191402096309 tokens.\n",
      "Desviación estándar: 18.703258140465145 tokens.\n"
     ]
    }
   ],
   "source": [
    "print(f'El corpus consta de {dict_sentences[\"count\"]} enunciados.')\n",
    "print(f'Tamaño mínimo: {dict_sentences[\"min\"]} tokens.')\n",
    "print(f'Tamaño máximo: {dict_sentences[\"max\"]} tokens.')\n",
    "print(f'Tamaño promedio: {dict_sentences[\"avg\"]} tokens.')\n",
    "print(f'Desviación estándar: {dict_sentences[\"std\"]} tokens.')"
   ]
  },
  {
   "cell_type": "markdown",
   "metadata": {},
   "source": [
    "Imprimo algunos ejemplos"
   ]
  },
  {
   "cell_type": "code",
   "execution_count": 5,
   "metadata": {},
   "outputs": [
    {
     "name": "stdout",
     "output_type": "stream",
     "text": [
      "1.- Presentó en Saltillo , Coahuila el programa Avanzar Contigo en apoyo a mujeres trabajadoras .\n",
      "\n",
      "2.- Pobremente estamos más de 20 puntos arriba \" .\n",
      "\n",
      "3.- Los eventos masivos que han tenido lugar desde el relanzamiento de la campaña dan testimonio del renovado entusiasmo de los militantes de los partidos Revolucionario Institucional ( PRI ) , Verde Ecologista de México ( PVEM ) y Nueva Alianza , así como la capacidad de movilización de las estructuras de dichos partidos políticos .\n",
      "\n",
      "4.- Explicó que una esposa del presidente del país debe participar en todo lo que pueda hasta un límite , tiene que ser una observadora y una persona activa a la vez , una compañera que esté en las buenas y en las malas .\n",
      "\n",
      "5.- Adelantó que al triunfo del movimiento habrá educación física desde el kínder hasta la universidad .\n",
      "\n",
      "6.- El candidato presidencial anunció diversos compromisos de su gobierno para transformar a Chiapas , por lo que su legado serán más y mejores carreteras , ferrocarriles , hospitales y escuelas .\n",
      "\n",
      "7.- Se va a repoblar los potreros con ganado para que se apoyen a los productores y otro compromiso , en Tuxtla Gutiérrez , Chiapas a estar la Comisión Federal de Electricidad .\n",
      "\n",
      "8.- A las familias de México les digo : mi responsabilidad es darles seguridad , justicia y respaldo ; de eso , yo me encargo \" , manifestó .\n",
      "\n",
      "9.- A la pregunta de los reporteros qué si le va a costar un millón de pesos a MORENA la renta del Estadio Azteca , López Obrador comentó que todavía no sabe cuánto , porque lo van a contratar los dirigentes de MORENA , Yeidckol Polevnsky y quienes están en las finanzas y expresó que no sabe cuánto vaya a costar .\n",
      "\n",
      "10.- Adelantó que habrá cambios en la política económica , se dará atención especial a los jóvenes , se garantizará el derecho al trabajo y al estudio a la juventud , se modificará la reforma educativa para mejorar la calidad de la enseñanza sin afectar los derechos laborales de los maestros .\n",
      "\n",
      "11.- Meade detalló que su agenda en la materia contempla actualizar las tablas de enfermedades de trabajo y de evaluación de incapacidades permanentes , para que tengan la vigencia que los empleados necesitan .\n",
      "\n",
      "12.- \" Pensamos que se puede lograr esa hazaña de transformar a México \" , dijo al recordar que ha habido solo tres transformaciones : La Independencia , La Reforma y La Revolución , \" nosotros queremos llevar a cabo la cuarta transformación de la vida pública de nuestro país \" .\n",
      "\n",
      "13.- Impulsaré un campo productivo en el que todos ganen , subrayó en Veracruz .\n",
      "\n",
      "14.- Otra actividad económica que será fundamental en su estrategia será el campo , al cual apoyará con financiamiento , fertilizantes , maquinarias y asesoría .\n",
      "\n",
      "15.- Adicionalmente , señaló que su principal preocupación es brindar seguridad y tranquilidad a las familias .\n",
      "\n",
      "16.- La administración de ácido fólico , antes y durante el embarazo ; 2 ) Asegurar la nutrición de la mamá durante y después del embarazo . 3 ) Garantizar todas las consultas prenatales y asignación de hospital para el parto ; 4 ) Atención de emergencia obstétrica en todo hospital del país , sin restricción .\n",
      "\n",
      "17.- Expresó que José Antonio Meade es un hombre honesto , preparado y eficaz , que tiene claro cómo combatir la pobreza y mejorar las condiciones de vida de las y los mexicanos en materia de educación , salud , ingreso y alimentación .\n",
      "\n",
      "18.- \" Pero ahí está todavía Meade , ahí está la señora Margarita , por qué faltarles el respeto , al señor Rodríguez , ahí están es una semifinal para el segundo lugar , que todavía se puede definir hasta en el tercer debate \" , expuso .\n",
      "\n",
      "19.- Informa que a partir de primero de julio habrá un proceso de diálogo para reflexionar colectivamente sobre el problema de la inseguridad y la violencia .\n",
      "\n",
      "20.- Mencionó que lo que le corresponde se atiene a lo que decía el liberal puro Ignacio Ramírez \" el Nigromante \" : ' yo me hinco donde se hinca el pueblo ' .\n",
      "\n",
      "21.- Lo anterior , durante el primer debate entre candidatos a la Presidencia de la República , con el que quedó en claro que la contienda del próximo 1 de julio será entre dos opciones : la que representa él , con ideas y propuestas realizables , con visión de futuro , y la de López Obrador , de perdón a delincuentes y con propuestas que ya fracasado en el pasado .\n",
      "\n",
      "22.- Coordinadora de Promoción del Voto : Adriana Dávila .\n",
      "\n",
      "23.- José Antonio Meade exhorta a la población observar las señales de riesgo en esta elección y poner a México a salvo .\n",
      "\n",
      "24.- Sostuvo que a diferencia de 2006 y 2012 , panistas y priistas están muy divididos : \" no es como en 2006 , en ese entonces ( Vicente ) Fox coordinó el fraude e hizo acuerdo con el PRI .\n",
      "\n",
      "25.- A la pregunta de los reporteros sobre que Enrique Peña se adelantó y dijo que Los Pinos será museo , el candidato presidencial comentó que ¡ ah ! Bueno , pues ya , que bueno y lo celebró , lo vio bien , pero son las 60 hectáreas , todos Los Pinos .\n",
      "\n",
      "26.- El candidato por la coalición \" Juntos haremos historia \" a la Presidencia de México reafirmó los compromisos que llevará a cabo en Huejutla , en toda la región de Hidalgo y en el país : \" vamos a atender a todos , vamos a escuchar a todos , vamos a respetar a todos , pero le vamos a dar preferencia a la gente humilde , Por el bien de todo , Primero los pobres \" .\n",
      "\n",
      "27.- Enfatizó que la clave para tener una sociedad civil fuerte es necesario fomentarla , porque su participación es determinante para la transformación positiva que México necesita .\n",
      "\n",
      "28.- \" Sumemos nuestros esfuerzos para que ganemos el 1 de julio de manera contundente la elección y hagamos el primer gobierno de coalición en la historia de nuestro país , un gobierno honesto y un gobierno que dé resultados en beneficio de la gente \" .\n",
      "\n",
      "29.- En el cierre de campaña de Tepic , Nayarit , expone que hace unos días firmaron un albazo para privatizar el agua , pero aseguró que ese decreto va para atrás .\n",
      "\n",
      "30.- También ofreció apoyo solidario para la educación superior y en equipo con la universidad resolver su problema estructural para que Morelia siga siendo capital universitaria y sus jóvenes tengan grandes oportunidades .\n"
     ]
    }
   ],
   "source": [
    "sample = random.choices(dict_sentences['sentences'], k=30)\n",
    "# step = max(dict_sentences[\"count\"]//10, 1)\n",
    "print('\\n\\n'.join(\n",
    "    [ \n",
    "        f\"{i+1}.- {' '.join(sent)}\" \n",
    "        for i, sent in enumerate(sample) \n",
    "    ]\n",
    "))"
   ]
  },
  {
   "cell_type": "code",
   "execution_count": null,
   "metadata": {},
   "outputs": [],
   "source": []
  }
 ],
 "metadata": {
  "kernelspec": {
   "display_name": "Python 3.7.7 64-bit ('aypit-2020-2': conda)",
   "language": "python",
   "name": "python37764bitaypit20202conda2eb9642ad5e346f38de29b14c14576bc"
  },
  "language_info": {
   "codemirror_mode": {
    "name": "ipython",
    "version": 3
   },
   "file_extension": ".py",
   "mimetype": "text/x-python",
   "name": "python",
   "nbconvert_exporter": "python",
   "pygments_lexer": "ipython3",
   "version": "3.7.7"
  }
 },
 "nbformat": 4,
 "nbformat_minor": 4
}
