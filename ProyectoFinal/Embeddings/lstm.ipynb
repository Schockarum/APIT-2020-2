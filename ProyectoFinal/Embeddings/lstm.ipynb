{
 "cells": [
  {
   "cell_type": "markdown",
   "metadata": {},
   "source": [
    "# Embeddings con LSTM\n",
    "\n"
   ]
  },
  {
   "cell_type": "code",
   "execution_count": 1,
   "metadata": {},
   "outputs": [],
   "source": [
    "import torch\n",
    "import torch.nn as nn\n",
    "import torch.nn.functional as F\n",
    "from collections import Counter\n",
    "import random\n",
    "from itertools import chain\n",
    "from pprint import pprint\n",
    "import numpy as np\n",
    "from sklearn.model_selection import train_test_split\n",
    "from tqdm.notebook import tqdm"
   ]
  },
  {
   "cell_type": "code",
   "execution_count": 2,
   "metadata": {},
   "outputs": [
    {
     "name": "stdout",
     "output_type": "stream",
     "text": [
      "C:\\Users\\Usuario.000\\Documents\\Facultad\\Git\\2020-2\\APIT-2020-2\\ProyectoFinal\n"
     ]
    }
   ],
   "source": [
    "cd .."
   ]
  },
  {
   "cell_type": "code",
   "execution_count": 3,
   "metadata": {},
   "outputs": [],
   "source": [
    "from helpers.boletines import get_sentences"
   ]
  },
  {
   "cell_type": "code",
   "execution_count": 4,
   "metadata": {},
   "outputs": [
    {
     "name": "stdout",
     "output_type": "stream",
     "text": [
      "C:\\Users\\Usuario.000\\Documents\\Facultad\\Git\\2020-2\\APIT-2020-2\\ProyectoFinal\\Embeddings\n"
     ]
    }
   ],
   "source": [
    "cd Embeddings/"
   ]
  },
  {
   "cell_type": "markdown",
   "metadata": {},
   "source": [
    "## Definición de constantes"
   ]
  },
  {
   "cell_type": "code",
   "execution_count": 5,
   "metadata": {},
   "outputs": [
    {
     "name": "stdout",
     "output_type": "stream",
     "text": [
      "Random Seed:  42069\n"
     ]
    }
   ],
   "source": [
    "# Número de GPUs disponibles. Usar 0 para modo CPU.\n",
    "ngpu = 1\n",
    "\n",
    "# Semilla a usar en los generadores de números aleatorios\n",
    "SEED = 42069\n",
    "# SEED = random.randint(1, 10000) # En caso de requerir más resultados\n",
    "random.seed(SEED)\n",
    "torch.manual_seed(SEED)\n",
    "\n",
    "print(\"Random Seed: \", SEED)"
   ]
  },
  {
   "cell_type": "markdown",
   "metadata": {},
   "source": [
    "Selecciono el tipo de dispositivo a utilizar (gpu o cpu)"
   ]
  },
  {
   "cell_type": "code",
   "execution_count": 6,
   "metadata": {},
   "outputs": [
    {
     "data": {
      "text/plain": [
       "device(type='cuda', index=0)"
      ]
     },
     "execution_count": 6,
     "metadata": {},
     "output_type": "execute_result"
    }
   ],
   "source": [
    "# Decide si queremos correr en gpu o cpu\n",
    "device = torch.device(\"cuda:0\" if (torch.cuda.is_available() and ngpu > 0) else \"cpu\")\n",
    "device"
   ]
  },
  {
   "cell_type": "markdown",
   "metadata": {},
   "source": [
    "## Obtener corpus"
   ]
  },
  {
   "cell_type": "code",
   "execution_count": 7,
   "metadata": {},
   "outputs": [],
   "source": [
    "uri = open('./../mongo_uri.txt', 'r', encoding='utf-8').read()"
   ]
  },
  {
   "cell_type": "code",
   "execution_count": 8,
   "metadata": {},
   "outputs": [
    {
     "name": "stdout",
     "output_type": "stream",
     "text": [
      "JAMK\n",
      "1. José_Antonio_Meade fue recibido en Culiacán por cientos de simpatizantes sinaloenses .\n",
      "377. El aspirante presidencial se comprometió a mejorar la infraestructura carretera e hidráulica en la entidad .\n",
      "753. “ Si tuviera que resumir en una idea el país por el que apuesto para los próximos seis años , lo resumiría en tres palabras : un México líder ” , indicó .\n",
      "1129. De_acuerdo_con diversas estimaciones , las armas en poder de la delincuencia organizada en México podrían alcanzar el número de 1.5 millones de piezas , esto es 3 veces el arsenal con el que cuenta , por_ejemplo , el ejército de Guatemala .\n",
      "1505. Expresó que , sin_ninguna_duda y con toda certeza , logrará la victoria el 1_de_julio .\n",
      "1881. Dijo que con Mikel_Arriola va por una Ciudad_de_México donde abramos la llave y salga agua , que no sea extorsionada por delegados que condicionan el agua a la militancia política , una ciudad que no tandee el agua , donde el derecho a el agua sea vigente , se eviten las fugas y se evite la corrupción .\n",
      "\n",
      "RAC\n",
      "1. De_la_mano_de jóvenes innovadores , comienza Ricardo_Anaya el camino hacia la Presidencia_de_la_República .\n",
      "377. Finalmente , sostuvo que López_Obrador es “ el espanta inversiones ” , porque su actitud provoca que estas se vayan , lo cual es muy delicado , porque cuando no hay inversión no crece la economía y no se generan empleos .\n",
      "753. “ Sí , necesitamos cambiar ciertas piezas de el modelo económico , estamos en un momento crítico , donde tenemos que elegir entre volver a el pasado a_través_de un cómic o construir un futuro más incluyente , igualitario , a_partir_de propuestas series , razonadas , en donde los cómo están claros y los para qué , son parte principal de lo que se pretende hacer ” , enfatizó a el contrastar con la propuesta que hace López_Obrador .\n",
      "1129. Yo quiero paz para Jalisco , yo quiero paz para México , y esa paz la voy a construir con las mujeres , esa paz la vamos a construir todos juntos ” , enfatizó .\n",
      "\n",
      "AMLO\n",
      "1. Asegura AMLO que en campaña todo será amor y paz , que los otros candidatos se ahorren sus provocaciones .\n",
      "377. “ Y tiene que ver con la alianza de el PRI y de el PAN , no hay que olvidar que los de el PRI , los de el PAN , los de el PRIAN se pusieron de acuerdo para nombrar a los consejeros de el INE , que tampoco son blancas palomas y también se pusieron de acuerdo para nombrar a los magistrados de el Tribunal_Electoral , yo lo denuncié en su momento ” , comentó .\n",
      "753. “ Antes en las elecciones pasadas no podíamos defender nos frente_a los ataques a la guerra sucia , a las calumnias , porque nos cercaban , nos daban espacios o actuaban de manera tendenciosa en los medios convencionales , pero en esta elección la diferencia la están marcando las redes sociales , ya no pueden ” , expresó .\n",
      "1129. En otro orden de ideas , informó que si hoy fuesen las elecciones ganaría con 25 puntos de ventaja , es bastante el número de mexicanos que lo apoyan , pero hay quienes crearán de manera artificial la polarizar el voto para las elecciones de el 1_de_julio , pero no es lo mismo el 2018 a el 2006 .\n",
      "1505. “ Cuánto fue el dinero de el presupuesto que se utilizó para imponer la mal llamada reforma educativa , es una investigación periodística de primer orden , salió hace dos_días en un periódico de que el secretario de Educación ( Aurelio_Nuño ) que se gastó 2_mil_millones_de_pesos , pero eso no es todo , se trata de un año ” , expuso .\n",
      "1881. En Autlán_de_Navarro , Jalisco , indicó que se tiene que respetar a los ganadores de la contienda electoral en relación a la Presidencia_de_la_República , pero también a quienes vayan como diputados locales y federales , así_como senadores , presidentes municipales .\n",
      "2257. Expresó que se mejorarán los servicios de salud como el ISSSTE y el Seguro , se aumentará a el doble la pensión para adultos mayores será de mil_500_pesos mensuales y para todos , y habrá apoyo para los discapacitados pobres de el país .\n",
      "2633. Adelanta AMLO que planteará a Trump un acuerdo de cooperación entre EU , Canadá , México y Centroamérica .\n",
      "3009. Indicó que ahora se compra la mitad de la luz que se consume en México a empresas extrajeras que tienen subsidio de 50_mil_millones_de_pesos a el año .\n",
      "\n"
     ]
    }
   ],
   "source": [
    "sentences = get_sentences(uri)"
   ]
  },
  {
   "cell_type": "markdown",
   "metadata": {},
   "source": [
    "Desenvuelvo los grupos de enunciados en un único arreglo con todos los enunciados de todos los candidatos."
   ]
  },
  {
   "cell_type": "code",
   "execution_count": 9,
   "metadata": {},
   "outputs": [],
   "source": [
    "corpus = list(chain(*sentences.values()))"
   ]
  },
  {
   "cell_type": "markdown",
   "metadata": {},
   "source": [
    "Paso los tokens a minúsculas para reducir el tamaño del vocabulario"
   ]
  },
  {
   "cell_type": "code",
   "execution_count": 10,
   "metadata": {},
   "outputs": [
    {
     "name": "stdout",
     "output_type": "stream",
     "text": [
      "El corpus consta de 6889 enunciados.\n"
     ]
    }
   ],
   "source": [
    "sentences = [[w.lower() for w in sent] for sent in corpus]\n",
    "num_sents = len(sentences)\n",
    "print(f'El corpus consta de {num_sents} enunciados.')"
   ]
  },
  {
   "cell_type": "markdown",
   "metadata": {},
   "source": [
    "Selecciono k oraciones de prueba para el modelo"
   ]
  },
  {
   "cell_type": "code",
   "execution_count": 11,
   "metadata": {},
   "outputs": [
    {
     "name": "stdout",
     "output_type": "stream",
     "text": [
      "josé_antonio_meade fue recibido en culiacán por cientos de simpatizantes sinaloenses .\n",
      "josé_antonio_meade hizo notar que “ 7_de_cada_10 homicidios que se incrementaron en los últimos dos años , se dieron en estados gobernados por el frente ” .\n",
      "de_cara_a las últimas cinco semanas de contienda , josé_antonio_meade pidió el apoyo de los campechanos para salir a las calles a dar la batalla por méxico y convencer a el electorado de que su proyecto de gobierno es la mejor opción .\n",
      "“ no tengo ninguna duda , la próxima jefa_de_gobierno_de_la_ciudad_de_méxico será alejandra_barrales ” , afirmó el candidato a la presidencia_de_la_república , ricardo_anaya , a el respaldar el programa , proyecto y candidatura de quien el día de hoy se presentó ante miles de mujeres con propuestas , para pedir les su apoyo de_cara_a la elección de el próximo_1_de_julio .\n",
      "por lo anterior , reiteró su rechazo a la amnistía y perdón a criminales : “ sí a la verdad , para que haya justicia , y sí a la justicia para alcanzar la paz ” .\n",
      "en el campo_de_béisbol_progreso_industrial , a tan sólo cinco_días efectivos de campaña , reconoció el trabajo y propuestas que los candidatos a los diferentes cargos de elección han realizado , así_como el de dirigentes y liderazgos .\n",
      "a la pregunta que los de la cnte hoy se deslindan de haber agredido a meade , pero meade llama a antorcha_campesina a frenar lo , lópez_obrador dijo que no se va a meter en eso , sus adversarios están muy nerviosos , los entiende , “ son ternurita , porque están muy nerviosos , la verdad está más de 20 puntos arriba y va creciendo cada vez más , eso los trae muy nerviosos .\n",
      "“ es muy importante cuidar a el medio ambiente y que haya desarrollo social en las zonas turísticas , que no haya esta desigualdad tan monstruosa de que son paraísos turísticos rodeados de miseria , de colonias sin agua , sin drenaje , sin luz , sin pavimento , donde viven los trabajadores ” , indicó .\n",
      "dijo que se revisarán las llamadas reformas estructurales y llegando se cancelará la reforma educativa , porque solo sirvió para ofender a los maestros , pero habrá un plan educativo para mejorar la calidad de la enseñanza sin afectar los derechos laborales de el magisterio .\n",
      "añadió que se venderá la flotilla de aviones y helicópteros de el gobierno federal , así_como se cancelará la compra de 8 helicópteros artillados a estados_unidos que cuestan 25_mil_millones_de_pesos , “ nosotros queremos la guerra , nosotros no queremos el armamentismo , nosotros queremos la paz y la paz se consigue si hay justicia ” .\n",
      "asimismo , lópez_obrador dio_a_conocer víctor_villalobos será el próximo secretario de agricultura y habrá de nuevo subsidio a el campo , solo se tiene que pensar bien para que llegue a todos los productores , así_como se apoyará a los ganadores .\n"
     ]
    }
   ],
   "source": [
    "# k = 6889\n",
    "# sentences = random.sample(corpus, k=k)\n",
    "print('\\n'.join([' '.join(sent) for sent in sentences[::num_sents//10]]))"
   ]
  },
  {
   "cell_type": "markdown",
   "metadata": {},
   "source": [
    "## Indexar Corpus"
   ]
  },
  {
   "cell_type": "markdown",
   "metadata": {},
   "source": [
    "Cuento los tokens en todas las oraciones e imprimo los 40 más frecuentes."
   ]
  },
  {
   "cell_type": "code",
   "execution_count": 12,
   "metadata": {},
   "outputs": [
    {
     "name": "stdout",
     "output_type": "stream",
     "text": [
      "Wall time: 26 s\n"
     ]
    }
   ],
   "source": [
    "%%time\n",
    "freq = sum([Counter(sent) for sent in sentences], Counter())"
   ]
  },
  {
   "cell_type": "code",
   "execution_count": 13,
   "metadata": {},
   "outputs": [
    {
     "name": "stdout",
     "output_type": "stream",
     "text": [
      "Número de tipos: 13849\n",
      "[(',', 19701), ('guerrero', 46), ('colima', 21), ('competitividad', 13), ('apoye', 9), ('narcotráfico', 7), ('500', 5), ('tomado', 4), ('directivos', 3), ('jefa_de_gobierno', 3), ('dicte', 3), ('aceptado', 2), ('antiguas', 2), ('remito', 2), ('perjudica', 2), ('encima', 1), ('tendrá_lugar', 1), ('albergan', 1), ('brindando', 1), ('incurriera', 1), ('instituto_politécnico', 1), ('encuestadora', 1), ('honradamente', 1), ('declaren', 1), ('juan_carlos_plaza', 1), ('capal', 1)]\n"
     ]
    }
   ],
   "source": [
    "n_tipos = len(freq.keys())\n",
    "print(f'Número de tipos: {n_tipos}')\n",
    "print(freq.most_common()[::max(n_tipos//25, 1)])"
   ]
  },
  {
   "cell_type": "markdown",
   "metadata": {},
   "source": [
    "Agrego un diccionario para pasar de palabra a índice numérico"
   ]
  },
  {
   "cell_type": "code",
   "execution_count": 14,
   "metadata": {},
   "outputs": [],
   "source": [
    "w_to_index = {\n",
    "    w : ix\n",
    "    for ix, (w, freq) in enumerate(freq.most_common())\n",
    "    if freq > 1 # No toma en cuenta los hapax\n",
    "}"
   ]
  },
  {
   "cell_type": "code",
   "execution_count": 15,
   "metadata": {},
   "outputs": [
    {
     "data": {
      "text/plain": [
       "7793"
      ]
     },
     "execution_count": 15,
     "metadata": {},
     "output_type": "execute_result"
    }
   ],
   "source": [
    "vocab_size = len(w_to_index)\n",
    "vocab_size"
   ]
  },
  {
   "cell_type": "code",
   "execution_count": 16,
   "metadata": {},
   "outputs": [],
   "source": [
    "BOS = '<BOS>'\n",
    "EOS = '<EOS>'\n",
    "UNK = '<UNK>'\n",
    "\n",
    "ixBOS = vocab_size\n",
    "ixEOS = vocab_size + 1\n",
    "ixUNK = vocab_size + 2"
   ]
  },
  {
   "cell_type": "code",
   "execution_count": 17,
   "metadata": {},
   "outputs": [],
   "source": [
    "w_to_index[BOS] = ixBOS\n",
    "w_to_index[EOS] = ixEOS\n",
    "w_to_index[UNK] = ixUNK"
   ]
  },
  {
   "cell_type": "markdown",
   "metadata": {},
   "source": [
    "Calculo el nuevo tamaño del vocabulario después de agregar 3 tokens"
   ]
  },
  {
   "cell_type": "code",
   "execution_count": 18,
   "metadata": {},
   "outputs": [
    {
     "data": {
      "text/plain": [
       "7796"
      ]
     },
     "execution_count": 18,
     "metadata": {},
     "output_type": "execute_result"
    }
   ],
   "source": [
    "vocab_size = len(w_to_index)\n",
    "vocab_size"
   ]
  },
  {
   "cell_type": "markdown",
   "metadata": {},
   "source": [
    "Creo el diccionario inverso, para convertir de índices a palabras"
   ]
  },
  {
   "cell_type": "code",
   "execution_count": 19,
   "metadata": {},
   "outputs": [],
   "source": [
    "index_to_w = [ w for w, ix in w_to_index.items() ]"
   ]
  },
  {
   "cell_type": "markdown",
   "metadata": {},
   "source": [
    "Indexo todo el corpus"
   ]
  },
  {
   "cell_type": "code",
   "execution_count": 20,
   "metadata": {},
   "outputs": [],
   "source": [
    "def w_to_index_unk(w):\n",
    "    \"\"\"\n",
    "    Le asigna el token UNK a palabras que no aparezcan en el corpus\n",
    "    \"\"\"\n",
    "    try:\n",
    "        return w_to_index[w] \n",
    "    except KeyError:\n",
    "        return ixUNK"
   ]
  },
  {
   "cell_type": "code",
   "execution_count": 21,
   "metadata": {},
   "outputs": [
    {
     "name": "stdout",
     "output_type": "stream",
     "text": [
      "Ejemplos X\n",
      "[array([7793,   44,  119, 1035,    8, 1998,   19, 1117,    1,  289, 5634,\n",
      "          6]), array([7793,    5,    3, 1999,    1, 2000, 3203,    0,   75, 1036,    7,\n",
      "       1732,    5,   21, 2844,    0,    3,   25,    1,    4,   41,   91,\n",
      "          0,   44,    0, 2567,   65,  892,    5,    3, 7795,    0,  861,\n",
      "          0, 4420,    1,  628,    0,    8,    4, 5635,    1,   21,   50,\n",
      "        142,    2,   20, 2138,    5, 2316,   57,    3, 1446,  178,    6]), array([7793,    3,  225,   55,  119, 1035,   19, 2568,    1,  289,    2,\n",
      "         10, 1733,    8,    4, 2139, 2317,    1,    4,  430, 3203,    0,\n",
      "        102, 5636, 5637, 7795,   13,   21, 7795,    6])]\n",
      "Ejemplos Y\n",
      "[array([  44,  119, 1035,    8, 1998,   19, 1117,    1,  289, 5634,    6,\n",
      "       7794]), array([   5,    3, 1999,    1, 2000, 3203,    0,   75, 1036,    7, 1732,\n",
      "          5,   21, 2844,    0,    3,   25,    1,    4,   41,   91,    0,\n",
      "         44,    0, 2567,   65,  892,    5,    3, 7795,    0,  861,    0,\n",
      "       4420,    1,  628,    0,    8,    4, 5635,    1,   21,   50,  142,\n",
      "          2,   20, 2138,    5, 2316,   57,    3, 1446,  178,    6, 7794]), array([   3,  225,   55,  119, 1035,   19, 2568,    1,  289,    2,   10,\n",
      "       1733,    8,    4, 2139, 2317,    1,    4,  430, 3203,    0,  102,\n",
      "       5636, 5637, 7795,   13,   21, 7795,    6, 7794])]\n"
     ]
    }
   ],
   "source": [
    "sentences_ix = [\n",
    "    # Le agrego el inicio y fin de caracter a los enunciados\n",
    "    [ixBOS] + [ w_to_index_unk(w) for w in sent ] + [ixEOS] \n",
    "    for sent in sentences\n",
    "]\n",
    "\n",
    "X = [ np.asarray(sent[:-1]) for sent in sentences_ix ]\n",
    "Y = [ np.asarray(sent[1:]) for sent in sentences_ix ] \n",
    "\n",
    "print('Ejemplos X')\n",
    "print(X[:3])\n",
    "print('Ejemplos Y')\n",
    "print(Y[:3])"
   ]
  },
  {
   "cell_type": "code",
   "execution_count": 22,
   "metadata": {},
   "outputs": [],
   "source": [
    "X_train, X_test, Y_train, Y_test = train_test_split(X, Y, test_size=0.30)"
   ]
  },
  {
   "cell_type": "code",
   "execution_count": 23,
   "metadata": {},
   "outputs": [
    {
     "name": "stdout",
     "output_type": "stream",
     "text": [
      "4822\n",
      "2067\n"
     ]
    }
   ],
   "source": [
    "print(len(X_train))\n",
    "print(len(X_test))"
   ]
  },
  {
   "cell_type": "markdown",
   "metadata": {},
   "source": [
    "Mando los vectores de entrada y salida a tensores en gpu"
   ]
  },
  {
   "cell_type": "code",
   "execution_count": 24,
   "metadata": {},
   "outputs": [],
   "source": [
    "def to_pytorch_tensor(list_of_lists):\n",
    "    return [\n",
    "        torch.from_numpy(l).long().to(device)\n",
    "        for l in list_of_lists\n",
    "    ]"
   ]
  },
  {
   "cell_type": "code",
   "execution_count": 25,
   "metadata": {},
   "outputs": [],
   "source": [
    "X_train = to_pytorch_tensor(X_train)\n",
    "Y_train = to_pytorch_tensor(Y_train)\n",
    "\n",
    "X_test = to_pytorch_tensor(X_test)\n",
    "Y_test = to_pytorch_tensor(Y_test)"
   ]
  },
  {
   "cell_type": "markdown",
   "metadata": {},
   "source": [
    "## Modelo\n",
    "\n",
    "### 1. Capa de embedding\n",
    "\n",
    "### 2. Capa oculta\n",
    "\n",
    "### 3. Capa de salida"
   ]
  },
  {
   "cell_type": "markdown",
   "metadata": {},
   "source": [
    "Defino las variables para la red neuronal"
   ]
  },
  {
   "cell_type": "code",
   "execution_count": 26,
   "metadata": {},
   "outputs": [],
   "source": [
    "# Dimensión de entrada (one-hot), tamaño del vocabulario\n",
    "D_in = vocab_size\n",
    "\n",
    "# Dimensión de la capa de embedding\n",
    "D_emb = 32 # 32\n",
    "\n",
    "# Dimensión de la capa lstm\n",
    "D_lstm = 16 # 16\n",
    "\n",
    "# Dimensión de la capa de salida\n",
    "D_out = D_in\n",
    "\n",
    "# Épocas de entrenamiento\n",
    "num_epochs = 300\n",
    "\n",
    "# Betas para Adam\n",
    "beta1 = 0.0001\n",
    "beta2 = 0.99\n",
    "\n",
    "# Learning rate\n",
    "lr =  0.1"
   ]
  },
  {
   "cell_type": "code",
   "execution_count": 27,
   "metadata": {},
   "outputs": [],
   "source": [
    "class Model(nn.Module):\n",
    "    def __init__(self, ngpu, D_in, D_emb, D_lstm, D_out):\n",
    "        super(Model, self).__init__()\n",
    "        self.ngpu = ngpu\n",
    "        self.embedding = nn.Embedding(num_embeddings=D_in, embedding_dim=D_emb)#, padding_idx=0)\n",
    "        self.lstm = nn.LSTM(input_size=D_emb, hidden_size=D_lstm) #, bias=True)#, batch_first=True)\n",
    "        self.linear = nn.Linear(in_features=D_lstm, out_features=D_out) #, bias=True)\n",
    "\n",
    "    def forward(self, sentence):\n",
    "        T = len(sentence)\n",
    "\n",
    "        embeddings = self.embedding(sentence).view(T, 1, -1)\n",
    "\n",
    "        lstm_out, (ht, ct) = self.lstm(embeddings)\n",
    "        lstm_out = lstm_out.view(T, -1)\n",
    "\n",
    "        preact_out = self.linear(lstm_out).view(T, -1)\n",
    "\n",
    "        return F.log_softmax(preact_out, dim=1)"
   ]
  },
  {
   "cell_type": "code",
   "execution_count": 28,
   "metadata": {},
   "outputs": [
    {
     "data": {
      "text/plain": [
       "Model(\n",
       "  (embedding): Embedding(7796, 32)\n",
       "  (lstm): LSTM(32, 16)\n",
       "  (linear): Linear(in_features=16, out_features=7796, bias=True)\n",
       ")"
      ]
     },
     "execution_count": 28,
     "metadata": {},
     "output_type": "execute_result"
    }
   ],
   "source": [
    "model = Model(ngpu, D_in, D_emb, D_lstm, D_out).to(device)\n",
    "model"
   ]
  },
  {
   "cell_type": "code",
   "execution_count": 29,
   "metadata": {},
   "outputs": [],
   "source": [
    "# Inicialización de pesos\n",
    "# def weights_init(m):\n",
    "#     classname = m.__class__.__name__\n",
    "#     if classname.find('Embedding') != -1:\n",
    "#         # Regularizo los pesos\n",
    "#         n = m.num_embeddings\n",
    "#         y = 1.0/np.sqrt(n)\n",
    "#         m.weight.data.uniform_(-y, y)\n",
    "#     elif classname.find('Linear') != -1:\n",
    "#         n = m.in_features\n",
    "#         y = 1.0/np.sqrt(n)\n",
    "#         m.weight.data.uniform_(-y, y)\n",
    "#         m.bias.data.fill_(0)\n",
    "#     elif classname.find('LSTM') != -1:\n",
    "#         n = m.input_size\n",
    "#         y = 1.0/np.sqrt(n)\n",
    "#         m.weight_ih_l0.data.uniform_(-y, y)\n",
    "#         m.weight_hh_l0.data.uniform_(-y, y)\n",
    "#         m.bias_ih_l0.data.fill_(0)\n",
    "#         m.bias_hh_l0.data.fill_(0)"
   ]
  },
  {
   "cell_type": "code",
   "execution_count": 30,
   "metadata": {},
   "outputs": [],
   "source": [
    "# model.apply(weights_init)"
   ]
  },
  {
   "cell_type": "markdown",
   "metadata": {},
   "source": [
    "Entropía cruzada como optmizador y SGD como optimizador"
   ]
  },
  {
   "cell_type": "code",
   "execution_count": 31,
   "metadata": {},
   "outputs": [],
   "source": [
    "criterion = nn.NLLLoss()\n",
    "criterion.to(device)\n",
    "# criterion = nn.NLLLoss()\n",
    "# optimizer = torch.optim.Adam(model.parameters(), lr=lr, betas=(beta1, beta2))\n",
    "optimizer = torch.optim.SGD(model.parameters(), lr=lr)"
   ]
  },
  {
   "cell_type": "markdown",
   "metadata": {},
   "source": [
    "### Entrenamiento"
   ]
  },
  {
   "cell_type": "code",
   "execution_count": 32,
   "metadata": {
    "tags": [
     "outputPrepend"
    ]
   },
   "outputs": [
    {
     "data": {
      "application/vnd.jupyter.widget-view+json": {
       "model_id": "526cc2fcec164217a1e51be979567859",
       "version_major": 2,
       "version_minor": 0
      },
      "text/plain": [
       "HBox(children=(FloatProgress(value=0.0, max=300.0), HTML(value='')))"
      ]
     },
     "metadata": {},
     "output_type": "display_data"
    },
    {
     "name": "stdout",
     "output_type": "stream",
     "text": [
      "Coste después de 1 épocas: 29586.33521795273\n",
      "Coste después de 21 épocas: 23045.75836133957\n",
      "Coste después de 41 épocas: 21993.18262529373\n",
      "Coste después de 61 épocas: 21330.63555073738\n",
      "Coste después de 81 épocas: 20866.377475857735\n",
      "Coste después de 101 épocas: 20508.08817899227\n",
      "Coste después de 121 épocas: 20226.031289815903\n",
      "Coste después de 141 épocas: 19998.21378850937\n",
      "Coste después de 161 épocas: 19797.864720582962\n",
      "Coste después de 181 épocas: 19629.004155278206\n",
      "Coste después de 201 épocas: 19483.502443432808\n",
      "Coste después de 221 épocas: 19351.651683568954\n",
      "Coste después de 241 épocas: 19232.752661585808\n",
      "Coste después de 261 épocas: 19126.964255928993\n",
      "Coste después de 281 épocas: 19034.05273604393\n",
      "\n",
      "Wall time: 1h 54min 25s\n"
     ]
    }
   ],
   "source": [
    "%%time\n",
    "for epoch in tqdm(range(num_epochs)):\n",
    "# for epoch in range(10):\n",
    "# for epoch in range(num_epochs):\n",
    "    epoch_loss = 0\n",
    "    # for x, y in zip(X_train, Y_train):\n",
    "    for x, y in zip(X_train, Y_train):\n",
    "        if len(x) == 0:\n",
    "            tqdm.write('Sentencia vacía')\n",
    "            continue\n",
    "        # Limpiamos gradientes acumulados\n",
    "        model.zero_grad()\n",
    "\n",
    "        # Forward\n",
    "        out = model(x)\n",
    "     \n",
    "        loss = criterion(out, y)\n",
    "        loss.backward()\n",
    "        optimizer.step()\n",
    "        epoch_loss += loss.item()\n",
    "        # break\n",
    "    # tqdm.write(f'Epoch: {epoch:>12} Loss: {loss}')\n",
    "    # break\n",
    "    if epoch%20 == 0:\n",
    "        tqdm.write(f'Coste después de {epoch+1} épocas: {epoch_loss}')"
   ]
  },
  {
   "cell_type": "code",
   "execution_count": 33,
   "metadata": {},
   "outputs": [],
   "source": [
    "# list(model.named_parameters())"
   ]
  },
  {
   "cell_type": "code",
   "execution_count": 34,
   "metadata": {},
   "outputs": [],
   "source": [
    "def print_ix_sentence(sentence):\n",
    "    print(' '.join(index_to_w[ix] for ix in sentence.data))"
   ]
  },
  {
   "cell_type": "code",
   "execution_count": 35,
   "metadata": {},
   "outputs": [
    {
     "name": "stdout",
     "output_type": "stream",
     "text": [
      "===================================================\n",
      "- Probando enunciado:\n",
      "<BOS> en entrevista , el candidato por la coalición “ juntos haremos historia ” a la presidencia_de_méxico deseó que los gobernadores se <UNK> en el sentido de que se respetará la voluntad de los ciudadanos y de que se va a respetar a quien <UNK> triunfador en los procesos electorales .\n",
      "\n",
      "- Predicción:\n",
      "“ otro , andrés_manuel_lópez_obrador candidato de la coalición “ juntos haremos historia ” en el presidencia_de_la_república , que el <UNK> de <UNK> a la país de la se <UNK> a <UNK> de la mexicanos , la el se <UNK> a ganar la el <UNK> , , el últimos de , <EOS>\n",
      "- Real:\n",
      "en entrevista , el candidato por la coalición “ juntos haremos historia ” a la presidencia_de_méxico deseó que los gobernadores se <UNK> en el sentido de que se respetará la voluntad de los ciudadanos y de que se va a respetar a quien <UNK> triunfador en los procesos electorales . <EOS>\n",
      "\n",
      "\n",
      "===================================================\n",
      "- Probando enunciado:\n",
      "<BOS> “ vamos a ganar porque aquí está la estructura , porque hay perfil , propuestas , sentido de historia y una apuesta hacia el futuro .\n",
      "\n",
      "- Predicción:\n",
      "“ vamos a ganar la se es <UNK> corrupción de a no un . porque , que , manera , que <UNK> , electo <UNK> de <EOS>\n",
      "- Real:\n",
      "“ vamos a ganar porque aquí está la estructura , porque hay perfil , propuestas , sentido de historia y una apuesta hacia el futuro . <EOS>\n",
      "\n",
      "\n",
      "===================================================\n",
      "- Probando enunciado:\n",
      "<BOS> “ pero como ellos no piensan de esa manera , ahora tenemos todavía 75 homicidios diarios en el país , es muy triste lo que está pasando , yo estoy haciendo el compromiso con todo el pueblo de méxico de atender las causas que originaron la violencia en méxico que haya justicia ” , expresó .\n",
      "\n",
      "- Predicción:\n",
      "“ vamos no no no se , el <UNK> , porque , que , <UNK> , , el país , no un <UNK> y que se en a a no a el país de la el país , el , el el mujeres que se de <UNK> , el , se un , , dijo . <EOS>\n",
      "- Real:\n",
      "“ pero como ellos no piensan de esa manera , ahora tenemos todavía 75 homicidios diarios en el país , es muy triste lo que está pasando , yo estoy haciendo el compromiso con todo el pueblo de méxico de atender las causas que originaron la violencia en méxico que haya justicia ” , expresó . <EOS>\n",
      "\n",
      "\n",
      "===================================================\n",
      "- Probando enunciado:\n",
      "<BOS> indicó que no se privatizará el agua , porque acaban de firma un acuerdo y ese acuerdo va para atrás , se le dará estudio y trabajo a los jóvenes ; se cancelará la mal llamada reforma educativa , el domingo se va a elegir una nueva política .\n",
      "\n",
      "- Predicción:\n",
      "“ que el se <UNK> la <UNK> , porque se , el la gobierno de que mismo , a que , a <UNK> <UNK> <UNK> el de , el mexicanos , la comprometió la <UNK> llamada reforma educativa , no candidato , <UNK> a ganar , <UNK> de , <EOS>\n",
      "- Real:\n",
      "indicó que no se privatizará el agua , porque acaban de firma un acuerdo y ese acuerdo va para atrás , se le dará estudio y trabajo a los jóvenes ; se cancelará la mal llamada reforma educativa , el domingo se va a elegir una nueva política . <EOS>\n",
      "\n",
      "\n",
      "===================================================\n",
      "- Probando enunciado:\n",
      "<BOS> previamente , el candidato por la coalición por el a la presidencia_de_la_república expresó que están muy nerviosos sus adversarios , porque va a arriba en los estados de el norte : baja_california_sur , sonora , sinaloa , nayarit , jalisco , durango , coahuila , aguascalientes , zacatecas , “ vamos a arriba en baja_california , lo tienen en la punta de la lengua .\n",
      "\n",
      "- Predicción:\n",
      "“ , el candidato de la coalición “ la <UNK> “ coalición , que en <UNK> bien , <UNK> , porque se a ganar , el últimos , el país de “ . porque , josé_antonio_meade , josé_antonio_meade , josé_antonio_meade . y , josé_antonio_meade , y . josé_antonio_meade . josé_antonio_meade , a los , el , josé_antonio_meade que que el <UNK> de la coalición . <EOS>\n",
      "- Real:\n",
      "previamente , el candidato por la coalición por el a la presidencia_de_la_república expresó que están muy nerviosos sus adversarios , porque va a arriba en los estados de el norte : baja_california_sur , sonora , sinaloa , nayarit , jalisco , durango , coahuila , aguascalientes , zacatecas , “ vamos a arriba en baja_california , lo tienen en la punta de la lengua . <EOS>\n",
      "\n",
      "\n",
      "===================================================\n",
      "- Probando enunciado:\n",
      "<BOS> comentó que no vivirá en la residencia de los_pinos , porque está embrujada , ahí hay malas vibras , ahí espantan , aparece “ el chupacabras ” , ni con los mejores científicos , ni con varias limpias se va a purificar , solo abriendo las puertas de par en par se limpiará , no vivirá en una mansión , sino en la actual casa que vive que es la casa de todos .\n",
      "\n",
      "- Predicción:\n",
      "“ que el haya en la <UNK> <UNK> el , porque se <UNK> a porque se un <UNK> , porque se , porque el la que , , dijo , <UNK> de “ , porque en <UNK> <UNK> . , a los el que no un mujeres , el de el , <UNK> a porque se en la <UNK> . porque de el <UNK> nueva de se , se un paz , el , <EOS>\n",
      "- Real:\n",
      "comentó que no vivirá en la residencia de los_pinos , porque está embrujada , ahí hay malas vibras , ahí espantan , aparece “ el chupacabras ” , ni con los mejores científicos , ni con varias limpias se va a purificar , solo abriendo las puertas de par en par se limpiará , no vivirá en una mansión , sino en la actual casa que vive que es la casa de todos . <EOS>\n",
      "\n",
      "\n",
      "===================================================\n",
      "- Probando enunciado:\n",
      "<BOS> durante su discurso , el candidato por la coalición “ juntos haremos historia ” a la presidencia_de_la_república contrastó entre lo que ha sucedido con los gobiernos que han aplicado la política neoliberal y lo que será la nueva política que aplicará el nuevo gobierno democrático : mientras , prosiguió , nosotros queremos acabar con la corrupción , que no se roben los bienes de el pueblo y de la nación ; que ya no se roben el dinero de el presupuesto que es de el pueblo , eso es el cambio y no como actualmente sucede en los últimos 35 años ha <UNK> la corrupción como nunca en el país .\n",
      "\n",
      "- Predicción:\n",
      "“ el gobierno en <UNK> candidato de la coalición “ juntos haremos historia ” en el presidencia_de_la_república , de la que “ <UNK> , <UNK> de de se <UNK> , <UNK> , , <UNK> que <UNK> que gente de , se un presidente gobierno , , “ que <UNK> , porque vamos la a la <UNK> , porque no se <UNK> el de , los poder , a la paz , a el no se <UNK> el pueblo de el país de se un la país , no no un gobierno de de se <UNK> , , la últimos días a , sido , <UNK> , <UNK> , la país , <EOS>\n",
      "- Real:\n",
      "durante su discurso , el candidato por la coalición “ juntos haremos historia ” a la presidencia_de_la_república contrastó entre lo que ha sucedido con los gobiernos que han aplicado la política neoliberal y lo que será la nueva política que aplicará el nuevo gobierno democrático : mientras , prosiguió , nosotros queremos acabar con la corrupción , que no se roben los bienes de el pueblo y de la nación ; que ya no se roben el dinero de el presupuesto que es de el pueblo , eso es el cambio y no como actualmente sucede en los últimos 35 años ha <UNK> la corrupción como nunca en el país . <EOS>\n",
      "\n",
      "\n",
      "===================================================\n",
      "- Probando enunciado:\n",
      "<BOS> expresó estar seguro que lo candidatos de la coalición “ juntos haremos historia ” a regidores , presidentes municipales , diputados locales , diputados federales , senadores , gobernadores , todos hacer campaña , visitar 150 casas diarias .\n",
      "\n",
      "- Predicción:\n",
      "“ que <UNK> . se de de los coalición “ juntos haremos historia ” en el , porque y , porque , y porque , y que . porque , a los la , porque la <UNK> que , <EOS>\n",
      "- Real:\n",
      "expresó estar seguro que lo candidatos de la coalición “ juntos haremos historia ” a regidores , presidentes municipales , diputados locales , diputados federales , senadores , gobernadores , todos hacer campaña , visitar 150 casas diarias . <EOS>\n",
      "\n",
      "\n",
      "===================================================\n",
      "- Probando enunciado:\n",
      "<BOS> adelante amlo que en el segundo debate aumentará otros 5 puntos en las preferencias electorales .\n",
      "\n",
      "- Predicción:\n",
      "“ que que no méxico gobierno lugar , el <UNK> <UNK> de el encuestas de . <EOS>\n",
      "- Real:\n",
      "adelante amlo que en el segundo debate aumentará otros 5 puntos en las preferencias electorales . <EOS>\n",
      "\n",
      "\n",
      "===================================================\n",
      "- Probando enunciado:\n",
      "<BOS> señaló que no por el festejo , porque se ganará , ni porque se cuenten los votos primero de el presidente , y todo el mundo se dedique festejar , se abandone el recuento de las otras elecciones , “ tenemos que estar ahí hasta el final , porque estamos pidiendo que sea el voto parejo ” .\n",
      "\n",
      "- Predicción:\n",
      "“ que en se qué gobierno , porque no <UNK> la a a vamos <UNK> con de , de julio <UNK> de no que el candidato , <UNK> , , porque <UNK> la país , el mujeres <UNK> . porque vamos que <UNK> <UNK> <UNK> la país , porque se a que el que candidato útil por , <EOS>\n",
      "- Real:\n",
      "señaló que no por el festejo , porque se ganará , ni porque se cuenten los votos primero de el presidente , y todo el mundo se dedique festejar , se abandone el recuento de las otras elecciones , “ tenemos que estar ahí hasta el final , porque estamos pidiendo que sea el voto parejo ” . <EOS>\n",
      "\n",
      "\n"
     ]
    }
   ],
   "source": [
    "# See what the scores are after training\n",
    "with torch.no_grad():\n",
    "    for sentence, y in zip(X_test[:10], Y_test[:10]):\n",
    "        print('===================================================')\n",
    "        print('- Probando enunciado:')\n",
    "        print_ix_sentence(sentence)\n",
    "        print()\n",
    "\n",
    "        out = model(sentence)\n",
    "        prediccion = torch.argmax(out, dim=1)\n",
    "        print('- Predicción:')\n",
    "        print_ix_sentence(prediccion)\n",
    "        print\n",
    "        print('- Real:')\n",
    "        print_ix_sentence(y)\n",
    "        print('\\n')"
   ]
  },
  {
   "cell_type": "code",
   "execution_count": 45,
   "metadata": {},
   "outputs": [],
   "source": [
    "torch.save(model.state_dict(), 'model-seed42069')"
   ]
  },
  {
   "cell_type": "code",
   "execution_count": 36,
   "metadata": {},
   "outputs": [],
   "source": [
    "# params = list(model.named_parameters())\n",
    "# list(model.named_parameters())"
   ]
  },
  {
   "cell_type": "code",
   "execution_count": 37,
   "metadata": {},
   "outputs": [],
   "source": [
    "# embs = model.embedding.weight"
   ]
  },
  {
   "cell_type": "code",
   "execution_count": 38,
   "metadata": {},
   "outputs": [],
   "source": [
    "# npembs = embs.detach().to('cpu').numpy()"
   ]
  },
  {
   "cell_type": "code",
   "execution_count": 39,
   "metadata": {},
   "outputs": [],
   "source": [
    "# npembs"
   ]
  },
  {
   "cell_type": "code",
   "execution_count": 40,
   "metadata": {},
   "outputs": [],
   "source": [
    "# npembs[:,0]"
   ]
  },
  {
   "cell_type": "code",
   "execution_count": 41,
   "metadata": {},
   "outputs": [],
   "source": [
    "# npembs[:,1]"
   ]
  },
  {
   "cell_type": "code",
   "execution_count": 42,
   "metadata": {},
   "outputs": [],
   "source": [
    "# plt.scatter(npembs[:,0], npembs[:,1])\n",
    "# r=0\n",
    "# for label,x,y in zip(index_to_w, npembs[:,0], npembs[:,1]):\n",
    "#     plt.annotate(label, xy=(x,y), xytext=(-1,1), textcoords='offset points', ha='center', va='bottom')\n",
    "#     r+=1\n",
    "# plt.show()"
   ]
  },
  {
   "cell_type": "code",
   "execution_count": 43,
   "metadata": {},
   "outputs": [],
   "source": [
    "# index_to_w"
   ]
  },
  {
   "cell_type": "code",
   "execution_count": 44,
   "metadata": {},
   "outputs": [],
   "source": [
    "# params[0][1]"
   ]
  },
  {
   "cell_type": "code",
   "execution_count": null,
   "metadata": {},
   "outputs": [],
   "source": []
  }
 ],
 "metadata": {
  "kernelspec": {
   "display_name": "Python 3.7.7 64-bit ('aypit-2020-2': conda)",
   "language": "python",
   "name": "python37764bitaypit20202conda2eb9642ad5e346f38de29b14c14576bc"
  },
  "language_info": {
   "codemirror_mode": {
    "name": "ipython",
    "version": 3
   },
   "file_extension": ".py",
   "mimetype": "text/x-python",
   "name": "python",
   "nbconvert_exporter": "python",
   "pygments_lexer": "ipython3",
   "version": "3.7.7"
  }
 },
 "nbformat": 4,
 "nbformat_minor": 2
}
