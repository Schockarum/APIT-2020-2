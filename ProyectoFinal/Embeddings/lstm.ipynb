{
 "cells": [
  {
   "cell_type": "markdown",
   "metadata": {},
   "source": [
    "# Embeddings con LSTM\n",
    "\n"
   ]
  },
  {
   "cell_type": "code",
   "execution_count": 1,
   "metadata": {},
   "outputs": [],
   "source": [
    "import torch\n",
    "import torch.nn as nn\n",
    "import torch.nn.functional as F\n",
    "from collections import Counter\n",
    "import random\n",
    "import matplotlib.pyplot as plt\n",
    "# from itertools import chain\n",
    "# from pprint import pprint\n",
    "import numpy as np\n",
    "from sklearn.model_selection import train_test_split\n",
    "from tqdm.notebook import tqdm"
   ]
  },
  {
   "cell_type": "code",
   "execution_count": 2,
   "metadata": {},
   "outputs": [
    {
     "name": "stdout",
     "output_type": "stream",
     "text": [
      "C:\\Users\\Usuario.000\\Documents\\Facultad\\Git\\2020-2\\APIT-2020-2\\ProyectoFinal\\helpers\n"
     ]
    }
   ],
   "source": [
    "cd ../helpers/"
   ]
  },
  {
   "cell_type": "code",
   "execution_count": 3,
   "metadata": {},
   "outputs": [],
   "source": [
    "import boletines"
   ]
  },
  {
   "cell_type": "code",
   "execution_count": 4,
   "metadata": {},
   "outputs": [
    {
     "name": "stdout",
     "output_type": "stream",
     "text": [
      "C:\\Users\\Usuario.000\\Documents\\Facultad\\Git\\2020-2\\APIT-2020-2\\ProyectoFinal\\Embeddings\n"
     ]
    }
   ],
   "source": [
    "cd ../Embeddings/"
   ]
  },
  {
   "cell_type": "markdown",
   "metadata": {},
   "source": [
    "## Definición de constantes"
   ]
  },
  {
   "cell_type": "code",
   "execution_count": 5,
   "metadata": {},
   "outputs": [
    {
     "name": "stdout",
     "output_type": "stream",
     "text": [
      "Random Seed:  42069\n"
     ]
    }
   ],
   "source": [
    "# Número de GPUs disponibles. Usar 0 para modo CPU.\n",
    "ngpu = 1\n",
    "\n",
    "# Fuente de la cual queremos obtener los datos\n",
    "source = 'freeling'\n",
    "\n",
    "# Semilla a usar en los generadores de números aleatorios\n",
    "SEED = 42069\n",
    "# SEED = random.randint(1, 10000) # En caso de requerir más resultados\n",
    "random.seed(SEED)\n",
    "np.random.seed(SEED)\n",
    "torch.manual_seed(SEED)\n",
    "\n",
    "print(\"Random Seed: \", SEED)"
   ]
  },
  {
   "cell_type": "markdown",
   "metadata": {},
   "source": [
    "Selecciono el tipo de dispositivo a utilizar (gpu o cpu)"
   ]
  },
  {
   "cell_type": "code",
   "execution_count": 6,
   "metadata": {},
   "outputs": [
    {
     "data": {
      "text/plain": [
       "device(type='cuda', index=0)"
      ]
     },
     "execution_count": 6,
     "metadata": {},
     "output_type": "execute_result"
    }
   ],
   "source": [
    "# Decide si queremos correr en gpu o cpu\n",
    "device = torch.device(\"cuda:0\" if (torch.cuda.is_available() and ngpu > 0) else \"cpu\")\n",
    "device"
   ]
  },
  {
   "cell_type": "markdown",
   "metadata": {},
   "source": [
    "## Obtener corpus"
   ]
  },
  {
   "cell_type": "code",
   "execution_count": 7,
   "metadata": {},
   "outputs": [],
   "source": [
    "uri = open('./../mongo_uri.txt', 'r', encoding='utf-8').read()"
   ]
  },
  {
   "cell_type": "code",
   "execution_count": 8,
   "metadata": {},
   "outputs": [
    {
     "name": "stdout",
     "output_type": "stream",
     "text": [
      "Wall time: 3.72 s\n"
     ]
    }
   ],
   "source": [
    "%%time\n",
    "dict_sentences = boletines.sentences(uri, source)"
   ]
  },
  {
   "cell_type": "markdown",
   "metadata": {},
   "source": [
    "Paso los tokens a minúsculas para reducir el tamaño del vocabulario"
   ]
  },
  {
   "cell_type": "code",
   "execution_count": 9,
   "metadata": {},
   "outputs": [
    {
     "name": "stdout",
     "output_type": "stream",
     "text": [
      "El corpus consta de 6583 enunciados.\n",
      "Tamaño mínimo: 3 tokens.\n",
      "Tamaño máximo: 131 tokens.\n",
      "Tamaño promedio: 39.80191402096309 tokens.\n",
      "Desviación estándar: 18.703258140465145 tokens.\n"
     ]
    }
   ],
   "source": [
    "sentences = [[w.lower() for w in sent] for sent in dict_sentences['sentences']]\n",
    "print(f'El corpus consta de {dict_sentences[\"count\"]} enunciados.')\n",
    "print(f'Tamaño mínimo: {dict_sentences[\"min\"]} tokens.')\n",
    "print(f'Tamaño máximo: {dict_sentences[\"max\"]} tokens.')\n",
    "print(f'Tamaño promedio: {dict_sentences[\"avg\"]} tokens.')\n",
    "print(f'Desviación estándar: {dict_sentences[\"std\"]} tokens.')"
   ]
  },
  {
   "cell_type": "markdown",
   "metadata": {},
   "source": [
    "Imprimo algunas oraciones de muestra"
   ]
  },
  {
   "cell_type": "code",
   "execution_count": 10,
   "metadata": {},
   "outputs": [
    {
     "name": "stdout",
     "output_type": "stream",
     "text": [
      "1.- el candidato de la coalición todos por méxico a la presidencia de la república , josé antonio meade , presentó la coordinación de atención ciudadana y el buzón del candidato .\n",
      "\n",
      "2.- un méxico sin impunidad , en el que el que la hace , la tiene que pagar .\n",
      "\n",
      "3.- asegura que se podría reunir con los de la mafia del poder \" siempre y cuando se respete el estado de derecho \" .\n",
      "\n",
      "4.- en colima , donde más de 3 mil personas lo recibieron efusivamente para demostrarle su apoyo , el candidato a la presidencia de la república aseveró que recuperar la paz hoy fundamental , pues no tiene paz quien no puede salir a la calle con tranquilidad , pero tampoco quien no sabe qué va a comer al día siguiente .\n",
      "\n",
      "5.- en chiapas , dijo , tenemos el conocimiento de la gente que conoce la tierra y se comprometió a apoyar a agricultores , ganaderos cuando presente el plan de desarrollo de la región .\n",
      "\n",
      "6.- llama amlo a los ciudadanos a ir todos a votar el primero de julio para ganar de manera contundente .\n"
     ]
    }
   ],
   "source": [
    "step = max(dict_sentences[\"count\"]//5, 1)\n",
    "print('\\n\\n'.join(\n",
    "    [ f\"{i+1}.- {' '.join(sent)}\" for i, sent in enumerate(sentences[::step]) ]\n",
    "))"
   ]
  },
  {
   "cell_type": "markdown",
   "metadata": {},
   "source": [
    "## Indexar Corpus"
   ]
  },
  {
   "cell_type": "markdown",
   "metadata": {},
   "source": [
    "Cuento los tokens en todas las oraciones e imprimo algunos de ellos."
   ]
  },
  {
   "cell_type": "code",
   "execution_count": 11,
   "metadata": {},
   "outputs": [
    {
     "name": "stdout",
     "output_type": "stream",
     "text": [
      "Wall time: 28.2 s\n"
     ]
    }
   ],
   "source": [
    "%%time\n",
    "freq = sum([Counter(sent) for sent in sentences], Counter())"
   ]
  },
  {
   "cell_type": "code",
   "execution_count": 12,
   "metadata": {},
   "outputs": [
    {
     "name": "stdout",
     "output_type": "stream",
     "text": [
      "Número de tipos: 12789\n",
      "[(',', 19112), ('poco', 52), ('alegría', 24), ('cancún', 15), ('movilidad', 10), ('valles', 8), ('erario', 6), ('vigor', 5), ('arizpe', 4), ('amozoc', 3), ('resucitará', 3), ('movilizar', 2), ('rehén', 2), ('traducirse', 2), ('costilla', 2), ('brindará', 1), ('flexibles', 1), ('contemplen', 1), ('plantación', 1), ('acaparadores', 1), ('banqueros', 1), ('precipitar', 1), ('responsabilizarlo', 1), ('escuché', 1), ('calumnió', 1), ('postulado', 1)]\n"
     ]
    }
   ],
   "source": [
    "n_tipos = len(freq.keys())\n",
    "print(f'Número de tipos: {n_tipos}')\n",
    "print(freq.most_common()[::max(n_tipos//25, 1)])"
   ]
  },
  {
   "cell_type": "markdown",
   "metadata": {},
   "source": [
    "Agrego un diccionario para pasar de palabra a índice numérico"
   ]
  },
  {
   "cell_type": "code",
   "execution_count": 13,
   "metadata": {},
   "outputs": [],
   "source": [
    "w_to_ix = {\n",
    "    w : ix\n",
    "    for ix, (w, freq) in enumerate(freq.most_common())\n",
    "    if freq > 1 # No toma en cuenta los hapax\n",
    "}"
   ]
  },
  {
   "cell_type": "code",
   "execution_count": 14,
   "metadata": {},
   "outputs": [
    {
     "data": {
      "text/plain": [
       "7471"
      ]
     },
     "execution_count": 14,
     "metadata": {},
     "output_type": "execute_result"
    }
   ],
   "source": [
    "vocab_size = len(w_to_ix)\n",
    "vocab_size"
   ]
  },
  {
   "cell_type": "markdown",
   "metadata": {},
   "source": [
    "Agrego símbolos de inicio y fin de cadena, así como el token <UNK\\> para palabras no vistas"
   ]
  },
  {
   "cell_type": "code",
   "execution_count": 15,
   "metadata": {},
   "outputs": [],
   "source": [
    "BOS = '<BOS>'\n",
    "EOS = '<EOS>'\n",
    "UNK = '<UNK>'\n",
    "\n",
    "ixBOS = vocab_size\n",
    "ixEOS = vocab_size + 1\n",
    "ixUNK = vocab_size + 2"
   ]
  },
  {
   "cell_type": "code",
   "execution_count": 16,
   "metadata": {},
   "outputs": [],
   "source": [
    "w_to_ix[BOS] = ixBOS\n",
    "w_to_ix[EOS] = ixEOS\n",
    "w_to_ix[UNK] = ixUNK"
   ]
  },
  {
   "cell_type": "markdown",
   "metadata": {},
   "source": [
    "Calculo el nuevo tamaño del vocabulario después de agregar 3 tokens"
   ]
  },
  {
   "cell_type": "code",
   "execution_count": 17,
   "metadata": {},
   "outputs": [
    {
     "data": {
      "text/plain": [
       "7474"
      ]
     },
     "execution_count": 17,
     "metadata": {},
     "output_type": "execute_result"
    }
   ],
   "source": [
    "vocab_size = len(w_to_ix)\n",
    "vocab_size"
   ]
  },
  {
   "cell_type": "markdown",
   "metadata": {},
   "source": [
    "Creo el diccionario inverso, para convertir de índices a palabras"
   ]
  },
  {
   "cell_type": "code",
   "execution_count": 18,
   "metadata": {},
   "outputs": [],
   "source": [
    "ix_to_w = [ w for w, ix in w_to_ix.items() ]"
   ]
  },
  {
   "cell_type": "markdown",
   "metadata": {},
   "source": [
    "Guardo las etiquetas en un archivo txt"
   ]
  },
  {
   "cell_type": "code",
   "execution_count": 19,
   "metadata": {},
   "outputs": [],
   "source": [
    "with open(f'word_labels_{source}.txt', 'w', encoding='utf-8') as f:\n",
    "    f.write('\\n'.join(ix_to_w))"
   ]
  },
  {
   "cell_type": "markdown",
   "metadata": {},
   "source": [
    "Indexo todo el corpus"
   ]
  },
  {
   "cell_type": "code",
   "execution_count": 20,
   "metadata": {},
   "outputs": [],
   "source": [
    "def w_to_index_unk(w):\n",
    "    \"\"\"\n",
    "    Le asigna el token UNK a palabras que no aparezcan en el corpus\n",
    "    \"\"\"\n",
    "    try:\n",
    "        return w_to_ix[w] \n",
    "    except KeyError:\n",
    "        return ixUNK"
   ]
  },
  {
   "cell_type": "code",
   "execution_count": 21,
   "metadata": {},
   "outputs": [
    {
     "name": "stdout",
     "output_type": "stream",
     "text": [
      "Ejemplos X\n",
      "[array([7471,    5,   26,    1,    3,   38,   33,   16,   20,    4,    3,\n",
      "         52,    1,    3,   71,    0,   48,   50,   34,    0,  536,    3,\n",
      "        497,    1,  298,  960,    7,    5, 5481,   15,   26,    6]), array([7471,    4,  437,    1,  301, 2854,    0,   34,    7,   23,  716,\n",
      "          0,  961,  873,    0, 7473,   17,  190,    0, 5482,    0, 3659,\n",
      "          7,  698,    1,    3,  441,    6]), array([7471,    5,  442,    1,  298,  960,  223, 7473,   16,  112, 7473,\n",
      "          0,  123, 1197,    5,  256,    1,   31,   15,   26,    1,    3,\n",
      "         38,   33,   16,   20,    7, 4362, 7473,    8,    3,  427,    1,\n",
      "         19,   32,   27, 1330,    7, 2855,    0,   85,   11, 5483,   17,\n",
      "       3660,    7,   11, 5484,   17, 3201,    6])]\n",
      "Ejemplos Y\n",
      "[array([   5,   26,    1,    3,   38,   33,   16,   20,    4,    3,   52,\n",
      "          1,    3,   71,    0,   48,   50,   34,    0,  536,    3,  497,\n",
      "          1,  298,  960,    7,    5, 5481,   15,   26,    6, 7472]), array([   4,  437,    1,  301, 2854,    0,   34,    7,   23,  716,    0,\n",
      "        961,  873,    0, 7473,   17,  190,    0, 5482,    0, 3659,    7,\n",
      "        698,    1,    3,  441,    6, 7472]), array([   5,  442,    1,  298,  960,  223, 7473,   16,  112, 7473,    0,\n",
      "        123, 1197,    5,  256,    1,   31,   15,   26,    1,    3,   38,\n",
      "         33,   16,   20,    7, 4362, 7473,    8,    3,  427,    1,   19,\n",
      "         32,   27, 1330,    7, 2855,    0,   85,   11, 5483,   17, 3660,\n",
      "          7,   11, 5484,   17, 3201,    6, 7472])]\n"
     ]
    }
   ],
   "source": [
    "sentences_ix = [\n",
    "    # Le agrego el inicio y fin de caracter a los enunciados\n",
    "    [ixBOS] + [ w_to_index_unk(w) for w in sent ] + [ixEOS] \n",
    "    for sent in sentences\n",
    "]\n",
    "\n",
    "X = [ np.asarray(sent[:-1]) for sent in sentences_ix ]\n",
    "Y = [ np.asarray(sent[1:]) for sent in sentences_ix ] \n",
    "\n",
    "print('Ejemplos X')\n",
    "print(X[:3])\n",
    "print('Ejemplos Y')\n",
    "print(Y[:3])"
   ]
  },
  {
   "cell_type": "markdown",
   "metadata": {},
   "source": [
    "Separo el corpus en conjunto de evaluación y pruebas"
   ]
  },
  {
   "cell_type": "code",
   "execution_count": 58,
   "metadata": {},
   "outputs": [],
   "source": [
    "X_train, X_val, Y_train, Y_val = train_test_split(X, Y, test_size=0.30)"
   ]
  },
  {
   "cell_type": "markdown",
   "metadata": {},
   "source": [
    "Calculo las longitudes del conjunto de entrenamiento y validación"
   ]
  },
  {
   "cell_type": "code",
   "execution_count": 94,
   "metadata": {},
   "outputs": [
    {
     "name": "stdout",
     "output_type": "stream",
     "text": [
      "4608\n",
      "1975\n"
     ]
    }
   ],
   "source": [
    "N_train = len(X_train)\n",
    "N_val = len(X_val)\n",
    "print(N_train)\n",
    "print(N_val)"
   ]
  },
  {
   "cell_type": "markdown",
   "metadata": {},
   "source": [
    "Mando los vectores de entrada y salida a tensores en gpu"
   ]
  },
  {
   "cell_type": "code",
   "execution_count": 60,
   "metadata": {},
   "outputs": [],
   "source": [
    "def to_pytorch_tensor(list_of_lists):\n",
    "    return [\n",
    "        torch.from_numpy(l).long().to(device)\n",
    "        for l in list_of_lists\n",
    "    ]"
   ]
  },
  {
   "cell_type": "code",
   "execution_count": 61,
   "metadata": {},
   "outputs": [],
   "source": [
    "X_train = to_pytorch_tensor(X_train)\n",
    "Y_train = to_pytorch_tensor(Y_train)\n",
    "\n",
    "X_val = to_pytorch_tensor(X_val)\n",
    "Y_val = to_pytorch_tensor(Y_val)"
   ]
  },
  {
   "cell_type": "markdown",
   "metadata": {},
   "source": [
    "## Modelo\n",
    "\n",
    "### 1. Capa de embedding\n",
    "\n",
    "### 2. Capa oculta\n",
    "\n",
    "### 3. Capa de salida"
   ]
  },
  {
   "cell_type": "markdown",
   "metadata": {},
   "source": [
    "Defino las variables para la red neuronal"
   ]
  },
  {
   "cell_type": "code",
   "execution_count": 132,
   "metadata": {},
   "outputs": [],
   "source": [
    "# Dimensión de entrada (one-hot), tamaño del vocabulario\n",
    "D_in = vocab_size\n",
    "\n",
    "# Dimensión de la capa de embedding\n",
    "D_emb = 64 # 32\n",
    "\n",
    "# Dimensión de la capa lstm\n",
    "D_lstm = 32 # 16\n",
    "\n",
    "# Dimensión de la capa de salida\n",
    "D_out = D_in\n",
    "\n",
    "# Épocas de entrenamiento\n",
    "num_epochs = 300\n",
    "\n",
    "# Learning rate\n",
    "lr =  0.1"
   ]
  },
  {
   "cell_type": "code",
   "execution_count": 133,
   "metadata": {},
   "outputs": [],
   "source": [
    "class Model(nn.Module):\n",
    "    def __init__(self, ngpu, D_in, D_emb, D_lstm, D_out):\n",
    "        super(Model, self).__init__()\n",
    "        self.ngpu = ngpu\n",
    "        self.embedding = nn.Embedding(num_embeddings=D_in, embedding_dim=D_emb)#, padding_idx=0)\n",
    "        self.dropout = nn.Dropout(p=0.2)\n",
    "        self.lstm = nn.LSTM(input_size=D_emb, hidden_size=D_lstm) #, bias=True)#, batch_first=True)\n",
    "        self.linear = nn.Linear(in_features=D_lstm, out_features=D_out) #, bias=True)\n",
    "\n",
    "    def forward(self, sentence):\n",
    "        T = len(sentence)\n",
    "        embeddings = self.embedding(sentence).view(T, 1, -1)\n",
    "        embeddings = self.dropout(embeddings)\n",
    "        lstm_out, (ht, ct) = self.lstm(embeddings)\n",
    "        lstm_out = lstm_out.view(T, -1)\n",
    "        preact_out = self.linear(lstm_out).view(T, -1)\n",
    "        \n",
    "        return F.log_softmax(preact_out, dim=1)\n",
    "    \n",
    "    def pred(self, sentence):\n",
    "        with torch.no_grad():\n",
    "            out = self.forward(sentence)\n",
    "            pred = torch.argmax(out, dim=1)\n",
    "        return pred"
   ]
  },
  {
   "cell_type": "code",
   "execution_count": 134,
   "metadata": {},
   "outputs": [
    {
     "data": {
      "text/plain": [
       "Model(\n",
       "  (embedding): Embedding(7474, 64)\n",
       "  (dropout): Dropout(p=0.2, inplace=False)\n",
       "  (lstm): LSTM(64, 32)\n",
       "  (linear): Linear(in_features=32, out_features=7474, bias=True)\n",
       ")"
      ]
     },
     "execution_count": 134,
     "metadata": {},
     "output_type": "execute_result"
    }
   ],
   "source": [
    "model = Model(ngpu, D_in, D_emb, D_lstm, D_out).to(device)\n",
    "model"
   ]
  },
  {
   "cell_type": "markdown",
   "metadata": {},
   "source": [
    "Verisimilitud logarítmica negativa como función de coste y SGD como optimizador"
   ]
  },
  {
   "cell_type": "code",
   "execution_count": 135,
   "metadata": {},
   "outputs": [],
   "source": [
    "criterion = nn.NLLLoss()\n",
    "criterion.to(device)\n",
    "optimizer = torch.optim.SGD(model.parameters(), lr=lr)"
   ]
  },
  {
   "cell_type": "markdown",
   "metadata": {},
   "source": [
    "### Entrenamiento"
   ]
  },
  {
   "cell_type": "code",
   "execution_count": 136,
   "metadata": {
    "tags": [
     "outputPrepend"
    ]
   },
   "outputs": [
    {
     "data": {
      "application/vnd.jupyter.widget-view+json": {
       "model_id": "d6067ca48f734668a200ca9081853b9b",
       "version_major": 2,
       "version_minor": 0
      },
      "text/plain": [
       "HBox(children=(FloatProgress(value=0.0, max=300.0), HTML(value='')))"
      ]
     },
     "metadata": {},
     "output_type": "display_data"
    },
    {
     "name": "stdout",
     "output_type": "stream",
     "text": [
      "Epoch   1.\ttrain_loss: 6.076002\tval_loss: 5.569731\n",
      "Epoch  21.\ttrain_loss: 4.591176\tval_loss: 4.668388\n",
      "Epoch  41.\ttrain_loss: 4.346565\tval_loss: 4.508124\n",
      "Epoch  61.\ttrain_loss: 4.204951\tval_loss: 4.427867\n",
      "Epoch  81.\ttrain_loss: 4.101741\tval_loss: 4.376734\n",
      "Epoch 101.\ttrain_loss: 4.018848\tval_loss: 4.342818\n",
      "Epoch 121.\ttrain_loss: 3.954613\tval_loss: 4.312843\n",
      "Epoch 141.\ttrain_loss: 3.896556\tval_loss: 4.299215\n",
      "Epoch 161.\ttrain_loss: 3.847025\tval_loss: 4.277626\n",
      "Epoch 181.\ttrain_loss: 3.799723\tval_loss: 4.263325\n",
      "Epoch 201.\ttrain_loss: 3.762299\tval_loss: 4.251244\n",
      "Epoch 221.\ttrain_loss: 3.724693\tval_loss: 4.244276\n",
      "Epoch 241.\ttrain_loss: 3.690966\tval_loss: 4.238331\n",
      "Epoch 261.\ttrain_loss: 3.661579\tval_loss: 4.230563\n",
      "Epoch 281.\ttrain_loss: 3.633339\tval_loss: 4.232079\n",
      "\n",
      "Wall time: 2h 16min 10s\n",
      "Parser   : 170 ms\n"
     ]
    }
   ],
   "source": [
    "%%time\n",
    "train_loss_hist = np.zeros(num_epochs+1)\n",
    "val_loss_hist = np.zeros(num_epochs+1)\n",
    "\n",
    "train_loss_hist[-1] = np.inf\n",
    "val_loss_hist[-1] = np.inf\n",
    "\n",
    "best_model = None\n",
    "\n",
    "train_data = list(zip(X_train, Y_train))\n",
    "val_data = list(zip(X_val, Y_val))\n",
    "\n",
    "for epoch in tqdm(range(num_epochs)):\n",
    "    \n",
    "    # Entrenamiento\n",
    "    model.train()\n",
    "    train_loss = 0\n",
    "    random.shuffle(train_data)\n",
    "    for x, y in train_data:\n",
    "        # Limpiamos gradientes acumulados\n",
    "        model.zero_grad()\n",
    "\n",
    "        # Forward\n",
    "        out = model(x)\n",
    "     \n",
    "        loss = criterion(out, y)\n",
    "        loss.backward()\n",
    "        optimizer.step()\n",
    "        train_loss += loss.item()\n",
    "    train_loss /= N_train\n",
    "    train_loss_hist[epoch] = train_loss\n",
    "    \n",
    "    # Validación\n",
    "    model.eval()\n",
    "    val_loss = 0\n",
    "    random.shuffle(val_data)\n",
    "    for x, y in val_data:\n",
    "        out = model(x)     \n",
    "        loss = criterion(out, y)\n",
    "        val_loss += loss.item()\n",
    "    val_loss /= N_val\n",
    "    val_loss_hist[epoch] = val_loss\n",
    "    \n",
    "    if epoch%20 == 0:\n",
    "        tqdm.write(f'Epoch {epoch+1:3}.\\ttrain_loss: {train_loss:2.6f}\\tval_loss: {val_loss:2.6f}')\n",
    "    if val_loss < val_loss_hist[epoch-1]:\n",
    "        best_model = model.state_dict()"
   ]
  },
  {
   "cell_type": "markdown",
   "metadata": {},
   "source": [
    "Quito el elemento que usé de offset para comparar primera epoch"
   ]
  },
  {
   "cell_type": "code",
   "execution_count": 140,
   "metadata": {},
   "outputs": [
    {
     "data": {
      "text/plain": [
       "299"
      ]
     },
     "execution_count": 140,
     "metadata": {},
     "output_type": "execute_result"
    }
   ],
   "source": [
    "train_loss_hist = train_loss_hist[:-1]\n",
    "val_loss_hist = val_loss_hist[:-1]\n",
    "len(train_loss_hist)"
   ]
  },
  {
   "cell_type": "code",
   "execution_count": 141,
   "metadata": {},
   "outputs": [
    {
     "name": "stdout",
     "output_type": "stream",
     "text": [
      "Mejor resultado en corpus de entrenamiento en época 299\n",
      "Mejor resultado en corpus de validación en época 299\n"
     ]
    }
   ],
   "source": [
    "best_train_epoch = train_loss_hist.argmin()+1\n",
    "best_val_epoch = val_loss_hist.argmin()+1\n",
    "\n",
    "print(f'Mejor resultado en corpus de entrenamiento en época {best_train_epoch}')\n",
    "print(f'Mejor resultado en corpus de validación en época {best_val_epoch}')"
   ]
  },
  {
   "cell_type": "code",
   "execution_count": 142,
   "metadata": {},
   "outputs": [
    {
     "data": {
      "image/png": "[encoded data removed]",
      "text/plain": [
       "<Figure size 432x288 with 1 Axes>"
      ]
     },
     "metadata": {
      "needs_background": "light"
     },
     "output_type": "display_data"
    }
   ],
   "source": [
    "plt.figure()\n",
    "\n",
    "plt.plot(train_loss_hist, color='red', label='train_loss')\n",
    "plt.plot(val_loss_hist, color='blue', label='val_loss')\n",
    "# plt.plot(prom_arm_loss, color='green', label='prom_arm_loss')\n",
    "plt.legend()\n",
    "\n",
    "plt.xlabel('Epochs')\n",
    "plt.ylabel('Loss')\n",
    "\n",
    "plt.savefig(f'img/Loss-{source}-emb_{D_emb}-lstm_{D_lstm}-seed_{SEED}-epochs_{num_epochs}.png')\n",
    "\n",
    "plt.show()"
   ]
  },
  {
   "cell_type": "code",
   "execution_count": 143,
   "metadata": {},
   "outputs": [],
   "source": [
    "def print_ix_sentence(sentence):\n",
    "    print(' '.join(ix_to_w[ix] for ix in sentence.data))"
   ]
  },
  {
   "cell_type": "code",
   "execution_count": 144,
   "metadata": {},
   "outputs": [],
   "source": [
    "def torch_ix_sentence_to_w(sentence):\n",
    "    return [ix_to_w[ix] for ix in sentence.data]"
   ]
  },
  {
   "cell_type": "code",
   "execution_count": 145,
   "metadata": {},
   "outputs": [
    {
     "name": "stdout",
     "output_type": "stream",
     "text": [
      "             x_i             x_i             x_i\n"
     ]
    }
   ],
   "source": [
    "print(f\"{'x_i':>16}{'x_i':>16}{'x_i':>16}\")"
   ]
  },
  {
   "cell_type": "code",
   "execution_count": 146,
   "metadata": {
    "scrolled": false
   },
   "outputs": [
    {
     "name": "stdout",
     "output_type": "stream",
     "text": [
      "===================================================\n",
      "             x_i         y_hat_i             y_i\n",
      "           <BOS>               \"          méxico\n",
      "          méxico            debe           tiene\n",
      "           tiene             que             que\n",
      "             que              no           <UNK>\n",
      "           <UNK>              la             con\n",
      "             con              la         firmeza\n",
      "         firmeza               ,               ,\n",
      "               ,          porque             con\n",
      "             con              la        dignidad\n",
      "        dignidad               ,               ,\n",
      "               ,          porque          exigir\n",
      "          exigir               ,         respeto\n",
      "         respeto               ,               y\n",
      "               y               a             que\n",
      "             que              se            cese\n",
      "            cese              al            esta\n",
      "            esta          guerra       violación\n",
      "       violación               ,               a\n",
      "               a              la             los\n",
      "             los         jóvenes        derechos\n",
      "        derechos         humanos         humanos\n",
      "         humanos               ,               .\n",
      "               .           <EOS>           <EOS>\n",
      "===================================================\n",
      "\n",
      "===================================================\n",
      "             x_i         y_hat_i             y_i\n",
      "           <BOS>               \"           desde\n",
      "           desde              la            2014\n",
      "            2014               ,               ,\n",
      "               ,              el              un\n",
      "              un       candidato            kilo\n",
      "            kilo              de              de\n",
      "              de             los           ayuda\n",
      "           ayuda               ,         trabaja\n",
      "         trabaja               ,            para\n",
      "            para             que        impulsar\n",
      "        impulsar              la              el\n",
      "              el      desarrollo      desarrollo\n",
      "      desarrollo              de              de\n",
      "              de              la             las\n",
      "             las           niñas     capacidades\n",
      "     capacidades              de         físicas\n",
      "         físicas               .               ,\n",
      "               ,              el   intelectuales\n",
      "   intelectuales               ,               y\n",
      "               y           <UNK>     emocionales\n",
      "     emocionales               .              de\n",
      "              de              la             las\n",
      "             las         mujeres           niñas\n",
      "           niñas               y               y\n",
      "               y              la             los\n",
      "             los           niños           niños\n",
      "           niños               .           desde\n",
      "           desde              el              su\n",
      "              su         campaña      nacimiento\n",
      "      nacimiento               .           hasta\n",
      "           hasta              el             los\n",
      "             los           <UNK>               5\n",
      "               5             mil            años\n",
      "            años               .               .\n",
      "               .           <EOS>           <EOS>\n",
      "===================================================\n",
      "\n",
      "===================================================\n",
      "             x_i         y_hat_i             y_i\n",
      "           <BOS>               \"          méxico\n",
      "          méxico            debe               ,\n",
      "               ,              el            dijo\n",
      "            dijo             que               ,\n",
      "               ,             que        necesita\n",
      "        necesita               ,              de\n",
      "              de              la              un\n",
      "              un       candidato            gran\n",
      "            gran         llamado        programa\n",
      "        programa              de              de\n",
      "              de       seguridad  competitividad\n",
      "  competitividad               ,               ,\n",
      "               ,              la             que\n",
      "             que              se         incluye\n",
      "         incluye              la              un\n",
      "              un          cambio       ombudsman\n",
      "       ombudsman              de              de\n",
      "              de       seguridad              la\n",
      "              la         campaña       inversión\n",
      "       inversión              de               ,\n",
      "               ,          porque          porque\n",
      "          porque              se          cuando\n",
      "          cuando              se              se\n",
      "              se           <UNK>          genera\n",
      "          genera               a       inversión\n",
      "       inversión               ,         privada\n",
      "         privada               ,               ,\n",
      "               ,          porque              la\n",
      "              la             paz           <UNK>\n",
      "           <UNK>               ,           sobre\n",
      "           sobre              la             esa\n",
      "             esa           <UNK>       inversión\n",
      "       inversión               ,              no\n",
      "              no              se            sólo\n",
      "            sólo             por              va\n",
      "              va               a              al\n",
      "              al           <UNK>           dueño\n",
      "           dueño               ,             del\n",
      "             del            país         capital\n",
      "         capital               ,               ,\n",
      "               ,          porque              va\n",
      "              va               a              al\n",
      "              al          pueblo          empleo\n",
      "          empleo               ,               y\n",
      "               y              la         también\n",
      "         también               ,          genera\n",
      "          genera               ,         riqueza\n",
      "         riqueza               ,               .\n",
      "               .           <EOS>           <EOS>\n",
      "===================================================\n",
      "\n",
      "===================================================\n",
      "             x_i         y_hat_i             y_i\n",
      "           <BOS>               \"              se\n",
      "              se     comprometió     comprometió\n",
      "     comprometió               a               a\n",
      "               a        regresar              no\n",
      "              no          vender           <UNK>\n",
      "           <UNK>               ,               ,\n",
      "               ,              el           menos\n",
      "           menos              de               a\n",
      "               a             los             los\n",
      "             los      ciudadanos          pobres\n",
      "          pobres               ,              de\n",
      "              de              la          méxico\n",
      "          méxico               ,               ,\n",
      "               ,              se          sacará\n",
      "          sacará               ,        adelante\n",
      "        adelante               .              el\n",
      "              el         próximo           <UNK>\n",
      "           <UNK>              de               ,\n",
      "               ,          porque              de\n",
      "              de              la              la\n",
      "              la           gente         pobreza\n",
      "         pobreza               ,               y\n",
      "               y              de              se\n",
      "              se           <UNK>        atenderá\n",
      "        atenderá              la               a\n",
      "               a             los           todos\n",
      "           todos             los               ,\n",
      "               ,            dijo              se\n",
      "              se           <UNK>       escuchará\n",
      "       escuchará             con               a\n",
      "               a             los           todos\n",
      "           todos             los               ,\n",
      "               ,           <UNK>              se\n",
      "              se           <UNK>       respetará\n",
      "       respetará              el               a\n",
      "               a              la           todos\n",
      "           todos             los               ,\n",
      "               ,          porque            pero\n",
      "            pero              no              se\n",
      "              se           <UNK>              le\n",
      "              le            dará            dará\n",
      "            dará               a              la\n",
      "              la      corrupción     preferencia\n",
      "     preferencia              de               a\n",
      "               a              la              la\n",
      "              la           gente           gente\n",
      "           gente               ,         humilde\n",
      "         humilde               ,               ,\n",
      "               ,          porque               \"\n",
      "               \"          porque             por\n",
      "             por             eso              el\n",
      "              el             que            bien\n",
      "            bien              de              de\n",
      "              de              la           todos\n",
      "           todos             los               ,\n",
      "               ,          porque         primero\n",
      "         primero              de             los\n",
      "             los          pobres        humildes\n",
      "        humildes              de               \"\n",
      "               \"               .               .\n",
      "               .           <EOS>           <EOS>\n",
      "===================================================\n",
      "\n",
      "===================================================\n",
      "             x_i         y_hat_i             y_i\n",
      "           <BOS>               \"              el\n",
      "              el       candidato       candidato\n",
      "       candidato              de              de\n",
      "              de              la              la\n",
      "              la       coalición       coalición\n",
      "       coalición           todos           todos\n",
      "           todos             por             por\n",
      "             por          méxico          méxico\n",
      "          méxico              al               a\n",
      "               a              la              la\n",
      "              la     presidencia     presidencia\n",
      "     presidencia              de              de\n",
      "              de              la              la\n",
      "              la       república       república\n",
      "       república               ,        advirtió\n",
      "        advirtió             que             que\n",
      "             que              se             hay\n",
      "             hay              un         quienes\n",
      "         quienes              se         quieren\n",
      "         quieren              un           poner\n",
      "           poner              un              en\n",
      "              en              el          riesgo\n",
      "          riesgo              de              al\n",
      "              al            país            país\n",
      "            país               .               ,\n",
      "               ,          porque           <UNK>\n",
      "           <UNK>               ,               y\n",
      "               y           <UNK>        destruir\n",
      "        destruir               a              la\n",
      "              la           <UNK>       inversión\n",
      "       inversión         pública               .\n",
      "               .           <EOS>           <EOS>\n",
      "===================================================\n",
      "\n",
      "===================================================\n",
      "             x_i         y_hat_i             y_i\n",
      "           <BOS>               \"              el\n",
      "              el       candidato       candidato\n",
      "       candidato              de             por\n",
      "             por              la              la\n",
      "              la       coalición       coalición\n",
      "       coalición               \"               \"\n",
      "               \"          juntos          juntos\n",
      "          juntos         haremos         haremos\n",
      "         haremos        historia        historia\n",
      "        historia               \"               \"\n",
      "               \"               ,            tomó\n",
      "            tomó               \"        protesta\n",
      "        protesta               \"               a\n",
      "               a              la             los\n",
      "             los      ciudadanos      ciudadanos\n",
      "      ciudadanos               ,             que\n",
      "             que              se              se\n",
      "              se           <UNK>           <UNK>\n",
      "           <UNK>               a              de\n",
      "              de              la        defender\n",
      "        defender             los              el\n",
      "              el            voto            voto\n",
      "            voto               ,               ,\n",
      "               ,          porque          evitar\n",
      "          evitar             que              el\n",
      "              el       candidato          fraude\n",
      "          fraude       electoral               y\n",
      "               y              el           hacer\n",
      "           hacer               ,           valer\n",
      "           valer              la              la\n",
      "              la      corrupción      democracia\n",
      "      democracia               .              el\n",
      "              el        programa         primero\n",
      "         primero              de              de\n",
      "              de           julio           julio\n",
      "           julio               .               .\n",
      "               .           <EOS>           <EOS>\n",
      "===================================================\n",
      "\n",
      "===================================================\n",
      "             x_i         y_hat_i             y_i\n",
      "           <BOS>               \"            josé\n",
      "            josé         antonio         antonio\n",
      "         antonio           meade           meade\n",
      "           meade            dijo          señaló\n",
      "          señaló             que             que\n",
      "             que              se              el\n",
      "              el       candidato          último\n",
      "          último          debate          tercio\n",
      "          tercio              de              de\n",
      "              de              la              la\n",
      "              la         campaña       contienda\n",
      "       contienda       electoral       electoral\n",
      "       electoral              se              es\n",
      "              es              el              el\n",
      "              el      desarrollo             más\n",
      "             más              de      importante\n",
      "      importante               ,               y\n",
      "               y             que               ,\n",
      "               ,          porque             por\n",
      "             por             eso            ello\n",
      "            ello               ,               ,\n",
      "               ,          porque              la\n",
      "              la       coalición       coalición\n",
      "       coalición               \"             que\n",
      "             que        encabeza        encabeza\n",
      "        encabeza               .            hará\n",
      "            hará              el            todo\n",
      "            todo              el              lo\n",
      "              lo             que       necesario\n",
      "       necesario               ,            para\n",
      "            para             que       convencer\n",
      "       convencer               a              al\n",
      "              al            país      electorado\n",
      "      electorado               y              de\n",
      "              de              la             que\n",
      "             que              se              la\n",
      "              la           gente            suya\n",
      "            suya               ,              es\n",
      "              es              el              la\n",
      "              la           mejor           mejor\n",
      "           mejor          opción       propuesta\n",
      "       propuesta               .            para\n",
      "            para             que       convertir\n",
      "       convertir               a               a\n",
      "               a              la          méxico\n",
      "          méxico               .              en\n",
      "              en              el             una\n",
      "             una        encuesta        potencia\n",
      "        potencia               ,               .\n",
      "               .           <EOS>           <EOS>\n",
      "===================================================\n",
      "\n",
      "===================================================\n",
      "             x_i         y_hat_i             y_i\n",
      "           <BOS>               \"            josé\n",
      "            josé         antonio         antonio\n",
      "         antonio           meade           meade\n",
      "           meade            dijo         anunció\n",
      "         anunció             que         impulso\n",
      "         impulso               a              en\n",
      "              en              el           salud\n",
      "           salud               ,               ,\n",
      "               ,        coahuila infraestructura\n",
      " infraestructura               y               y\n",
      "               y      desarrollo      transporte\n",
      "      transporte         público            para\n",
      "            para          méxico           nuevo\n",
      "           nuevo            león            león\n",
      "            león               .               .\n",
      "               .           <EOS>           <EOS>\n",
      "===================================================\n",
      "\n",
      "===================================================\n",
      "             x_i         y_hat_i             y_i\n",
      "           <BOS>               \"            ante\n",
      "            ante           miles              un\n",
      "              un         llamado          centro\n",
      "          centro              de              de\n",
      "              de              la    convenciones\n",
      "    convenciones              de      abarrotado\n",
      "      abarrotado             que               y\n",
      "               y           <UNK>             con\n",
      "             con              el      asistentes\n",
      "      asistentes               ,   entusiasmados\n",
      "   entusiasmados               ,               ,\n",
      "               ,              el           meade\n",
      "           meade         aseguró        presentó\n",
      "        presentó              su              el\n",
      "              el       candidato        programa\n",
      "        programa              de         avanzar\n",
      "         avanzar         contigo         contigo\n",
      "         contigo               y               .\n",
      "               .           <EOS>           <EOS>\n",
      "===================================================\n",
      "\n",
      "===================================================\n"
     ]
    },
    {
     "name": "stdout",
     "output_type": "stream",
     "text": [
      "             x_i         y_hat_i             y_i\n",
      "           <BOS>               \"               \"\n",
      "               \"              no              es\n",
      "              es              un           parte\n",
      "           parte              de              de\n",
      "              de              la              la\n",
      "              la           gente      propaganda\n",
      "      propaganda               y              en\n",
      "              en              el          contra\n",
      "          contra              de         nuestra\n",
      "         nuestra          nación               ,\n",
      "               ,              no        nosotros\n",
      "        nosotros               y           <UNK>\n",
      "           <UNK>               ,           mucho\n",
      "           mucho               ,               a\n",
      "               a             los             los\n",
      "             los      ciudadanos     empresarios\n",
      "     empresarios               ,              de\n",
      "              de          méxico          méxico\n",
      "          méxico               ,               ,\n",
      "               ,          porque              me\n",
      "              me             voy         reunido\n",
      "         reunido               y             con\n",
      "             con              la           todos\n",
      "           todos             los             los\n",
      "             los       mexicanos     empresarios\n",
      "     empresarios               ,               ,\n",
      "               ,              no             con\n",
      "             con              la             los\n",
      "             los             que    comerciantes\n",
      "    comerciantes              de               ,\n",
      "               ,          porque             con\n",
      "             con              la             los\n",
      "             los             que     empresarios\n",
      "     empresarios             que              de\n",
      "              de          méxico             los\n",
      "             los       mexicanos      municipios\n",
      "      municipios              de               ,\n",
      "               ,          porque              de\n",
      "              de              la             los\n",
      "             los       mexicanos         estados\n",
      "         estados          unidos             del\n",
      "             del             pri            país\n",
      "            país               .               \"\n",
      "               \"               .               ,\n",
      "               ,            dijo          indicó\n",
      "          indicó               .              el\n",
      "              el       candidato       candidato\n",
      "       candidato    presidencial    presidencial\n",
      "    presidencial               ,             por\n",
      "             por              la              la\n",
      "              la       coalición       coalición\n",
      "       coalición               \"               \"\n",
      "               \"          juntos          juntos\n",
      "          juntos         haremos         haremos\n",
      "         haremos        historia        historia\n",
      "        historia               \"               \"\n",
      "               \"               ,               .\n",
      "               .           <EOS>           <EOS>\n",
      "===================================================\n",
      "\n"
     ]
    }
   ],
   "source": [
    "with torch.no_grad():\n",
    "    # TODO: Armar corpus de prueba para evaluar resultados después de entrenamiento\n",
    "    for sentence, y in val_data[:10]: \n",
    "        print('===================================================')\n",
    "        pred = model.pred(sentence)\n",
    "        sent_words = torch_ix_sentence_to_w(sentence) # Input\n",
    "        y_hat_words = torch_ix_sentence_to_w(pred) # Datos predichos\n",
    "        y_words = torch_ix_sentence_to_w(y) # Datos reales\n",
    "        \n",
    "        print(f\"{'x_i':>16}{'y_hat_i':>16}{'y_i':>16}\")\n",
    "        for x_i, y_hat_i, y_i in zip(sent_words, y_hat_words, y_words):\n",
    "            print(f\"{x_i:>16}{y_hat_i:>16}{y_i:>16}\")\n",
    "        print('===================================================\\n')\n",
    "\n",
    "        "
   ]
  },
  {
   "cell_type": "code",
   "execution_count": 147,
   "metadata": {},
   "outputs": [],
   "source": [
    "torch.save(\n",
    "    model.state_dict(), # El último\n",
    "    f'./modelsaves/modelv2-{source}-emb_{D_emb}-lstm_{D_lstm}-seed_{SEED}-epochs_{num_epochs}-last-trained'\n",
    ")\n",
    "\n",
    "torch.save(\n",
    "    best_model, \n",
    "    f'./modelsaves/modelv2-{source}-emb_{D_emb}-lstm_{D_lstm}-seed_{SEED}-epochs_{best_val_epoch}-best-val'\n",
    ")"
   ]
  },
  {
   "cell_type": "code",
   "execution_count": null,
   "metadata": {},
   "outputs": [],
   "source": []
  }
 ],
 "metadata": {
  "kernelspec": {
   "display_name": "Python 3.7.7 64-bit ('aypit-2020-2': conda)",
   "language": "python",
   "name": "python37764bitaypit20202conda2eb9642ad5e346f38de29b14c14576bc"
  },
  "language_info": {
   "codemirror_mode": {
    "name": "ipython",
    "version": 3
   },
   "file_extension": ".py",
   "mimetype": "text/x-python",
   "name": "python",
   "nbconvert_exporter": "python",
   "pygments_lexer": "ipython3",
   "version": "3.7.7"
  }
 },
 "nbformat": 4,
 "nbformat_minor": 2
}
