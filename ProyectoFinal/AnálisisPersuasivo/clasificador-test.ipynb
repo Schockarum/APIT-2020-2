{
 "cells": [
  {
   "cell_type": "code",
   "execution_count": 1,
   "metadata": {
    "scrolled": true
   },
   "outputs": [],
   "source": [
    "import torch\n",
    "import torch.nn as nn\n",
    "import torch.nn.functional as F\n",
    "# from collections import Counter\n",
    "import random\n",
    "# import matplotlib.pyplot as plt\n",
    "import numpy as np\n",
    "# from sklearn.model_selection import train_test_split\n",
    "# from tqdm.notebook import tqdm"
   ]
  },
  {
   "cell_type": "code",
   "execution_count": 2,
   "metadata": {
    "scrolled": true
   },
   "outputs": [],
   "source": [
    "# Número de GPUs disponibles. Usar 0 para modo CPU.\n",
    "ngpu = 1\n",
    "\n",
    "# Fuente de la cual queremos obtener los datos\n",
    "source = 'corenlp'"
   ]
  },
  {
   "cell_type": "code",
   "execution_count": 3,
   "metadata": {
    "scrolled": true
   },
   "outputs": [
    {
     "data": {
      "text/plain": [
       "device(type='cuda', index=0)"
      ]
     },
     "execution_count": 3,
     "metadata": {},
     "output_type": "execute_result"
    }
   ],
   "source": [
    "# Decide si queremos correr en gpu o cpu\n",
    "device = torch.device(\"cuda:0\" if (torch.cuda.is_available() and ngpu > 0) else \"cpu\")\n",
    "device"
   ]
  },
  {
   "cell_type": "code",
   "execution_count": 4,
   "metadata": {
    "scrolled": true
   },
   "outputs": [
    {
     "data": {
      "text/plain": [
       "{'C1': 0, 'C2': 1, 'E1': 2, 'E2': 3, 'E3': 4, 'E4': 5, 'V1': 6}"
      ]
     },
     "execution_count": 4,
     "metadata": {},
     "output_type": "execute_result"
    }
   ],
   "source": [
    "ix_to_cat = ['C1', 'C2', 'E1', 'E2', 'E3', 'E4','V1']\n",
    "cat_to_ix = { cat: ix for ix, cat in enumerate(ix_to_cat) }\n",
    "\n",
    "num_cat = len(ix_to_cat) # Tamaño de salida de la red\n",
    "\n",
    "cat_to_ix"
   ]
  },
  {
   "cell_type": "code",
   "execution_count": 5,
   "metadata": {
    "scrolled": true
   },
   "outputs": [
    {
     "data": {
      "text/plain": [
       "[',', 'de', 'que', 'la', 'a']"
      ]
     },
     "execution_count": 5,
     "metadata": {},
     "output_type": "execute_result"
    }
   ],
   "source": [
    "ix_to_w = []\n",
    "with open(f'./../Embeddings/word_labels_{source}.txt', 'r', encoding='utf-8') as f:\n",
    "    ix_to_w = f.read().splitlines()\n",
    "    \n",
    "w_to_ix = { w: ix for ix, w in enumerate(ix_to_w) }\n",
    "\n",
    "tam_vocab = len(ix_to_w)\n",
    "\n",
    "ix_to_w[:5]"
   ]
  },
  {
   "cell_type": "code",
   "execution_count": 6,
   "metadata": {
    "scrolled": true
   },
   "outputs": [
    {
     "data": {
      "text/plain": [
       "['Informa AMLO que mañana se reunirá con maestros , padres de familia y comunidades indígenas en Guelatao , Oaxaca .',\n",
       " 'Explicó que seguirá el ejemplo de los mejores presidentes de México : Benito Juárez , Francisco I.',\n",
       " 'Afirmó que José Antonio Meade propone otorgar becas a estudiantes indígenas , créditos a la palabra para las mujeres y la apertura de Casas de Día para adultos mayores .',\n",
       " '\" No podemos actuar con irresponsabilidad , si los contratistas , los que tienen los contratos quieren invertir y hacerse cargo , que no le cueste al erario público , a la hacienda pública , adelante , estamos nosotros dispuesto a concesionarlo \" , expuso al comentar que tiene una alternativa que es construir dos pistas en el aeropuerto militar de Santa Lucía , sin cerrar el actual aeropuerto .',\n",
       " '\" Es decir que tengan una concesión y que les vaya muy bien , Slim ha dicho de que es un buen negocio , pues adelante , que participe en la licitación , vamos a convocar a técnicos de inobjetable honestidad , de constructores expertos y que expertos independientes hagan la propuesta para la licitación y que se les pueda presentar esto como una opción como una alternativa \" , dijo .']"
      ]
     },
     "execution_count": 6,
     "metadata": {},
     "output_type": "execute_result"
    }
   ],
   "source": [
    "sentences = []\n",
    "with open(f'./Corpus/Test/sentences-{source}.txt', 'r', encoding='utf-8') as f:\n",
    "    sentences = [s.split() for s in f.read().splitlines()]\n",
    "\n",
    "[' '.join(s) for s in sentences[:5]]"
   ]
  },
  {
   "cell_type": "code",
   "execution_count": 7,
   "metadata": {
    "scrolled": true
   },
   "outputs": [],
   "source": [
    "BOS = '<BOS>'\n",
    "EOS = '<EOS>'\n",
    "UNK = '<UNK>'\n",
    "\n",
    "ixBOS = w_to_ix[BOS]\n",
    "ixEOS = w_to_ix[EOS]\n",
    "ixUNK = w_to_ix[UNK]"
   ]
  },
  {
   "cell_type": "code",
   "execution_count": 8,
   "metadata": {
    "scrolled": true
   },
   "outputs": [],
   "source": [
    "def unk_w_to_ix(w):\n",
    "    try:\n",
    "        return w_to_ix[w]\n",
    "    except KeyError:\n",
    "        return ixUNK"
   ]
  },
  {
   "cell_type": "code",
   "execution_count": 9,
   "metadata": {
    "scrolled": true
   },
   "outputs": [
    {
     "data": {
      "text/plain": [
       "['[1720, 244, 2, 172, 11, 1535, 14, 180, 0, 530, 1, 292, 7, 613, 731, 8, 2838, 0, 344, 6]',\n",
       " '[155, 2, 880, 5, 365, 1, 9, 413, 567, 1, 20, 40, 862, 486, 0, 664, 1291]',\n",
       " '[183, 2, 48, 50, 34, 921, 1767, 517, 4, 589, 731, 0, 612, 4, 3, 559, 13, 17, 114, 7, 3, 1578, 1, 939, 1, 175, 13, 371, 330, 6]',\n",
       " '[10, 12, 772, 928, 14, 6891, 0, 51, 9, 2456, 0, 9, 2, 117, 9, 549, 217, 1388, 7, 2380, 1020, 0, 2, 12, 36, 6892, 21, 3066, 250, 0, 4, 3, 1464, 271, 0, 353, 0, 182, 121, 1986, 4, 7473, 10, 0, 266, 21, 1630, 2, 47, 24, 682, 2, 18, 364, 196, 1762, 8, 5, 221, 1348, 1, 945, 1162, 0, 83, 982, 5, 627, 221, 6]',\n",
       " '[10, 18, 167, 2, 320, 24, 1996, 7, 2, 67, 503, 69, 137, 0, 1126, 62, 683, 1, 2, 18, 19, 619, 876, 0, 319, 353, 0, 2, 3414, 8, 3, 2167, 0, 39, 4, 2064, 4, 1345, 1, 5210, 598, 0, 1, 6072, 1856, 7, 2, 1856, 1968, 747, 3, 351, 13, 3, 2167, 7, 2, 11, 67, 376, 1010, 268, 28, 24, 610, 28, 24, 682, 10, 0, 35, 6]']"
      ]
     },
     "execution_count": 9,
     "metadata": {},
     "output_type": "execute_result"
    }
   ],
   "source": [
    "X = [\n",
    "    # Convierto las palabras (en minúsculas) a índices\n",
    "    [ unk_w_to_ix(w.lower()) for w in sent ] \n",
    "    for sent in sentences\n",
    "]\n",
    "\n",
    "[str(x) for x in X[:5]]"
   ]
  },
  {
   "cell_type": "code",
   "execution_count": 10,
   "metadata": {
    "scrolled": true
   },
   "outputs": [],
   "source": [
    "X = [np.asarray(x, dtype=np.long) for x in X]"
   ]
  },
  {
   "cell_type": "code",
   "execution_count": 11,
   "metadata": {
    "scrolled": true
   },
   "outputs": [],
   "source": [
    "def np_to_long_tensor(list_of_lists):\n",
    "    return [\n",
    "        torch.from_numpy(l).long().to(device)\n",
    "        for l in list_of_lists\n",
    "    ]"
   ]
  },
  {
   "cell_type": "code",
   "execution_count": 12,
   "metadata": {
    "scrolled": true
   },
   "outputs": [
    {
     "data": {
      "text/plain": [
       "15"
      ]
     },
     "execution_count": 12,
     "metadata": {},
     "output_type": "execute_result"
    }
   ],
   "source": [
    "X_test = np_to_long_tensor(X)\n",
    "N_test = len(X_test)\n",
    "N_test"
   ]
  },
  {
   "cell_type": "code",
   "execution_count": 13,
   "metadata": {
    "scrolled": true
   },
   "outputs": [],
   "source": [
    "class PersuasionLSTM(nn.Module):\n",
    "    def __init__(self, D_in, D_emb, D_lstm, D_out):\n",
    "        super(PersuasionLSTM, self).__init__()\n",
    "        self.embedding = nn.Embedding(num_embeddings=D_in, embedding_dim=D_emb)#, padding_idx=0)\n",
    "        # self.dropout = nn.Dropout(p=0.2)\n",
    "        self.lstm = nn.LSTM(input_size=D_emb, hidden_size=D_lstm)\n",
    "        self.linear = nn.Linear(in_features=D_lstm, out_features=D_out)\n",
    "        self.sig = nn.Sigmoid()\n",
    "        \n",
    "\n",
    "    def forward(self, sentence):\n",
    "        T = len(sentence)\n",
    "        embeddings = self.embedding(sentence).view(T, 1, -1)\n",
    "        # embeddings = self.dropout(embeddings)\n",
    "        lstm_out, (ht, ct) = self.lstm(embeddings)\n",
    "        lstm_out = lstm_out.view(T, -1)\n",
    "        preact_out = self.linear(lstm_out).view(T, -1)\n",
    "        return self.sig(preact_out[-1])"
   ]
  },
  {
   "cell_type": "code",
   "execution_count": 14,
   "metadata": {
    "scrolled": true
   },
   "outputs": [],
   "source": [
    "# Dimensiones de la red neuronal\n",
    "D_in = tam_vocab\n",
    "D_emb = 64\n",
    "D_lstm = 32\n",
    "D_out = num_cat"
   ]
  },
  {
   "cell_type": "code",
   "execution_count": 15,
   "metadata": {
    "scrolled": true
   },
   "outputs": [
    {
     "data": {
      "text/plain": [
       "PersuasionLSTM(\n",
       "  (embedding): Embedding(7474, 64)\n",
       "  (lstm): LSTM(64, 32)\n",
       "  (linear): Linear(in_features=32, out_features=7, bias=True)\n",
       "  (sig): Sigmoid()\n",
       ")"
      ]
     },
     "execution_count": 15,
     "metadata": {},
     "output_type": "execute_result"
    }
   ],
   "source": [
    "persuasion = PersuasionLSTM(D_in, D_emb, D_lstm, D_out).to(device)\n",
    "persuasion.eval()"
   ]
  },
  {
   "cell_type": "code",
   "execution_count": 16,
   "metadata": {
    "scrolled": true
   },
   "outputs": [
    {
     "data": {
      "text/plain": [
       "<All keys matched successfully>"
      ]
     },
     "execution_count": 16,
     "metadata": {},
     "output_type": "execute_result"
    }
   ],
   "source": [
    "dir_path = './modelsaves/'\n",
    "filename = f'model-corenlp-emb_64-lstm_32-seed_12-epochs_100-last-trained'\n",
    "persuasion.load_state_dict(torch.load(dir_path+filename))"
   ]
  },
  {
   "cell_type": "code",
   "execution_count": 22,
   "metadata": {
    "scrolled": true
   },
   "outputs": [],
   "source": [
    "def print_ix_sentence(sentence):\n",
    "    print(' '.join(ix_to_w[ix] for ix in sentence.data))\n",
    "\n",
    "def print_ix_cat(probs):\n",
    "    categorias = []\n",
    "    print('Categorías inferidas: ', end='')\n",
    "    for i, p_i in enumerate(probs.data):\n",
    "        if p_i.item() > 0.55:\n",
    "            categorias.append(ix_to_cat[i])\n",
    "    if len(categorias) == 0:\n",
    "        print('NA')\n",
    "    else:\n",
    "        print(', '.join(categorias))\n",
    "#     print('Probabilidades')\n",
    "#     print('\\t'.join(ix_to_cat))\n",
    "#     print('\\t'.join([f'{p_i.item():0.3f}' for p_i in probs.data]))"
   ]
  },
  {
   "cell_type": "markdown",
   "metadata": {},
   "source": [
    "1. **Construcción del emisor/candidato (C1):** el candidato se coloca como referente principal del acto discursivo para exaltar sus cualidades personales y erigirse, a los ojos de sus interlocutores, como un líder en quien es adecuado confiar para el desarrollo de acciones de gobierno a favor de la sociedad; esto lo lleva a cabo mediante realizaciones léxicas de la primera persona, en singular o plural, y formas flexivas de verbos y posesivos para referirse a sí mismo, ya sea como individuo o como miembro de una colectividad. Para el caso de la campaña presidencial que nos ocupa, las cualidades del candidato emitidas por un tercero en el marco de una tarea proselitista, quedarán incluidas en esta categoría, ya que contribuyen a construir la imagen positiva del contendiente.\n",
    "\n",
    "2. **Promesa de campaña (C2):** a través de piezas discursivas, orales o escritas, el candidato oferta, destaca o compromete acciones que proyecta convertir en políticas públicas a favor de la población, si obtiene el triunfo en las urnas, con lo que implícitamente solicita el voto ciudadano que lo llevaría al poder.\n",
    "\n",
    "3. **Construcción del adversario (E1):** el mensaje es dirigido a su contraparte en la contienda electoral y está construido a manera de réplica y puede usar diferentes figuras retóricas (metáfora, ironía, metonimia) para conformar en el receptor una imagen determinada del adversario, que esencialmente tiene finalidad de descrédito.\n",
    "\n",
    "4. **Exageración de la información (E2):** se destacan los datos favorables a los fines persuasivos, con el objetivo de crear una idea positiva en la mente del receptor referente al tema del que se habla, o incluso negativa respecto de información relativa al adversario; el persuasor desfigura el sentido original del acontecimiento, nos dice Roiz (1994), mediante códigos diferentes: humorístico, burlesco, cínico, entre otros.\n",
    "\n",
    "5. **Recurso retórico (E3):** son variables basadas en figuras retóricas (metáfora, ironía, hipérbole, personificación, pleonasmo, perífrasis) que pueden fortalecer el efecto persuasivo, de acuerdo con Reardon (1991).\n",
    "\n",
    "6. **Apelación al miedo (E4):** el candidato emite mensajes dentro de su alocución que pretenden provocar sentimientos de aprensión, desasosiego o preocupación con respecto al adversario o a sus propuestas. \n",
    "\n",
    "7. **Llamado al voto (V1):** el emisor del mensaje hace una invitación directa al ciudadano para que apoye su proyecto político el día de la elección al depositar el sufragio a su favor.\n"
   ]
  },
  {
   "cell_type": "code",
   "execution_count": 27,
   "metadata": {
    "scrolled": false
   },
   "outputs": [
    {
     "name": "stdout",
     "output_type": "stream",
     "text": [
      "==================================================\n",
      "Informa AMLO que mañana se reunirá con maestros , padres de familia y comunidades indígenas en Guelatao , Oaxaca .\n",
      "\n",
      "Categorías inferidas: C1, C2\n",
      "==================================================\n",
      "\n",
      "==================================================\n",
      "Explicó que seguirá el ejemplo de los mejores presidentes de México : Benito Juárez , Francisco I.\n",
      "\n",
      "Categorías inferidas: C1, C2\n",
      "==================================================\n",
      "\n",
      "==================================================\n",
      "Afirmó que José Antonio Meade propone otorgar becas a estudiantes indígenas , créditos a la palabra para las mujeres y la apertura de Casas de Día para adultos mayores .\n",
      "\n",
      "Categorías inferidas: C2\n",
      "==================================================\n",
      "\n",
      "==================================================\n",
      "\" No podemos actuar con irresponsabilidad , si los contratistas , los que tienen los contratos quieren invertir y hacerse cargo , que no le cueste al erario público , a la hacienda pública , adelante , estamos nosotros dispuesto a concesionarlo \" , expuso al comentar que tiene una alternativa que es construir dos pistas en el aeropuerto militar de Santa Lucía , sin cerrar el actual aeropuerto .\n",
      "\n",
      "Categorías inferidas: C2\n",
      "==================================================\n",
      "\n",
      "==================================================\n",
      "\" Es decir que tengan una concesión y que les vaya muy bien , Slim ha dicho de que es un buen negocio , pues adelante , que participe en la licitación , vamos a convocar a técnicos de inobjetable honestidad , de constructores expertos y que expertos independientes hagan la propuesta para la licitación y que se les pueda presentar esto como una opción como una alternativa \" , dijo .\n",
      "\n",
      "Categorías inferidas: C2, E3\n",
      "==================================================\n",
      "\n",
      "==================================================\n",
      "Recordó que fue director del Instituto Nacional Indigenista en Tabasco , hace 40 años y ahí aprendió a trabajar por la gente humilde y pobre , pero estos corruptos neoliberales acabaron con el INI , ya no hay los centros coordinadores indigenistas que habían antes .\n",
      "\n",
      "Categorías inferidas: C1, E1, E3\n",
      "==================================================\n",
      "\n",
      "==================================================\n",
      "Eruviel Ávila estuvo acompañado del dirigente estatal del PRI , Ernesto Nemer Álvarez , quien reconoció la fortaleza de las mujeres y hombres priistas de Ecatepec , quienes darán el triunfo al candidato de la coalición Todos por México .\n",
      "\n",
      "Categorías inferidas: E3, V1\n",
      "==================================================\n",
      "\n",
      "==================================================\n",
      "Yo quiero ser el Presidente de México , para lograr ese cambio profundo y esa transformación que hoy , nuestro país necesita .\n",
      "\n",
      "Categorías inferidas: C2, E3, V1\n",
      "==================================================\n",
      "\n",
      "==================================================\n",
      "Ricardo Anaya exhortó a sus colaboradores a trabajar sin descanso durante los próximos tres meses .\n",
      "\n",
      "Categorías inferidas: NA\n",
      "==================================================\n",
      "\n",
      "==================================================\n",
      "Adelantó que llamará a participar a muchos jóvenes en el nuevo gobierno democrático y puso como ejemplo los jóvenes que participarán : como secretario de Desarrollo Urbano será Román Meyer ; secretaria de Trabajo , María Luisa Alcalde , quien le tocará coordinar el programa \" Jóvenes construyendo el futuro \" .\n",
      "\n",
      "Categorías inferidas: C1, E3\n",
      "==================================================\n",
      "\n",
      "==================================================\n",
      "Finalmente , reiteró que la Coalición que encabeza quiere un gobierno con muchísimas mujeres no sólo en el gabinete , sino en todos los espacios públicos y de decisión .\n",
      "\n",
      "Categorías inferidas: C1, C2, E2\n",
      "==================================================\n",
      "\n",
      "==================================================\n",
      "Señaló que se tiene que votar por la transformación de México , no se trata de votar por un candidato o por un partido , lo más importante es votar por el programa de transformación del país .\n",
      "\n",
      "Categorías inferidas: E3, V1\n",
      "==================================================\n",
      "\n",
      "==================================================\n",
      "Aprovechándose del referido financiamiento ilegal , y de manera opaca , dirigentes y militantes de Morena distribuyen dinero en efectivo a votantes , incluyendo a una mayoría que no está en el padrón de damnificados , a fin de coaccionar el voto a favor de López Obrador , acusó la Diputada Mariana Benítez , también representante del PRI ante el INE .\n",
      "\n",
      "Categorías inferidas: E1\n",
      "==================================================\n",
      "\n",
      "==================================================\n",
      "Por la tarde , Andrés Manuel López Obrador visitará Chetumal , Quintana Roo , donde dijo que podrá cumplir con sus compromisos , porque terminará con la corrupción y los privilegios , habrá presupuesto , pero no endeudará al país , ni habrá aumentos de impuestos , ni gasolinazos .\n",
      "\n",
      "Categorías inferidas: C1, C2\n",
      "==================================================\n",
      "\n",
      "==================================================\n",
      "Arturo Zamora compromete apoyo de priistas para llevar a su candidato presidencial al triunfo .\n",
      "\n",
      "Categorías inferidas: NA\n",
      "==================================================\n",
      "\n"
     ]
    }
   ],
   "source": [
    "with torch.no_grad():\n",
    "    for i, x in enumerate(X_test):\n",
    "        print('='*50)\n",
    "        print(' '.join(sentences[i]))\n",
    "#         print_ix_sentence(x)\n",
    "        pred = persuasion(x)\n",
    "        print()\n",
    "        print_ix_cat(pred)\n",
    "        print('='*50)\n",
    "        print()"
   ]
  },
  {
   "cell_type": "code",
   "execution_count": null,
   "metadata": {
    "scrolled": true
   },
   "outputs": [],
   "source": []
  }
 ],
 "metadata": {
  "kernelspec": {
   "display_name": "Python 3",
   "language": "python",
   "name": "python3"
  },
  "language_info": {
   "codemirror_mode": {
    "name": "ipython",
    "version": 3
   },
   "file_extension": ".py",
   "mimetype": "text/x-python",
   "name": "python",
   "nbconvert_exporter": "python",
   "pygments_lexer": "ipython3",
   "version": "3.7.7"
  }
 },
 "nbformat": 4,
 "nbformat_minor": 4
}
