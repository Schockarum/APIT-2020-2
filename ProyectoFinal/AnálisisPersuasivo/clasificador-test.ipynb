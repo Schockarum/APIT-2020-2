{
 "cells": [
  {
   "cell_type": "code",
   "execution_count": 1,
   "metadata": {
    "scrolled": true
   },
   "outputs": [],
   "source": [
    "import torch\n",
    "import torch.nn as nn\n",
    "import torch.nn.functional as F\n",
    "# from collections import Counter\n",
    "import random\n",
    "# import matplotlib.pyplot as plt\n",
    "import numpy as np\n",
    "# from sklearn.model_selection import train_test_split\n",
    "# from tqdm.notebook import tqdm"
   ]
  },
  {
   "cell_type": "code",
   "execution_count": 2,
   "metadata": {
    "scrolled": true
   },
   "outputs": [],
   "source": [
    "# Número de GPUs disponibles. Usar 0 para modo CPU.\n",
    "ngpu = 1\n",
    "\n",
    "# Fuente de la cual queremos obtener los datos\n",
    "source = 'corenlp'"
   ]
  },
  {
   "cell_type": "code",
   "execution_count": 3,
   "metadata": {
    "scrolled": true
   },
   "outputs": [
    {
     "data": {
      "text/plain": [
       "device(type='cuda', index=0)"
      ]
     },
     "execution_count": 3,
     "metadata": {},
     "output_type": "execute_result"
    }
   ],
   "source": [
    "# Decide si queremos correr en gpu o cpu\n",
    "device = torch.device(\"cuda:0\" if (torch.cuda.is_available() and ngpu > 0) else \"cpu\")\n",
    "device"
   ]
  },
  {
   "cell_type": "code",
   "execution_count": 4,
   "metadata": {
    "scrolled": true
   },
   "outputs": [
    {
     "data": {
      "text/plain": [
       "{'C1': 0, 'C2': 1, 'E1': 2, 'E2': 3, 'E3': 4, 'E4': 5, 'V1': 6}"
      ]
     },
     "execution_count": 4,
     "metadata": {},
     "output_type": "execute_result"
    }
   ],
   "source": [
    "ix_to_cat = ['C1', 'C2', 'E1', 'E2', 'E3', 'E4','V1']\n",
    "cat_to_ix = { cat: ix for ix, cat in enumerate(ix_to_cat) }\n",
    "\n",
    "num_cat = len(ix_to_cat) # Tamaño de salida de la red\n",
    "\n",
    "cat_to_ix"
   ]
  },
  {
   "cell_type": "code",
   "execution_count": 5,
   "metadata": {
    "scrolled": true
   },
   "outputs": [
    {
     "data": {
      "text/plain": [
       "[',', 'de', 'que', 'la', 'a']"
      ]
     },
     "execution_count": 5,
     "metadata": {},
     "output_type": "execute_result"
    }
   ],
   "source": [
    "ix_to_w = []\n",
    "with open(f'./../Embeddings/word_labels_{source}.txt', 'r', encoding='utf-8') as f:\n",
    "    ix_to_w = f.read().splitlines()\n",
    "    \n",
    "w_to_ix = { w: ix for ix, w in enumerate(ix_to_w) }\n",
    "\n",
    "tam_vocab = len(ix_to_w)\n",
    "\n",
    "ix_to_w[:5]"
   ]
  },
  {
   "cell_type": "code",
   "execution_count": 6,
   "metadata": {
    "scrolled": true
   },
   "outputs": [
    {
     "data": {
      "text/plain": [
       "['Recordó que cuando fue jefe de Gobierno , llevó a cabo un programa para construir 150 mil viviendas en la Ciudad de México y ahora hará un programa de vivienda para ayudar a los afectados por el sismo en este municipio .',\n",
       " 'Describió que el de sus adversarios tienen que ver con las élites del poder económico y del poder político y el proyecto de millones de mexicanos es la transformación del país , por eso se logra la unidad de todos los partidos , no es solo MORENA , el PT , el PES , sino militantes de todos los partidos , porque solo el pueblo unido y organizado puede salvar a la nación .',\n",
       " 'Por la tarde , López Obrador estará Tecamachalco y Atlixco , Puebla .',\n",
       " '\" Qué hicieron estos tecnócratas , acabaron la industria petrolera , va a así en picada la industria petrolera , todavía en el 2004 la producción de petróleo era de 3 millones 400 mil barriles diarios , ahora 2 millones 100 mil barriles diarios , más de un millón de barriles diarios han dejado de producir tan solo en el gobierno de Fox , de Calderón y de Peña Nieto \" , dijo .',\n",
       " 'Recordó que hay una sentencia que acredita que Napoleón Gómez Urrutia les robó a sus agremiados .']"
      ]
     },
     "execution_count": 6,
     "metadata": {},
     "output_type": "execute_result"
    }
   ],
   "source": [
    "sentences = []\n",
    "with open(f'./Corpus/Test/test-sample-400.txt', 'r', encoding='utf-8') as f:\n",
    "    sentences = [s.split() for s in f.read().splitlines()]\n",
    "\n",
    "[' '.join(s) for s in sentences[:5]]"
   ]
  },
  {
   "cell_type": "code",
   "execution_count": 7,
   "metadata": {
    "scrolled": true
   },
   "outputs": [],
   "source": [
    "BOS = '<BOS>'\n",
    "EOS = '<EOS>'\n",
    "UNK = '<UNK>'\n",
    "\n",
    "ixBOS = w_to_ix[BOS]\n",
    "ixEOS = w_to_ix[EOS]\n",
    "ixUNK = w_to_ix[UNK]"
   ]
  },
  {
   "cell_type": "code",
   "execution_count": 8,
   "metadata": {
    "scrolled": true
   },
   "outputs": [],
   "source": [
    "def unk_w_to_ix(w):\n",
    "    try:\n",
    "        return w_to_ix[w]\n",
    "    except KeyError:\n",
    "        return ixUNK"
   ]
  },
  {
   "cell_type": "code",
   "execution_count": 9,
   "metadata": {
    "scrolled": true
   },
   "outputs": [
    {
     "data": {
      "text/plain": [
       "['[169, 2, 124, 144, 761, 1, 31, 0, 2415, 4, 233, 19, 201, 13, 364, 2169, 59, 3378, 8, 3, 111, 1, 20, 7, 120, 312, 19, 201, 1, 901, 13, 1079, 4, 9, 4754, 16, 5, 2150, 8, 65, 533, 6]',\n",
       " '[2337, 2, 5, 1, 42, 338, 117, 2, 238, 14, 17, 7473, 15, 109, 386, 7, 15, 109, 699, 7, 5, 256, 1, 95, 1, 81, 18, 3, 160, 15, 32, 0, 16, 60, 11, 4546, 3, 336, 1, 33, 9, 252, 0, 12, 18, 142, 194, 0, 5, 1957, 0, 5, 1991, 0, 226, 718, 1, 33, 9, 252, 0, 25, 142, 5, 58, 1120, 7, 745, 113, 1540, 4, 3, 346, 6]',\n",
       " '[16, 3, 231, 0, 29, 30, 223, 7208, 7, 5137, 0, 403, 6]',\n",
       " '[10, 107, 692, 301, 3442, 0, 4115, 3, 755, 1062, 0, 43, 4, 99, 8, 2693, 3, 755, 1062, 0, 565, 8, 5, 7473, 3, 1431, 1, 1092, 633, 1, 410, 95, 1128, 59, 2152, 1056, 0, 120, 492, 95, 432, 59, 2152, 1056, 0, 27, 1, 19, 978, 1, 2152, 1056, 106, 3525, 1, 1525, 695, 142, 8, 5, 31, 1, 496, 0, 1, 670, 7, 1, 132, 270, 10, 0, 35, 6]',\n",
       " '[169, 2, 46, 24, 5360, 2, 4290, 2, 2314, 1160, 3093, 67, 2250, 4, 42, 7473, 6]']"
      ]
     },
     "execution_count": 9,
     "metadata": {},
     "output_type": "execute_result"
    }
   ],
   "source": [
    "X = [\n",
    "    # Convierto las palabras (en minúsculas) a índices\n",
    "    [ unk_w_to_ix(w.lower()) for w in sent ] \n",
    "    for sent in sentences\n",
    "]\n",
    "\n",
    "[str(x) for x in X[:5]]"
   ]
  },
  {
   "cell_type": "code",
   "execution_count": 10,
   "metadata": {
    "scrolled": true
   },
   "outputs": [],
   "source": [
    "X = [np.asarray(x, dtype=np.long) for x in X]"
   ]
  },
  {
   "cell_type": "code",
   "execution_count": 11,
   "metadata": {
    "scrolled": true
   },
   "outputs": [],
   "source": [
    "def np_to_long_tensor(list_of_lists):\n",
    "    return [\n",
    "        torch.from_numpy(l).long().to(device)\n",
    "        for l in list_of_lists\n",
    "    ]"
   ]
  },
  {
   "cell_type": "code",
   "execution_count": 12,
   "metadata": {
    "scrolled": true
   },
   "outputs": [
    {
     "data": {
      "text/plain": [
       "49"
      ]
     },
     "execution_count": 12,
     "metadata": {},
     "output_type": "execute_result"
    }
   ],
   "source": [
    "X_test = np_to_long_tensor(X)\n",
    "N_test = len(X_test)\n",
    "N_test"
   ]
  },
  {
   "cell_type": "code",
   "execution_count": 13,
   "metadata": {
    "scrolled": true
   },
   "outputs": [],
   "source": [
    "class PersuasionLSTM(nn.Module):\n",
    "    def __init__(self, D_in, D_emb, D_lstm, D_out, bidirectional=False):\n",
    "        super(PersuasionLSTM, self).__init__()\n",
    "        self.embedding = nn.Embedding(num_embeddings=D_in, embedding_dim=D_emb)#, padding_idx=0)\n",
    "        # self.dropout = nn.Dropout(p=0.2)\n",
    "        self.lstm = nn.LSTM(\n",
    "            input_size=D_emb, \n",
    "            hidden_size=D_lstm,\n",
    "            bidirectional=bidirectional\n",
    "        )\n",
    "        \n",
    "        self.linear = nn.Linear(\n",
    "            in_features=D_lstm*2 if bidirectional else D_lstm, \n",
    "            out_features=D_out\n",
    "        )\n",
    "        \n",
    "        self.sig = nn.Sigmoid()\n",
    "        \n",
    "\n",
    "    def forward(self, sentence):\n",
    "        T = len(sentence)\n",
    "        embeddings = self.embedding(sentence).view(T, 1, -1)\n",
    "        # embeddings = self.dropout(embeddings)\n",
    "        lstm_out, (ht, ct) = self.lstm(embeddings)\n",
    "        lstm_out = lstm_out.view(T, -1)\n",
    "        preact_out = self.linear(lstm_out).view(T, -1)\n",
    "        return self.sig(preact_out[-1])"
   ]
  },
  {
   "cell_type": "code",
   "execution_count": 14,
   "metadata": {
    "scrolled": true
   },
   "outputs": [],
   "source": [
    "# Dimensiones de la red neuronal\n",
    "D_in = tam_vocab\n",
    "D_emb = 64\n",
    "D_lstm = 64\n",
    "D_out = num_cat"
   ]
  },
  {
   "cell_type": "code",
   "execution_count": 15,
   "metadata": {
    "scrolled": true
   },
   "outputs": [
    {
     "data": {
      "text/plain": [
       "PersuasionLSTM(\n",
       "  (embedding): Embedding(7474, 64)\n",
       "  (lstm): LSTM(64, 64, bidirectional=True)\n",
       "  (linear): Linear(in_features=128, out_features=7, bias=True)\n",
       "  (sig): Sigmoid()\n",
       ")"
      ]
     },
     "execution_count": 15,
     "metadata": {},
     "output_type": "execute_result"
    }
   ],
   "source": [
    "persuasion = PersuasionLSTM(D_in, D_emb, D_lstm, D_out, True).to(device)\n",
    "persuasion.eval()"
   ]
  },
  {
   "cell_type": "code",
   "execution_count": 16,
   "metadata": {
    "scrolled": true
   },
   "outputs": [
    {
     "data": {
      "text/plain": [
       "<All keys matched successfully>"
      ]
     },
     "execution_count": 16,
     "metadata": {},
     "output_type": "execute_result"
    }
   ],
   "source": [
    "dir_path = './modelsaves/'\n",
    "filename = f'model-V3-seed_69420-last-epoch_100'\n",
    "persuasion.load_state_dict(torch.load(dir_path+filename))"
   ]
  },
  {
   "cell_type": "code",
   "execution_count": 17,
   "metadata": {
    "scrolled": true
   },
   "outputs": [],
   "source": [
    "def print_ix_sentence(sentence):\n",
    "    print(' '.join(ix_to_w[ix] for ix in sentence.data))\n",
    "\n",
    "def print_ix_cat(probs):\n",
    "    categorias = []\n",
    "    print('Categorías inferidas: ', end='')\n",
    "    for i, p_i in enumerate(probs.data):\n",
    "        if p_i.item() > 0.51:\n",
    "            categorias.append(ix_to_cat[i])\n",
    "    if len(categorias) == 0:\n",
    "        print('NA')\n",
    "    else:\n",
    "        print(', '.join(categorias))\n",
    "    print('\\nProbabilidades')\n",
    "    print('\\t'.join(ix_to_cat))\n",
    "    print('\\t'.join([f'{p_i.item():0.3f}' for p_i in probs.data]))"
   ]
  },
  {
   "cell_type": "markdown",
   "metadata": {},
   "source": [
    "1. **Construcción del emisor/candidato (C1):** el candidato se coloca como referente principal del acto discursivo para exaltar sus cualidades personales y erigirse, a los ojos de sus interlocutores, como un líder en quien es adecuado confiar para el desarrollo de acciones de gobierno a favor de la sociedad; esto lo lleva a cabo mediante realizaciones léxicas de la primera persona, en singular o plural, y formas flexivas de verbos y posesivos para referirse a sí mismo, ya sea como individuo o como miembro de una colectividad. Para el caso de la campaña presidencial que nos ocupa, las cualidades del candidato emitidas por un tercero en el marco de una tarea proselitista, quedarán incluidas en esta categoría, ya que contribuyen a construir la imagen positiva del contendiente.\n",
    "\n",
    "2. **Promesa de campaña (C2):** a través de piezas discursivas, orales o escritas, el candidato oferta, destaca o compromete acciones que proyecta convertir en políticas públicas a favor de la población, si obtiene el triunfo en las urnas, con lo que implícitamente solicita el voto ciudadano que lo llevaría al poder.\n",
    "\n",
    "3. **Construcción del adversario (E1):** el mensaje es dirigido a su contraparte en la contienda electoral y está construido a manera de réplica y puede usar diferentes figuras retóricas (metáfora, ironía, metonimia) para conformar en el receptor una imagen determinada del adversario, que esencialmente tiene finalidad de descrédito.\n",
    "\n",
    "4. **Exageración de la información (E2):** se destacan los datos favorables a los fines persuasivos, con el objetivo de crear una idea positiva en la mente del receptor referente al tema del que se habla, o incluso negativa respecto de información relativa al adversario; el persuasor desfigura el sentido original del acontecimiento, nos dice Roiz (1994), mediante códigos diferentes: humorístico, burlesco, cínico, entre otros.\n",
    "\n",
    "5. **Recurso retórico (E3):** son variables basadas en figuras retóricas (metáfora, ironía, hipérbole, personificación, pleonasmo, perífrasis) que pueden fortalecer el efecto persuasivo, de acuerdo con Reardon (1991).\n",
    "\n",
    "6. **Apelación al miedo (E4):** el candidato emite mensajes dentro de su alocución que pretenden provocar sentimientos de aprensión, desasosiego o preocupación con respecto al adversario o a sus propuestas. \n",
    "\n",
    "7. **Llamado al voto (V1):** el emisor del mensaje hace una invitación directa al ciudadano para que apoye su proyecto político el día de la elección al depositar el sufragio a su favor.\n"
   ]
  },
  {
   "cell_type": "code",
   "execution_count": 18,
   "metadata": {},
   "outputs": [
    {
     "ename": "NameError",
     "evalue": "name 'pred' is not defined",
     "output_type": "error",
     "traceback": [
      "\u001b[1;31m---------------------------------------------------------------------------\u001b[0m",
      "\u001b[1;31mNameError\u001b[0m                                 Traceback (most recent call last)",
      "\u001b[1;32m<ipython-input-18-a30eaac2d29e>\u001b[0m in \u001b[0;36m<module>\u001b[1;34m\u001b[0m\n\u001b[1;32m----> 1\u001b[1;33m \u001b[0mpred\u001b[0m\u001b[1;33m.\u001b[0m\u001b[0mview\u001b[0m\u001b[1;33m(\u001b[0m\u001b[1;33m-\u001b[0m\u001b[1;36m1\u001b[0m\u001b[1;33m)\u001b[0m\u001b[1;33m\u001b[0m\u001b[1;33m\u001b[0m\u001b[0m\n\u001b[0m",
      "\u001b[1;31mNameError\u001b[0m: name 'pred' is not defined"
     ]
    }
   ],
   "source": [
    "pred.view(-1)"
   ]
  },
  {
   "cell_type": "code",
   "execution_count": 19,
   "metadata": {
    "scrolled": false
   },
   "outputs": [
    {
     "name": "stdout",
     "output_type": "stream",
     "text": [
      "==================================================\n",
      "Recordó que cuando fue jefe de Gobierno , llevó a cabo un programa para construir 150 mil viviendas en la Ciudad de México y ahora hará un programa de vivienda para ayudar a los afectados por el sismo en este municipio .\n",
      "\n",
      "Categorías inferidas: C2\n",
      "\n",
      "Probabilidades\n",
      "C1\tC2\tE1\tE2\tE3\tE4\tV1\n",
      "0.003\t0.999\t0.000\t0.004\t0.000\t0.000\t0.000\n",
      "==================================================\n",
      "\n",
      "==================================================\n",
      "Describió que el de sus adversarios tienen que ver con las élites del poder económico y del poder político y el proyecto de millones de mexicanos es la transformación del país , por eso se logra la unidad de todos los partidos , no es solo MORENA , el PT , el PES , sino militantes de todos los partidos , porque solo el pueblo unido y organizado puede salvar a la nación .\n",
      "\n",
      "Categorías inferidas: C1\n",
      "\n",
      "Probabilidades\n",
      "C1\tC2\tE1\tE2\tE3\tE4\tV1\n",
      "0.943\t0.000\t0.000\t0.000\t0.000\t0.000\t0.000\n",
      "==================================================\n",
      "\n",
      "==================================================\n",
      "Por la tarde , López Obrador estará Tecamachalco y Atlixco , Puebla .\n",
      "\n",
      "Categorías inferidas: NA\n",
      "\n",
      "Probabilidades\n",
      "C1\tC2\tE1\tE2\tE3\tE4\tV1\n",
      "0.004\t0.000\t0.001\t0.000\t0.000\t0.000\t0.025\n",
      "==================================================\n",
      "\n",
      "==================================================\n",
      "\" Qué hicieron estos tecnócratas , acabaron la industria petrolera , va a así en picada la industria petrolera , todavía en el 2004 la producción de petróleo era de 3 millones 400 mil barriles diarios , ahora 2 millones 100 mil barriles diarios , más de un millón de barriles diarios han dejado de producir tan solo en el gobierno de Fox , de Calderón y de Peña Nieto \" , dijo .\n",
      "\n",
      "Categorías inferidas: C1, C2\n",
      "\n",
      "Probabilidades\n",
      "C1\tC2\tE1\tE2\tE3\tE4\tV1\n",
      "0.999\t0.962\t0.000\t0.006\t0.089\t0.000\t0.000\n",
      "==================================================\n",
      "\n",
      "==================================================\n",
      "Recordó que hay una sentencia que acredita que Napoleón Gómez Urrutia les robó a sus agremiados .\n",
      "\n",
      "Categorías inferidas: NA\n",
      "\n",
      "Probabilidades\n",
      "C1\tC2\tE1\tE2\tE3\tE4\tV1\n",
      "0.000\t0.000\t0.000\t0.000\t0.000\t0.000\t0.000\n",
      "==================================================\n",
      "\n",
      "==================================================\n",
      "Se comprometió a que la Secretaría de Comunicaciones y Transportes estén en San Luis Potosí , porque se necesita reactivar la economía en los estados , que no haya centralismo .\n",
      "\n",
      "Categorías inferidas: C1\n",
      "\n",
      "Probabilidades\n",
      "C1\tC2\tE1\tE2\tE3\tE4\tV1\n",
      "0.929\t0.054\t0.060\t0.000\t0.006\t0.000\t0.000\n",
      "==================================================\n",
      "\n",
      "==================================================\n",
      "El candidato presidencial de la coalición Todos por México , José Antonio Meade , estableció un conjunto de compromisos con Querétaro , a fin de que la entidad se convierta en una tierra de oportunidades y que , con trabajo conjunto , vuelva a ser el estado y la ciudad más limpia del país .\n",
      "\n",
      "Categorías inferidas: NA\n",
      "\n",
      "Probabilidades\n",
      "C1\tC2\tE1\tE2\tE3\tE4\tV1\n",
      "0.000\t0.057\t0.000\t0.000\t0.004\t0.126\t0.000\n",
      "==================================================\n",
      "\n",
      "==================================================\n",
      "Es abanderado del PRI , PVEM y Nueva Alianza afirmó que PEMEX contará con la presencia de las Fuerzas Armadas , de Seguridad Pública , del SAT y de la Unidad de Inteligencia Financiera de la Secretaría de Hacienda y Crédito Público .\n",
      "\n",
      "Categorías inferidas: C2, E2\n",
      "\n",
      "Probabilidades\n",
      "C1\tC2\tE1\tE2\tE3\tE4\tV1\n",
      "0.001\t1.000\t0.000\t0.574\t0.000\t0.000\t0.001\n",
      "==================================================\n",
      "\n",
      "==================================================\n",
      "También estuvo presente Alberto Rentería , presidente de MORENA en Baja California Sur ; Perla Flores del PES y el coordinador regional , Marcelo Ebrard .\n",
      "\n",
      "Categorías inferidas: NA\n",
      "\n",
      "Probabilidades\n",
      "C1\tC2\tE1\tE2\tE3\tE4\tV1\n",
      "0.000\t0.000\t0.318\t0.000\t0.000\t0.000\t0.002\n",
      "==================================================\n",
      "\n",
      "==================================================\n",
      "Previamente , en entrevista , López Obrador comentó que pediría un informe a los dirigentes de MORENA en Tabasco y a los encargados de finanzas sobre supuesto un pago para la impresión de ejemplares del periódico Regeneración .\n",
      "\n",
      "Categorías inferidas: NA\n",
      "\n",
      "Probabilidades\n",
      "C1\tC2\tE1\tE2\tE3\tE4\tV1\n",
      "0.000\t0.192\t0.000\t0.002\t0.000\t0.000\t0.000\n",
      "==================================================\n",
      "\n",
      "==================================================\n",
      "Adelantó que el nuevo gobierno democrático de México seguirá manteniendo una relación de respeto con el gobierno de Estados Unidos , no se quiere la confrontación , lo mejor es el entendimiento , pero se pedirá que haya respeto mutuo .\n",
      "\n",
      "Categorías inferidas: C1, E1\n",
      "\n",
      "Probabilidades\n",
      "C1\tC2\tE1\tE2\tE3\tE4\tV1\n",
      "1.000\t0.001\t0.973\t0.007\t0.305\t0.004\t0.000\n",
      "==================================================\n",
      "\n",
      "==================================================\n",
      "Pidió a los de la mafia del poder que se serenen , no va a pasar nada , lo único que va a suceder es que se les hará a un lado sin testearlos mucho , serán tratados con sutileza , nada más que se terminará el bandidaje oficial , se acabará la robadera .\n",
      "\n",
      "Categorías inferidas: C1, E3\n",
      "\n",
      "Probabilidades\n",
      "C1\tC2\tE1\tE2\tE3\tE4\tV1\n",
      "0.982\t0.003\t0.000\t0.051\t0.875\t0.000\t0.000\n",
      "==================================================\n",
      "\n",
      "==================================================\n",
      "Está integrado de forma paritaria por mujeres y hombres .\n",
      "\n",
      "Categorías inferidas: NA\n",
      "\n",
      "Probabilidades\n",
      "C1\tC2\tE1\tE2\tE3\tE4\tV1\n",
      "0.004\t0.055\t0.001\t0.000\t0.000\t0.000\t0.001\n",
      "==================================================\n",
      "\n",
      "==================================================\n",
      "Mientras @lopezobrador _ se asocia con la CNTE y Elba Esther para echar abajo la # ReformaEducativa , yo cierro filas con los padres de familia , los estudiantes y los maestros que quieren lo mejor para México \" , escribió .\n",
      "\n",
      "Categorías inferidas: E3\n",
      "\n",
      "Probabilidades\n",
      "C1\tC2\tE1\tE2\tE3\tE4\tV1\n",
      "0.114\t0.000\t0.000\t0.000\t0.949\t0.000\t0.002\n",
      "==================================================\n",
      "\n",
      "==================================================\n",
      "Hoy en la mañana me comentaba un candidato que tardó cinco días para obtener registro a presidente municipal , porque le pedían un papel y otro y otro .\n",
      "\n",
      "Categorías inferidas: C1, C2\n",
      "\n",
      "Probabilidades\n",
      "C1\tC2\tE1\tE2\tE3\tE4\tV1\n",
      "0.956\t0.521\t0.002\t0.000\t0.062\t0.008\t0.000\n",
      "==================================================\n",
      "\n",
      "==================================================\n",
      "\" El gobierno norteamericano ya le tomó la medida al gobierno mexicano y lamento decir que veo muy difícil que este gobierno pueda lograr un buen acuerdo que realmente defienda el interés nacional \" .\n",
      "\n",
      "Categorías inferidas: C2\n",
      "\n",
      "Probabilidades\n",
      "C1\tC2\tE1\tE2\tE3\tE4\tV1\n",
      "0.056\t0.999\t0.000\t0.000\t0.001\t0.000\t0.000\n",
      "==================================================\n",
      "\n",
      "==================================================\n",
      "* El candidato presidencial presenta cinco propuestas específicas de apoyo a los migrantes .\n",
      "\n",
      "Categorías inferidas: NA\n",
      "\n",
      "Probabilidades\n",
      "C1\tC2\tE1\tE2\tE3\tE4\tV1\n",
      "0.001\t0.000\t0.000\t0.000\t0.000\t0.000\t0.000\n",
      "==================================================\n",
      "\n",
      "==================================================\n",
      "\" Estamos a solo 7 días de lograr el cambio profundo con el que ustedes y yo soñamos \" , dijo en medio de porras , matracas y cornetas , con las que los entusiasmados asistentes daban sus muestras de apoyo .\n",
      "\n",
      "Categorías inferidas: E2\n",
      "\n",
      "Probabilidades\n",
      "C1\tC2\tE1\tE2\tE3\tE4\tV1\n",
      "0.000\t0.003\t0.002\t0.834\t0.000\t0.000\t0.000\n",
      "==================================================\n",
      "\n",
      "==================================================\n",
      "Indicó que está 20 puntos arriba , no es para presumir , pero está arriba y dijo que la gente ya tomó la decisión de que haya cambio en México , el pueblo es sabio , entonces todo lo que hacen con guerra sucia y demás se les revierte , entonces deberían ellos de cambiar de estrategia , están mal sus publicistas .\n",
      "\n",
      "Categorías inferidas: NA\n",
      "\n",
      "Probabilidades\n",
      "C1\tC2\tE1\tE2\tE3\tE4\tV1\n",
      "0.054\t0.000\t0.000\t0.006\t0.001\t0.000\t0.000\n",
      "==================================================\n",
      "\n",
      "==================================================\n",
      "Las artesanías mazahuas destacan por su belleza plasmada en piezas de arte platero realizado por maestros de la orfebrería , además de cobijas , tapetes , manteles , chales y gabanes de lana .\n",
      "\n",
      "Categorías inferidas: NA\n",
      "\n",
      "Probabilidades\n",
      "C1\tC2\tE1\tE2\tE3\tE4\tV1\n",
      "0.010\t0.001\t0.026\t0.001\t0.441\t0.008\t0.003\n",
      "==================================================\n",
      "\n",
      "==================================================\n",
      "Asesor : Alejandro Chanona .\n",
      "\n",
      "Categorías inferidas: NA\n",
      "\n",
      "Probabilidades\n",
      "C1\tC2\tE1\tE2\tE3\tE4\tV1\n",
      "0.111\t0.000\t0.102\t0.001\t0.001\t0.002\t0.000\n",
      "==================================================\n",
      "\n",
      "==================================================\n",
      "Indicó que a nivel nacional , el país se dividirá por distritos y presentará el programa por todo el distrito de Tecámac , que contemplarán lo municipios , es decir , cuánto va a invertir el gobierno federal y se comprometió a regresar al distrito cada seis meses para evaluar las acciones .\n",
      "\n",
      "Categorías inferidas: C2\n",
      "\n",
      "Probabilidades\n",
      "C1\tC2\tE1\tE2\tE3\tE4\tV1\n",
      "0.000\t0.993\t0.000\t0.000\t0.000\t0.000\t0.000\n",
      "==================================================\n",
      "\n",
      "==================================================\n",
      "Anotó que poco a poco , se fue poblando el estado que actualmente cuenta con buenas tierras , zonas arqueológicas y con un buen pueblo , solo falta una cosa un buen gobierno , pero ya mero habrá se logrará el renacimiento de Quintana Roo y el de México .\n",
      "\n",
      "Categorías inferidas: C2\n",
      "\n",
      "Probabilidades\n",
      "C1\tC2\tE1\tE2\tE3\tE4\tV1\n",
      "0.000\t0.783\t0.000\t0.000\t0.001\t0.000\t0.006\n",
      "==================================================\n",
      "\n",
      "==================================================\n",
      "Para el campo , Meade dijo que trabajará con los productores y los pondrá al centro de las políticas púbicas en la materia .\n",
      "\n",
      "Categorías inferidas: NA\n",
      "\n",
      "Probabilidades\n",
      "C1\tC2\tE1\tE2\tE3\tE4\tV1\n",
      "0.000\t0.464\t0.000\t0.000\t0.000\t0.000\t0.000\n",
      "==================================================\n",
      "\n",
      "==================================================\n",
      "Mañana , el candidato a la Presidencia de México visitará Tlalpan , Magdalena Contreras y Cuajimalpa , Ciudad de México .\n",
      "\n",
      "Categorías inferidas: E3\n",
      "\n",
      "Probabilidades\n",
      "C1\tC2\tE1\tE2\tE3\tE4\tV1\n",
      "0.001\t0.003\t0.155\t0.000\t0.895\t0.000\t0.001\n",
      "==================================================\n",
      "\n",
      "==================================================\n",
      "Expuso que una vez triunfe el movimiento que encabeza cancelará la mal llamada reforma educativa , porque fue una reforma laboral para afectar al magisterio y se elaborará un plan para mejorar la calidad de la enseñanza , se terminarán las políticas privatizaciones , no se privatizará el agua , el ISSSTE y el Seguro , al contrario se mejorarán los servicios públicos .\n",
      "\n",
      "Categorías inferidas: C2\n",
      "\n",
      "Probabilidades\n",
      "C1\tC2\tE1\tE2\tE3\tE4\tV1\n",
      "0.001\t1.000\t0.000\t0.001\t0.006\t0.017\t0.004\n",
      "==================================================\n",
      "\n",
      "==================================================\n",
      "El candidato por la coalición \" Juntos haremos historia \" a la Presidencia de México detalló que en la reunión no se firmará nada , es una reunión con el magisterio de Oaxaca , además , es con los docentes que voluntariamente asistan , no es un asunto corporativo .\n",
      "\n",
      "Categorías inferidas: NA\n",
      "\n",
      "Probabilidades\n",
      "C1\tC2\tE1\tE2\tE3\tE4\tV1\n",
      "0.178\t0.000\t0.017\t0.000\t0.200\t0.025\t0.000\n",
      "==================================================\n",
      "\n",
      "==================================================\n",
      "El aspirante escuchó los testimonios de cuatro mujeres trabajadoras , quienes pidieron guarderías , a fin de que les permitan desarrollar sus labores con la tranquilidad de que sus hijos están bien atendidos , además de seguridad e impulso al transporte público .\n",
      "\n",
      "Categorías inferidas: C2\n",
      "\n",
      "Probabilidades\n",
      "C1\tC2\tE1\tE2\tE3\tE4\tV1\n",
      "0.032\t0.992\t0.000\t0.000\t0.002\t0.001\t0.000\n",
      "==================================================\n",
      "\n",
      "==================================================\n",
      "\" Nosotros no hacemos acuerdo en lo oscurito , lo que hacemos es a la luz pública siempre \" , dijo al comentar que el día tres de julio pedirá audiencia con Enrique Peña Nieto .\n",
      "\n",
      "Categorías inferidas: NA\n",
      "\n",
      "Probabilidades\n",
      "C1\tC2\tE1\tE2\tE3\tE4\tV1\n",
      "0.001\t0.000\t0.002\t0.000\t0.000\t0.023\t0.000\n",
      "==================================================\n",
      "\n",
      "==================================================\n",
      "Se comprometió a regresar como presidente electo para traer el programa integral para el municipio de Tlaquepaque .\n",
      "\n",
      "Categorías inferidas: C2\n",
      "\n",
      "Probabilidades\n",
      "C1\tC2\tE1\tE2\tE3\tE4\tV1\n"
     ]
    },
    {
     "name": "stdout",
     "output_type": "stream",
     "text": [
      "0.000\t1.000\t0.000\t0.000\t0.000\t0.000\t0.001\n",
      "==================================================\n",
      "\n",
      "==================================================\n",
      "Manifestó que no se tiene que gastar tanto en la construcción del aeropuerto en el Lago de Texcoco , porque hasta ahora es una inversión estimada de 300 mil millones de pesos , pero se puede consumir mucho más dinero del presupuesto , de todos los ciudadanos .\n",
      "\n",
      "Categorías inferidas: E2\n",
      "\n",
      "Probabilidades\n",
      "C1\tC2\tE1\tE2\tE3\tE4\tV1\n",
      "0.011\t0.149\t0.001\t0.899\t0.415\t0.000\t0.000\n",
      "==================================================\n",
      "\n",
      "==================================================\n",
      "En conferencia de prensa , Ricardo Anaya señaló que esta nueva amenaza del Presidente de Estados Unidos , realizada sin provocación alguna , requiere de una respuesta rápida y enérgica , lo que hace inaceptable la pasividad del gobierno mexicano .\n",
      "\n",
      "Categorías inferidas: E1\n",
      "\n",
      "Probabilidades\n",
      "C1\tC2\tE1\tE2\tE3\tE4\tV1\n",
      "0.002\t0.002\t0.862\t0.165\t0.002\t0.000\t0.000\n",
      "==================================================\n",
      "\n",
      "==================================================\n",
      "En un encuentro con cientos de empresarios y representantes de la sociedad tamaulipeca , José Antonio Meade aseguró que \" México debe cambiar , y debemos comenzar por cambiar la estrategia de seguridad , porque ésta ha fracasado . No podemos seguir siendo víctimas de los delincuentes , no podemos seguir siendo víctimas del miedo , no podemos ni debemos tolerar el nivel de inseguridad actual , que pone en peligro a nuestros hijos \" .\n",
      "\n",
      "Categorías inferidas: C1, C2\n",
      "\n",
      "Probabilidades\n",
      "C1\tC2\tE1\tE2\tE3\tE4\tV1\n",
      "0.955\t1.000\t0.000\t0.001\t0.040\t0.000\t0.000\n",
      "==================================================\n",
      "\n",
      "==================================================\n",
      "Además , resaltó , no habrá gasolinazos , no se va a endeudar al país y con lo que se ahorre alcanzará para otros programas .\n",
      "\n",
      "Categorías inferidas: NA\n",
      "\n",
      "Probabilidades\n",
      "C1\tC2\tE1\tE2\tE3\tE4\tV1\n",
      "0.000\t0.000\t0.032\t0.000\t0.000\t0.004\t0.000\n",
      "==================================================\n",
      "\n",
      "==================================================\n",
      "Esto es absolutamente inaceptable \" , puntualizó al reconocer que esta postura sí pone en riesgo la relación entre México y Estados Unidos .\n",
      "\n",
      "Categorías inferidas: NA\n",
      "\n",
      "Probabilidades\n",
      "C1\tC2\tE1\tE2\tE3\tE4\tV1\n",
      "0.258\t0.011\t0.000\t0.000\t0.090\t0.000\t0.000\n",
      "==================================================\n",
      "\n",
      "==================================================\n",
      "Agradeció la presencia del candidato a diputado , Alfredo Porras ; recomendó a Lucía Trasviña , candidata al Senado , al igual que Víctor Castro , al que definió como un maestro que \" desde hace mucho lucha con nosotros \" .\n",
      "\n",
      "Categorías inferidas: C1, C2, E1\n",
      "\n",
      "Probabilidades\n",
      "C1\tC2\tE1\tE2\tE3\tE4\tV1\n",
      "1.000\t0.670\t0.677\t0.178\t0.030\t0.000\t0.000\n",
      "==================================================\n",
      "\n",
      "==================================================\n",
      "En otro tema , López Obrador expresó : \" soy el principal cliente de la oficina de espionaje de Gobernación \" y adelantó que al triunfar , una de las primeras cosas que hará por curiosidad social es ver su expediente en el Centro de Investigación y Seguridad Nacional ( CISEN ) .\n",
      "\n",
      "Categorías inferidas: C2\n",
      "\n",
      "Probabilidades\n",
      "C1\tC2\tE1\tE2\tE3\tE4\tV1\n",
      "0.000\t0.846\t0.000\t0.000\t0.000\t0.000\t0.000\n",
      "==================================================\n",
      "\n",
      "==================================================\n",
      "Al aclarar que la guerra sucia en su contra es \" refrito del refrito \" y que no le tiene ningún miedo al gobierno de Peña Nieto , Ricardo Anaya aseveró que investigará todos los casos de corrupción de la actual administración priista .\n",
      "\n",
      "Categorías inferidas: E3\n",
      "\n",
      "Probabilidades\n",
      "C1\tC2\tE1\tE2\tE3\tE4\tV1\n",
      "0.000\t0.000\t0.000\t0.000\t0.991\t0.000\t0.005\n",
      "==================================================\n",
      "\n",
      "==================================================\n",
      "Ante miles de militantes y simpatizantes de los tres partidos que lo postulan , Meade refrendó su compromiso con las trabajadoras del hogar .\n",
      "\n",
      "Categorías inferidas: E1\n",
      "\n",
      "Probabilidades\n",
      "C1\tC2\tE1\tE2\tE3\tE4\tV1\n",
      "0.000\t0.000\t0.580\t0.020\t0.002\t0.018\t0.000\n",
      "==================================================\n",
      "\n",
      "==================================================\n",
      "Comentó que gana en los estados del norte del país , gana con mucha ventaja en el sureste y ahora está arriba también en Yucatán , son varios factores los que han llevado a este despertar ciudadano y ahora habrá un presidente choco-yucateco , \" ya va llegar la hora del sureste \" .\n",
      "\n",
      "Categorías inferidas: E3\n",
      "\n",
      "Probabilidades\n",
      "C1\tC2\tE1\tE2\tE3\tE4\tV1\n",
      "0.429\t0.000\t0.001\t0.000\t1.000\t0.000\t0.000\n",
      "==================================================\n",
      "\n",
      "==================================================\n",
      "Vamos a trabajar por un Estado de México que tenga más agua potable , que esté mejor comunicado , con trenes suburbanos modernos , limpios y seguros para que podamos llegar con bien a trabajar , sostuvo .\n",
      "\n",
      "Categorías inferidas: C2\n",
      "\n",
      "Probabilidades\n",
      "C1\tC2\tE1\tE2\tE3\tE4\tV1\n",
      "0.000\t0.940\t0.000\t0.026\t0.000\t0.000\t0.001\n",
      "==================================================\n",
      "\n",
      "==================================================\n",
      "A la pregunta de los reporteros sobre opinión de que las instalaciones de Palacio Nacional fueron ocupadas para hacer fotos en lencería , qué opina que se le dé un uso así a una instalación federal , el candidato a la coalición \" Juntos haremos historia \" , externó que está muy mal .\n",
      "\n",
      "Categorías inferidas: NA\n",
      "\n",
      "Probabilidades\n",
      "C1\tC2\tE1\tE2\tE3\tE4\tV1\n",
      "0.003\t0.000\t0.188\t0.000\t0.000\t0.000\t0.000\n",
      "==================================================\n",
      "\n",
      "==================================================\n",
      "\" Por eso no hay medicinas en los centros de salud , eso que llaman Seguro Popular , ni es seguro , ni es popular es demagogia , porque no hay medicinas en los centros de salud \" , subrayó .\n",
      "\n",
      "Categorías inferidas: NA\n",
      "\n",
      "Probabilidades\n",
      "C1\tC2\tE1\tE2\tE3\tE4\tV1\n",
      "0.472\t0.000\t0.013\t0.000\t0.000\t0.000\t0.000\n",
      "==================================================\n",
      "\n",
      "==================================================\n",
      "Dijo que se liberarán fondos para el desarrollo del país , no habrá derroche , ni gastos superfluos , habrá presupuesto , no se endeudará al país , no se aumentarán , en términos reales , los impuestos , ni habrá gasolinazos , al combatir la corrupción se ahorrarán 500 mil millones de pesos y otro tanto con el plan de austeridad republicana para impulsar actividades productivas , se producirá en México lo que consume .\n",
      "\n",
      "Categorías inferidas: C1, C2, E3\n",
      "\n",
      "Probabilidades\n",
      "C1\tC2\tE1\tE2\tE3\tE4\tV1\n",
      "0.663\t0.871\t0.006\t0.000\t0.682\t0.000\t0.000\n",
      "==================================================\n",
      "\n",
      "==================================================\n",
      "A la pregunta de los reporteros qué si se ha reunido con los consejeros del INE para hablar del tema , López Obrador dijo que no , pero los del INE deberían de estar al pendiente de estos asuntos .\n",
      "\n",
      "Categorías inferidas: E2\n",
      "\n",
      "Probabilidades\n",
      "C1\tC2\tE1\tE2\tE3\tE4\tV1\n",
      "0.000\t0.004\t0.000\t0.995\t0.003\t0.000\t0.000\n",
      "==================================================\n",
      "\n",
      "==================================================\n",
      "No hay encuesta ni análisis serio que dé al PRI la oportunidad de salir de esa posición en la elección presidencial .\n",
      "\n",
      "Categorías inferidas: NA\n",
      "\n",
      "Probabilidades\n",
      "C1\tC2\tE1\tE2\tE3\tE4\tV1\n",
      "0.000\t0.000\t0.000\t0.000\t0.000\t0.000\t0.000\n",
      "==================================================\n",
      "\n",
      "==================================================\n",
      "Finalmente , Ricardo Anaya recordó que el alto precio de la gasolina se debe a que prácticamente el 40 por ciento de lo que se paga por un litro , son impuestos que cobra el gobierno , mismos que votó en contra , porque son una carga económica absolutamente excesiva para la gente .\n",
      "\n",
      "Categorías inferidas: E4\n",
      "\n",
      "Probabilidades\n",
      "C1\tC2\tE1\tE2\tE3\tE4\tV1\n",
      "0.002\t0.003\t0.001\t0.000\t0.003\t0.573\t0.000\n",
      "==================================================\n",
      "\n",
      "==================================================\n",
      "Sobre la supuesta llamada de Ricardo Monreal con el gobernador de Chiapas , Manuel Velasco , el candidato a la Presidencia de México dijo que es lo mismo , es el nerviosismo que traen , es la alianza , coalición , frente , esa mescolanza que no les funciona y ahora están queriéndole echar la culpa de todos .\n",
      "\n",
      "Categorías inferidas: E1\n",
      "\n",
      "Probabilidades\n",
      "C1\tC2\tE1\tE2\tE3\tE4\tV1\n",
      "0.000\t0.001\t0.989\t0.000\t0.000\t0.020\t0.000\n",
      "==================================================\n",
      "\n",
      "==================================================\n",
      "José Antonio Meade afirmó que el éxito del país se explica porque los petroleros han encontrado nuevas formas de explotar pozos maduros y contar con mejores tazas de recuperación secundaria .\n",
      "\n",
      "Categorías inferidas: NA\n",
      "\n",
      "Probabilidades\n",
      "C1\tC2\tE1\tE2\tE3\tE4\tV1\n",
      "0.002\t0.000\t0.283\t0.399\t0.000\t0.000\t0.000\n",
      "==================================================\n",
      "\n"
     ]
    }
   ],
   "source": [
    "with torch.no_grad():\n",
    "    for i, x in enumerate(X_test):\n",
    "        print('='*50)\n",
    "        print(' '.join(sentences[i]))\n",
    "#         print_ix_sentence(x)\n",
    "        pred = persuasion(x)\n",
    "        print()\n",
    "        print_ix_cat(pred)\n",
    "        print('='*50)\n",
    "        print()"
   ]
  },
  {
   "cell_type": "code",
   "execution_count": null,
   "metadata": {
    "scrolled": true
   },
   "outputs": [],
   "source": []
  }
 ],
 "metadata": {
  "kernelspec": {
   "display_name": "Python 3",
   "language": "python",
   "name": "python3"
  },
  "language_info": {
   "codemirror_mode": {
    "name": "ipython",
    "version": 3
   },
   "file_extension": ".py",
   "mimetype": "text/x-python",
   "name": "python",
   "nbconvert_exporter": "python",
   "pygments_lexer": "ipython3",
   "version": "3.7.7"
  }
 },
 "nbformat": 4,
 "nbformat_minor": 4
}
