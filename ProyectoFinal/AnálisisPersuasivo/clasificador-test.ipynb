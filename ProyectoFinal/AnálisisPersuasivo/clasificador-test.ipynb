{
 "cells": [
  {
   "cell_type": "code",
   "execution_count": 1,
   "metadata": {},
   "outputs": [],
   "source": [
    "import torch\n",
    "import torch.nn as nn\n",
    "import torch.nn.functional as F\n",
    "# from collections import Counter\n",
    "import random\n",
    "# import matplotlib.pyplot as plt\n",
    "import numpy as np\n",
    "# from sklearn.model_selection import train_test_split\n",
    "# from tqdm.notebook import tqdm"
   ]
  },
  {
   "cell_type": "code",
   "execution_count": 2,
   "metadata": {},
   "outputs": [],
   "source": [
    "# Número de GPUs disponibles. Usar 0 para modo CPU.\n",
    "ngpu = 1\n",
    "\n",
    "# Fuente de la cual queremos obtener los datos\n",
    "source = 'corenlp'"
   ]
  },
  {
   "cell_type": "code",
   "execution_count": 3,
   "metadata": {},
   "outputs": [
    {
     "data": {
      "text/plain": [
       "device(type='cuda', index=0)"
      ]
     },
     "execution_count": 3,
     "metadata": {},
     "output_type": "execute_result"
    }
   ],
   "source": [
    "# Decide si queremos correr en gpu o cpu\n",
    "device = torch.device(\"cuda:0\" if (torch.cuda.is_available() and ngpu > 0) else \"cpu\")\n",
    "device"
   ]
  },
  {
   "cell_type": "code",
   "execution_count": 4,
   "metadata": {},
   "outputs": [
    {
     "data": {
      "text/plain": [
       "{'C1': 0, 'C2': 1, 'E1': 2, 'E2': 3, 'E3': 4, 'E4': 5, 'V1': 6}"
      ]
     },
     "execution_count": 4,
     "metadata": {},
     "output_type": "execute_result"
    }
   ],
   "source": [
    "ix_to_cat = ['C1', 'C2', 'E1', 'E2', 'E3', 'E4','V1']\n",
    "cat_to_ix = { cat: ix for ix, cat in enumerate(ix_to_cat) }\n",
    "\n",
    "num_cat = len(ix_to_cat) # Tamaño de salida de la red\n",
    "\n",
    "cat_to_ix"
   ]
  },
  {
   "cell_type": "code",
   "execution_count": 5,
   "metadata": {},
   "outputs": [
    {
     "data": {
      "text/plain": [
       "[',', 'de', 'que', 'la', 'a']"
      ]
     },
     "execution_count": 5,
     "metadata": {},
     "output_type": "execute_result"
    }
   ],
   "source": [
    "ix_to_w = []\n",
    "with open(f'./../Embeddings/word_labels_{source}.txt', 'r', encoding='utf-8') as f:\n",
    "    ix_to_w = f.read().splitlines()\n",
    "    \n",
    "w_to_ix = { w: ix for ix, w in enumerate(ix_to_w) }\n",
    "\n",
    "tam_vocab = len(ix_to_w)\n",
    "\n",
    "ix_to_w[:5]"
   ]
  },
  {
   "cell_type": "code",
   "execution_count": 6,
   "metadata": {},
   "outputs": [
    {
     "data": {
      "text/plain": [
       "['Informa AMLO que mañana se reunirá con maestros , padres de familia y comunidades indígenas en Guelatao , Oaxaca .',\n",
       " 'Explicó que seguirá el ejemplo de los mejores presidentes de México : Benito Juárez , Francisco I.',\n",
       " 'Afirmó que José Antonio Meade propone otorgar becas a estudiantes indígenas , créditos a la palabra para las mujeres y la apertura de Casas de Día para adultos mayores .',\n",
       " '\" No podemos actuar con irresponsabilidad , si los contratistas , los que tienen los contratos quieren invertir y hacerse cargo , que no le cueste al erario público , a la hacienda pública , adelante , estamos nosotros dispuesto a concesionarlo \" , expuso al comentar que tiene una alternativa que es construir dos pistas en el aeropuerto militar de Santa Lucía , sin cerrar el actual aeropuerto .',\n",
       " '\" Es decir que tengan una concesión y que les vaya muy bien , Slim ha dicho de que es un buen negocio , pues adelante , que participe en la licitación , vamos a convocar a técnicos de inobjetable honestidad , de constructores expertos y que expertos independientes hagan la propuesta para la licitación y que se les pueda presentar esto como una opción como una alternativa \" , dijo .']"
      ]
     },
     "execution_count": 6,
     "metadata": {},
     "output_type": "execute_result"
    }
   ],
   "source": [
    "sentences = []\n",
    "with open(f'./Corpus/Test/sentences-{source}.txt', 'r', encoding='utf-8') as f:\n",
    "    sentences = [s.split() for s in f.read().splitlines()]\n",
    "\n",
    "[' '.join(s) for s in sentences[:5]]"
   ]
  },
  {
   "cell_type": "code",
   "execution_count": 7,
   "metadata": {},
   "outputs": [],
   "source": [
    "BOS = '<BOS>'\n",
    "EOS = '<EOS>'\n",
    "UNK = '<UNK>'\n",
    "\n",
    "ixBOS = w_to_ix[BOS]\n",
    "ixEOS = w_to_ix[EOS]\n",
    "ixUNK = w_to_ix[UNK]"
   ]
  },
  {
   "cell_type": "code",
   "execution_count": 8,
   "metadata": {},
   "outputs": [],
   "source": [
    "def unk_w_to_ix(w):\n",
    "    try:\n",
    "        return w_to_ix[w]\n",
    "    except KeyError:\n",
    "        return ixUNK"
   ]
  },
  {
   "cell_type": "code",
   "execution_count": 9,
   "metadata": {},
   "outputs": [
    {
     "data": {
      "text/plain": [
       "['[1720, 244, 2, 172, 11, 1535, 14, 180, 0, 530, 1, 292, 7, 613, 731, 8, 2838, 0, 344, 6]',\n",
       " '[155, 2, 880, 5, 365, 1, 9, 413, 567, 1, 20, 40, 862, 486, 0, 664, 1291]',\n",
       " '[183, 2, 48, 50, 34, 921, 1767, 517, 4, 589, 731, 0, 612, 4, 3, 559, 13, 17, 114, 7, 3, 1578, 1, 939, 1, 175, 13, 371, 330, 6]',\n",
       " '[10, 12, 772, 928, 14, 6891, 0, 51, 9, 2456, 0, 9, 2, 117, 9, 549, 217, 1388, 7, 2380, 1020, 0, 2, 12, 36, 6892, 21, 3066, 250, 0, 4, 3, 1464, 271, 0, 353, 0, 182, 121, 1986, 4, 7473, 10, 0, 266, 21, 1630, 2, 47, 24, 682, 2, 18, 364, 196, 1762, 8, 5, 221, 1348, 1, 945, 1162, 0, 83, 982, 5, 627, 221, 6]',\n",
       " '[10, 18, 167, 2, 320, 24, 1996, 7, 2, 67, 503, 69, 137, 0, 1126, 62, 683, 1, 2, 18, 19, 619, 876, 0, 319, 353, 0, 2, 3414, 8, 3, 2167, 0, 39, 4, 2064, 4, 1345, 1, 5210, 598, 0, 1, 6072, 1856, 7, 2, 1856, 1968, 747, 3, 351, 13, 3, 2167, 7, 2, 11, 67, 376, 1010, 268, 28, 24, 610, 28, 24, 682, 10, 0, 35, 6]']"
      ]
     },
     "execution_count": 9,
     "metadata": {},
     "output_type": "execute_result"
    }
   ],
   "source": [
    "X = [\n",
    "    # Convierto las palabras (en minúsculas) a índices\n",
    "    [ unk_w_to_ix(w.lower()) for w in sent ] \n",
    "    for sent in sentences\n",
    "]\n",
    "\n",
    "[str(x) for x in X[:5]]"
   ]
  },
  {
   "cell_type": "code",
   "execution_count": 10,
   "metadata": {},
   "outputs": [],
   "source": [
    "X = [np.asarray(x, dtype=np.long) for x in X]"
   ]
  },
  {
   "cell_type": "code",
   "execution_count": 11,
   "metadata": {},
   "outputs": [],
   "source": [
    "def np_to_long_tensor(list_of_lists):\n",
    "    return [\n",
    "        torch.from_numpy(l).long().to(device)\n",
    "        for l in list_of_lists\n",
    "    ]"
   ]
  },
  {
   "cell_type": "code",
   "execution_count": 12,
   "metadata": {},
   "outputs": [
    {
     "data": {
      "text/plain": [
       "15"
      ]
     },
     "execution_count": 12,
     "metadata": {},
     "output_type": "execute_result"
    }
   ],
   "source": [
    "X_test = np_to_long_tensor(X)\n",
    "N_test = len(X_test)\n",
    "N_test"
   ]
  },
  {
   "cell_type": "code",
   "execution_count": 13,
   "metadata": {},
   "outputs": [],
   "source": [
    "class PersuasionLSTM(nn.Module):\n",
    "    def __init__(self, D_in, D_emb, D_lstm, D_out):\n",
    "        super(PersuasionLSTM, self).__init__()\n",
    "        self.embedding = nn.Embedding(num_embeddings=D_in, embedding_dim=D_emb)#, padding_idx=0)\n",
    "        # self.dropout = nn.Dropout(p=0.2)\n",
    "        self.lstm = nn.LSTM(input_size=D_emb, hidden_size=D_lstm)\n",
    "        self.linear = nn.Linear(in_features=D_lstm, out_features=D_out)\n",
    "        self.sig = nn.Sigmoid()\n",
    "        \n",
    "\n",
    "    def forward(self, sentence):\n",
    "        T = len(sentence)\n",
    "        embeddings = self.embedding(sentence).view(T, 1, -1)\n",
    "        # embeddings = self.dropout(embeddings)\n",
    "        lstm_out, (ht, ct) = self.lstm(embeddings)\n",
    "        lstm_out = lstm_out.view(T, -1)\n",
    "        preact_out = self.linear(lstm_out).view(T, -1)\n",
    "        return self.sig(preact_out[-1])"
   ]
  },
  {
   "cell_type": "code",
   "execution_count": 14,
   "metadata": {},
   "outputs": [],
   "source": [
    "# Dimensiones de la red neuronal\n",
    "D_in = tam_vocab\n",
    "D_emb = 64\n",
    "D_lstm = 32\n",
    "D_out = num_cat"
   ]
  },
  {
   "cell_type": "code",
   "execution_count": 15,
   "metadata": {},
   "outputs": [
    {
     "data": {
      "text/plain": [
       "PersuasionLSTM(\n",
       "  (embedding): Embedding(7474, 64)\n",
       "  (lstm): LSTM(64, 32)\n",
       "  (linear): Linear(in_features=32, out_features=7, bias=True)\n",
       "  (sig): Sigmoid()\n",
       ")"
      ]
     },
     "execution_count": 15,
     "metadata": {},
     "output_type": "execute_result"
    }
   ],
   "source": [
    "persuasion = PersuasionLSTM(D_in, D_emb, D_lstm, D_out).to(device)\n",
    "persuasion.eval()"
   ]
  },
  {
   "cell_type": "code",
   "execution_count": 19,
   "metadata": {},
   "outputs": [
    {
     "data": {
      "text/plain": [
       "<All keys matched successfully>"
      ]
     },
     "execution_count": 19,
     "metadata": {},
     "output_type": "execute_result"
    }
   ],
   "source": [
    "dir_path = './modelsaves/'\n",
    "filename = f'model-{source}-emb_64-lstm_32-seed_72-epochs_200-last-trained'\n",
    "persuasion.load_state_dict(torch.load(dir_path+filename))"
   ]
  },
  {
   "cell_type": "code",
   "execution_count": 20,
   "metadata": {},
   "outputs": [],
   "source": [
    "def print_ix_sentence(sentence):\n",
    "    print(' '.join(ix_to_w[ix] for ix in sentence.data))\n",
    "\n",
    "def print_ix_cat(probs):\n",
    "    print('\\t'.join(ix_to_cat))\n",
    "    print('\\t'.join([f'{p_i.item():0.3f}' for p_i in probs.data]))"
   ]
  },
  {
   "cell_type": "code",
   "execution_count": 21,
   "metadata": {},
   "outputs": [
    {
     "name": "stdout",
     "output_type": "stream",
     "text": [
      "informa amlo que mañana se reunirá con maestros , padres de familia y comunidades indígenas en guelatao , oaxaca .\n",
      "C1\tC2\tE1\tE2\tE3\tE4\tV1\n",
      "0.685\t0.989\t0.000\t0.015\t0.000\t0.000\t0.000\n",
      "\n",
      "explicó que seguirá el ejemplo de los mejores presidentes de méxico : benito juárez , francisco i.\n",
      "C1\tC2\tE1\tE2\tE3\tE4\tV1\n",
      "0.000\t0.000\t0.000\t0.000\t0.000\t0.000\t0.000\n",
      "\n",
      "afirmó que josé antonio meade propone otorgar becas a estudiantes indígenas , créditos a la palabra para las mujeres y la apertura de casas de día para adultos mayores .\n",
      "C1\tC2\tE1\tE2\tE3\tE4\tV1\n",
      "0.000\t0.000\t0.000\t0.000\t0.009\t0.000\t0.000\n",
      "\n",
      "\" no podemos actuar con irresponsabilidad , si los contratistas , los que tienen los contratos quieren invertir y hacerse cargo , que no le cueste al erario público , a la hacienda pública , adelante , estamos nosotros dispuesto a <UNK> \" , expuso al comentar que tiene una alternativa que es construir dos pistas en el aeropuerto militar de santa lucía , sin cerrar el actual aeropuerto .\n",
      "C1\tC2\tE1\tE2\tE3\tE4\tV1\n",
      "0.000\t0.906\t0.972\t1.000\t0.211\t0.030\t0.000\n",
      "\n",
      "\" es decir que tengan una concesión y que les vaya muy bien , slim ha dicho de que es un buen negocio , pues adelante , que participe en la licitación , vamos a convocar a técnicos de inobjetable honestidad , de constructores expertos y que expertos independientes hagan la propuesta para la licitación y que se les pueda presentar esto como una opción como una alternativa \" , dijo .\n",
      "C1\tC2\tE1\tE2\tE3\tE4\tV1\n",
      "1.000\t0.004\t0.000\t0.011\t1.000\t0.000\t0.000\n",
      "\n",
      "recordó que fue director del instituto nacional indigenista en tabasco , hace 40 años y ahí <UNK> a trabajar por la gente humilde y pobre , pero estos corruptos neoliberales acabaron con el <UNK> , ya no hay los centros coordinadores indigenistas que habían antes .\n",
      "C1\tC2\tE1\tE2\tE3\tE4\tV1\n",
      "0.001\t0.999\t0.000\t0.001\t0.000\t0.000\t0.000\n",
      "\n",
      "eruviel ávila estuvo acompañado del dirigente estatal del pri , ernesto nemer álvarez , quien reconoció la fortaleza de las mujeres y hombres priistas de ecatepec , quienes darán el triunfo al candidato de la coalición todos por méxico .\n",
      "C1\tC2\tE1\tE2\tE3\tE4\tV1\n",
      "0.000\t0.001\t0.000\t0.013\t0.005\t0.000\t0.000\n",
      "\n",
      "yo quiero ser el presidente de méxico , para lograr ese cambio profundo y esa transformación que hoy , nuestro país necesita .\n",
      "C1\tC2\tE1\tE2\tE3\tE4\tV1\n",
      "1.000\t0.000\t0.000\t0.000\t0.032\t0.000\t0.000\n",
      "\n",
      "ricardo anaya exhortó a sus colaboradores a trabajar sin descanso durante los próximos tres meses .\n",
      "C1\tC2\tE1\tE2\tE3\tE4\tV1\n",
      "0.436\t0.000\t0.308\t0.000\t0.055\t0.023\t0.000\n",
      "\n",
      "adelantó que llamará a participar a muchos jóvenes en el nuevo gobierno democrático y puso como ejemplo los jóvenes que participarán : como secretario de desarrollo urbano será <UNK> <UNK> ; secretaria de trabajo , maría luisa <UNK> , quien le tocará <UNK> el programa \" jóvenes construyendo el futuro \" .\n",
      "C1\tC2\tE1\tE2\tE3\tE4\tV1\n",
      "0.999\t0.000\t0.972\t0.000\t1.000\t0.000\t0.000\n",
      "\n",
      "finalmente , reiteró que la coalición que encabeza quiere un gobierno con <UNK> mujeres no sólo en el gabinete , sino en todos los espacios públicos y de decisión .\n",
      "C1\tC2\tE1\tE2\tE3\tE4\tV1\n",
      "0.142\t1.000\t0.000\t0.588\t0.006\t0.000\t0.000\n",
      "\n",
      "señaló que se tiene que votar por la transformación de méxico , no se trata de votar por un candidato o por un partido , lo más importante es votar por el programa de transformación del país .\n",
      "C1\tC2\tE1\tE2\tE3\tE4\tV1\n",
      "0.000\t0.021\t0.000\t0.000\t0.024\t0.000\t0.000\n",
      "\n",
      "<UNK> del referido financiamiento ilegal , y de manera <UNK> , dirigentes y militantes de morena distribuyen dinero en efectivo a <UNK> , incluyendo a una mayoría que no está en el padrón de damnificados , a fin de <UNK> el voto a favor de lópez obrador , acusó la diputada mariana benítez , también representante del pri ante el ine .\n",
      "C1\tC2\tE1\tE2\tE3\tE4\tV1\n",
      "0.004\t0.996\t0.000\t0.998\t0.000\t0.000\t0.000\n",
      "\n",
      "por la tarde , andrés manuel lópez obrador visitará chetumal , quintana roo , donde dijo que podrá cumplir con sus compromisos , porque terminará con la corrupción y los privilegios , habrá presupuesto , pero no endeudará al país , ni habrá aumentos de impuestos , ni gasolinazos .\n",
      "C1\tC2\tE1\tE2\tE3\tE4\tV1\n",
      "0.070\t0.998\t0.001\t0.003\t0.000\t0.000\t0.000\n",
      "\n",
      "arturo zamora compromete apoyo de priistas para llevar a su candidato presidencial al triunfo .\n",
      "C1\tC2\tE1\tE2\tE3\tE4\tV1\n",
      "0.000\t0.000\t0.000\t0.006\t0.301\t0.000\t0.000\n",
      "\n"
     ]
    }
   ],
   "source": [
    "with torch.no_grad():\n",
    "    for x in X_test:\n",
    "        print_ix_sentence(x)\n",
    "        pred = persuasion(x)\n",
    "        print_ix_cat(pred)\n",
    "        print()"
   ]
  },
  {
   "cell_type": "code",
   "execution_count": null,
   "metadata": {},
   "outputs": [],
   "source": []
  }
 ],
 "metadata": {
  "kernelspec": {
   "display_name": "Python 3",
   "language": "python",
   "name": "python3"
  },
  "language_info": {
   "codemirror_mode": {
    "name": "ipython",
    "version": 3
   },
   "file_extension": ".py",
   "mimetype": "text/x-python",
   "name": "python",
   "nbconvert_exporter": "python",
   "pygments_lexer": "ipython3",
   "version": "3.7.7"
  }
 },
 "nbformat": 4,
 "nbformat_minor": 4
}
