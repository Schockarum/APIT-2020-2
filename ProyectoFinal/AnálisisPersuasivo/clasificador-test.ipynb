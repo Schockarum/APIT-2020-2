{
 "cells": [
  {
   "cell_type": "code",
   "execution_count": 1,
   "metadata": {
    "scrolled": true
   },
   "outputs": [],
   "source": [
    "import torch\n",
    "import torch.nn as nn\n",
    "import torch.nn.functional as F\n",
    "# from collections import Counter\n",
    "import random\n",
    "# import matplotlib.pyplot as plt\n",
    "import numpy as np\n",
    "# from sklearn.model_selection import train_test_split\n",
    "# from tqdm.notebook import tqdm"
   ]
  },
  {
   "cell_type": "code",
   "execution_count": 2,
   "metadata": {
    "scrolled": true
   },
   "outputs": [],
   "source": [
    "# Número de GPUs disponibles. Usar 0 para modo CPU.\n",
    "ngpu = 1\n",
    "\n",
    "# Fuente de la cual queremos obtener los datos\n",
    "source = 'corenlp'"
   ]
  },
  {
   "cell_type": "code",
   "execution_count": 3,
   "metadata": {
    "scrolled": true
   },
   "outputs": [
    {
     "data": {
      "text/plain": [
       "device(type='cuda', index=0)"
      ]
     },
     "execution_count": 3,
     "metadata": {},
     "output_type": "execute_result"
    }
   ],
   "source": [
    "# Decide si queremos correr en gpu o cpu\n",
    "device = torch.device(\"cuda:0\" if (torch.cuda.is_available() and ngpu > 0) else \"cpu\")\n",
    "device"
   ]
  },
  {
   "cell_type": "code",
   "execution_count": 4,
   "metadata": {
    "scrolled": true
   },
   "outputs": [
    {
     "data": {
      "text/plain": [
       "{'C1': 0, 'C2': 1, 'E1': 2, 'E2': 3, 'E3': 4, 'E4': 5, 'V1': 6}"
      ]
     },
     "execution_count": 4,
     "metadata": {},
     "output_type": "execute_result"
    }
   ],
   "source": [
    "ix_to_cat = ['C1', 'C2', 'E1', 'E2', 'E3', 'E4','V1']\n",
    "cat_to_ix = { cat: ix for ix, cat in enumerate(ix_to_cat) }\n",
    "\n",
    "num_cat = len(ix_to_cat) # Tamaño de salida de la red\n",
    "\n",
    "cat_to_ix"
   ]
  },
  {
   "cell_type": "code",
   "execution_count": 5,
   "metadata": {
    "scrolled": true
   },
   "outputs": [
    {
     "data": {
      "text/plain": [
       "[',', 'de', 'que', 'la', 'a']"
      ]
     },
     "execution_count": 5,
     "metadata": {},
     "output_type": "execute_result"
    }
   ],
   "source": [
    "ix_to_w = []\n",
    "with open(f'./../Embeddings/word_labels_{source}.txt', 'r', encoding='utf-8') as f:\n",
    "    ix_to_w = f.read().splitlines()\n",
    "    \n",
    "w_to_ix = { w: ix for ix, w in enumerate(ix_to_w) }\n",
    "\n",
    "tam_vocab = len(ix_to_w)\n",
    "\n",
    "ix_to_w[:5]"
   ]
  },
  {
   "cell_type": "code",
   "execution_count": 6,
   "metadata": {
    "scrolled": true
   },
   "outputs": [
    {
     "data": {
      "text/plain": [
       "['La única forma de lograr un cambio profundo en México es buscando soluciones diferentes a los problemas , dijo .',\n",
       " 'También estuvo presente Celina Saavedra , ex diputada de la Asamblea Legislativa del Distrito Federal ( ALDF ) y ex coordinadora de la esntructura en la CDMX de Margarita Zavala .',\n",
       " 'En el gobierno de coalición , el Secretario de Gobernación fungirá como Jefe de Gabinete y pertenecerá a una fuerza política distinta a la del Presidente de la República .',\n",
       " 'Los jóvenes son el motor de México y tendrán todo el apoyo : José Antonio Meade .',\n",
       " \"También advierte del ' charlatán ' que ofrece amnistía y perdón a delincuentes .\"]"
      ]
     },
     "execution_count": 6,
     "metadata": {},
     "output_type": "execute_result"
    }
   ],
   "source": [
    "sentences = []\n",
    "with open(f'./Corpus/Test/test-batch250-300.txt', 'r', encoding='utf-8') as f:\n",
    "    sentences = [s.split() for s in f.read().splitlines()]\n",
    "\n",
    "[' '.join(s) for s in sentences[:5]]"
   ]
  },
  {
   "cell_type": "code",
   "execution_count": 7,
   "metadata": {
    "scrolled": true
   },
   "outputs": [],
   "source": [
    "BOS = '<BOS>'\n",
    "EOS = '<EOS>'\n",
    "UNK = '<UNK>'\n",
    "\n",
    "ixBOS = w_to_ix[BOS]\n",
    "ixEOS = w_to_ix[EOS]\n",
    "ixUNK = w_to_ix[UNK]"
   ]
  },
  {
   "cell_type": "code",
   "execution_count": 8,
   "metadata": {
    "scrolled": true
   },
   "outputs": [],
   "source": [
    "def unk_w_to_ix(w):\n",
    "    try:\n",
    "        return w_to_ix[w]\n",
    "    except KeyError:\n",
    "        return ixUNK"
   ]
  },
  {
   "cell_type": "code",
   "execution_count": 9,
   "metadata": {
    "scrolled": true
   },
   "outputs": [
    {
     "data": {
      "text/plain": [
       "['[3, 1158, 407, 1, 302, 19, 115, 819, 8, 20, 18, 2584, 1544, 1331, 4, 9, 397, 0, 35, 6]',\n",
       " '[101, 339, 1474, 7473, 7473, 0, 345, 3562, 1, 3, 1952, 7473, 15, 3627, 214, 202, 7473, 164, 7, 345, 1404, 1, 3, 7473, 8, 3, 7473, 1, 1240, 2012, 6]',\n",
       " '[8, 5, 31, 1, 38, 0, 5, 638, 1, 1352, 5589, 28, 761, 1, 1771, 7, 7473, 4, 24, 674, 161, 4464, 4, 3, 15, 53, 1, 3, 71, 6]',\n",
       " '[9, 112, 57, 5, 1806, 1, 20, 7, 439, 66, 5, 143, 40, 48, 50, 34, 6]',\n",
       " '[101, 3328, 15, 887, 5758, 887, 2, 1044, 841, 7, 1449, 4, 585, 6]']"
      ]
     },
     "execution_count": 9,
     "metadata": {},
     "output_type": "execute_result"
    }
   ],
   "source": [
    "X = [\n",
    "    # Convierto las palabras (en minúsculas) a índices\n",
    "    [ unk_w_to_ix(w.lower()) for w in sent ] \n",
    "    for sent in sentences\n",
    "]\n",
    "\n",
    "[str(x) for x in X[:5]]"
   ]
  },
  {
   "cell_type": "code",
   "execution_count": 10,
   "metadata": {
    "scrolled": true
   },
   "outputs": [],
   "source": [
    "X = [np.asarray(x, dtype=np.long) for x in X]"
   ]
  },
  {
   "cell_type": "code",
   "execution_count": 11,
   "metadata": {
    "scrolled": true
   },
   "outputs": [],
   "source": [
    "def np_to_long_tensor(list_of_lists):\n",
    "    return [\n",
    "        torch.from_numpy(l).long().to(device)\n",
    "        for l in list_of_lists\n",
    "    ]"
   ]
  },
  {
   "cell_type": "code",
   "execution_count": 12,
   "metadata": {
    "scrolled": true
   },
   "outputs": [
    {
     "data": {
      "text/plain": [
       "50"
      ]
     },
     "execution_count": 12,
     "metadata": {},
     "output_type": "execute_result"
    }
   ],
   "source": [
    "X_test = np_to_long_tensor(X)\n",
    "N_test = len(X_test)\n",
    "N_test"
   ]
  },
  {
   "cell_type": "code",
   "execution_count": 13,
   "metadata": {
    "scrolled": true
   },
   "outputs": [],
   "source": [
    "class PersuasionLSTM(nn.Module):\n",
    "    def __init__(self, D_in, D_emb, D_lstm, D_out):\n",
    "        super(PersuasionLSTM, self).__init__()\n",
    "        self.embedding = nn.Embedding(num_embeddings=D_in, embedding_dim=D_emb)#, padding_idx=0)\n",
    "        # self.dropout = nn.Dropout(p=0.2)\n",
    "        self.lstm = nn.LSTM(input_size=D_emb, hidden_size=D_lstm)\n",
    "        self.linear = nn.Linear(in_features=D_lstm, out_features=D_out)\n",
    "        self.sig = nn.Sigmoid()\n",
    "        \n",
    "\n",
    "    def forward(self, sentence):\n",
    "        T = len(sentence)\n",
    "        embeddings = self.embedding(sentence).view(T, 1, -1)\n",
    "        # embeddings = self.dropout(embeddings)\n",
    "        lstm_out, (ht, ct) = self.lstm(embeddings)\n",
    "        lstm_out = lstm_out.view(T, -1)\n",
    "        preact_out = self.linear(lstm_out).view(T, -1)\n",
    "        return self.sig(preact_out[-1])"
   ]
  },
  {
   "cell_type": "code",
   "execution_count": 14,
   "metadata": {
    "scrolled": true
   },
   "outputs": [],
   "source": [
    "# Dimensiones de la red neuronal\n",
    "D_in = tam_vocab\n",
    "D_emb = 64\n",
    "D_lstm = 32\n",
    "D_out = num_cat"
   ]
  },
  {
   "cell_type": "code",
   "execution_count": 15,
   "metadata": {
    "scrolled": true
   },
   "outputs": [
    {
     "data": {
      "text/plain": [
       "PersuasionLSTM(\n",
       "  (embedding): Embedding(7474, 64)\n",
       "  (lstm): LSTM(64, 32)\n",
       "  (linear): Linear(in_features=32, out_features=7, bias=True)\n",
       "  (sig): Sigmoid()\n",
       ")"
      ]
     },
     "execution_count": 15,
     "metadata": {},
     "output_type": "execute_result"
    }
   ],
   "source": [
    "persuasion = PersuasionLSTM(D_in, D_emb, D_lstm, D_out).to(device)\n",
    "persuasion.eval()"
   ]
  },
  {
   "cell_type": "code",
   "execution_count": 18,
   "metadata": {
    "scrolled": true
   },
   "outputs": [
    {
     "data": {
      "text/plain": [
       "<All keys matched successfully>"
      ]
     },
     "execution_count": 18,
     "metadata": {},
     "output_type": "execute_result"
    }
   ],
   "source": [
    "dir_path = './modelsaves/'\n",
    "filename = f'model-corenlp-emb_64-lstm_32-seed_29-epochs_100-last-trained'\n",
    "persuasion.load_state_dict(torch.load(dir_path+filename))"
   ]
  },
  {
   "cell_type": "code",
   "execution_count": 19,
   "metadata": {
    "scrolled": true
   },
   "outputs": [],
   "source": [
    "def print_ix_sentence(sentence):\n",
    "    print(' '.join(ix_to_w[ix] for ix in sentence.data))\n",
    "\n",
    "def print_ix_cat(probs):\n",
    "    categorias = []\n",
    "    print('Categorías inferidas: ', end='')\n",
    "    for i, p_i in enumerate(probs.data):\n",
    "        if p_i.item() > 0.55:\n",
    "            categorias.append(ix_to_cat[i])\n",
    "    if len(categorias) == 0:\n",
    "        print('NA')\n",
    "    else:\n",
    "        print(', '.join(categorias))\n",
    "#     print('Probabilidades')\n",
    "#     print('\\t'.join(ix_to_cat))\n",
    "#     print('\\t'.join([f'{p_i.item():0.3f}' for p_i in probs.data]))"
   ]
  },
  {
   "cell_type": "markdown",
   "metadata": {},
   "source": [
    "1. **Construcción del emisor/candidato (C1):** el candidato se coloca como referente principal del acto discursivo para exaltar sus cualidades personales y erigirse, a los ojos de sus interlocutores, como un líder en quien es adecuado confiar para el desarrollo de acciones de gobierno a favor de la sociedad; esto lo lleva a cabo mediante realizaciones léxicas de la primera persona, en singular o plural, y formas flexivas de verbos y posesivos para referirse a sí mismo, ya sea como individuo o como miembro de una colectividad. Para el caso de la campaña presidencial que nos ocupa, las cualidades del candidato emitidas por un tercero en el marco de una tarea proselitista, quedarán incluidas en esta categoría, ya que contribuyen a construir la imagen positiva del contendiente.\n",
    "\n",
    "2. **Promesa de campaña (C2):** a través de piezas discursivas, orales o escritas, el candidato oferta, destaca o compromete acciones que proyecta convertir en políticas públicas a favor de la población, si obtiene el triunfo en las urnas, con lo que implícitamente solicita el voto ciudadano que lo llevaría al poder.\n",
    "\n",
    "3. **Construcción del adversario (E1):** el mensaje es dirigido a su contraparte en la contienda electoral y está construido a manera de réplica y puede usar diferentes figuras retóricas (metáfora, ironía, metonimia) para conformar en el receptor una imagen determinada del adversario, que esencialmente tiene finalidad de descrédito.\n",
    "\n",
    "4. **Exageración de la información (E2):** se destacan los datos favorables a los fines persuasivos, con el objetivo de crear una idea positiva en la mente del receptor referente al tema del que se habla, o incluso negativa respecto de información relativa al adversario; el persuasor desfigura el sentido original del acontecimiento, nos dice Roiz (1994), mediante códigos diferentes: humorístico, burlesco, cínico, entre otros.\n",
    "\n",
    "5. **Recurso retórico (E3):** son variables basadas en figuras retóricas (metáfora, ironía, hipérbole, personificación, pleonasmo, perífrasis) que pueden fortalecer el efecto persuasivo, de acuerdo con Reardon (1991).\n",
    "\n",
    "6. **Apelación al miedo (E4):** el candidato emite mensajes dentro de su alocución que pretenden provocar sentimientos de aprensión, desasosiego o preocupación con respecto al adversario o a sus propuestas. \n",
    "\n",
    "7. **Llamado al voto (V1):** el emisor del mensaje hace una invitación directa al ciudadano para que apoye su proyecto político el día de la elección al depositar el sufragio a su favor.\n"
   ]
  },
  {
   "cell_type": "code",
   "execution_count": 20,
   "metadata": {
    "scrolled": false
   },
   "outputs": [
    {
     "name": "stdout",
     "output_type": "stream",
     "text": [
      "==================================================\n",
      "La única forma de lograr un cambio profundo en México es buscando soluciones diferentes a los problemas , dijo .\n",
      "\n",
      "Categorías inferidas: C2\n",
      "==================================================\n",
      "\n",
      "==================================================\n",
      "También estuvo presente Celina Saavedra , ex diputada de la Asamblea Legislativa del Distrito Federal ( ALDF ) y ex coordinadora de la esntructura en la CDMX de Margarita Zavala .\n",
      "\n",
      "Categorías inferidas: C2\n",
      "==================================================\n",
      "\n",
      "==================================================\n",
      "En el gobierno de coalición , el Secretario de Gobernación fungirá como Jefe de Gabinete y pertenecerá a una fuerza política distinta a la del Presidente de la República .\n",
      "\n",
      "Categorías inferidas: NA\n",
      "==================================================\n",
      "\n",
      "==================================================\n",
      "Los jóvenes son el motor de México y tendrán todo el apoyo : José Antonio Meade .\n",
      "\n",
      "Categorías inferidas: NA\n",
      "==================================================\n",
      "\n",
      "==================================================\n",
      "También advierte del ' charlatán ' que ofrece amnistía y perdón a delincuentes .\n",
      "\n",
      "Categorías inferidas: NA\n",
      "==================================================\n",
      "\n",
      "==================================================\n",
      "\" Nosotros sí la vamos a cambiar , en dos grandes ejes : Por un lado la prevención , atendiendo las causas más profundas y , por otro lado , vamos a enfrentar el problema , pero con una nueva estrategia \" .\n",
      "\n",
      "Categorías inferidas: C1, E3\n",
      "==================================================\n",
      "\n",
      "==================================================\n",
      "Mencionó que para la mafia del poder , que no son tampoco sus enemigos , pero sí adversarios , la ley , el Estado de Derecho , que dejen de robar , que dejen de estar medrando al amparo del poder público .\n",
      "\n",
      "Categorías inferidas: C1, E1\n",
      "==================================================\n",
      "\n",
      "==================================================\n",
      "Alertó que los mañosos están bajando costales de dinero , mucho dinero para comprar los votos y llamó a defender los votos el próximo primero de julio para ganar por gran ventaja .\n",
      "\n",
      "Categorías inferidas: NA\n",
      "==================================================\n",
      "\n",
      "==================================================\n",
      "Meade anuncia seguridad social para 3 millones de empleadas domésticas .\n",
      "\n",
      "Categorías inferidas: NA\n",
      "==================================================\n",
      "\n",
      "==================================================\n",
      "\" Se va a recuperar el orgullo , la gloria , la grandeza de nuestro querido México y todas las plazas públicas se va a gritar : ¡ Viva México ! \" , indicó .\n",
      "\n",
      "Categorías inferidas: E3\n",
      "==================================================\n",
      "\n",
      "==================================================\n",
      "\" Creo en el papel determinante que juega la sociedad civil \" , afirmó el candidato de la Coalición Por México al Frente a la Presidencia de la República , Ricardo Anaya Cortés , durante la Tercera Cumbre Ciudadana , en el Palacio de Minería .\n",
      "\n",
      "Categorías inferidas: NA\n",
      "==================================================\n",
      "\n",
      "==================================================\n",
      "Comentó que Yunes dice está bien que voten por ya sabes quién , pero no voten por Cuitláhuac García , tiene que ser voto parejo , porque necesita el apoyo de Cuitláhuac que es una gente preparada .\n",
      "\n",
      "Categorías inferidas: C1, E3, V1\n",
      "==================================================\n",
      "\n",
      "==================================================\n",
      "Indicó que se cuidará el medio ambiente , que ya no se siga contaminando las tierras , ni el agua , se quiere que continúe la actividad minera , pero que se respete al medio ambiente , que no se destruya el territorio y reciban beneficios las comunidades donde hay explotación minera .\n",
      "\n",
      "Categorías inferidas: NA\n",
      "==================================================\n",
      "\n",
      "==================================================\n",
      "En cuanto a la realidad de la entidad , lamentó que hoy \" la violencia desgarra a Sinaloa \" , por lo que refrendó su compromiso de recuperar la paz y la seguridad , en contraste con el otro candidato que busca perdonar a los delincuentes .\n",
      "\n",
      "Categorías inferidas: NA\n",
      "==================================================\n",
      "\n",
      "==================================================\n",
      "Rechazó que le vayan a rebatar la victoria , la gente está entusiasmada , está esperando el día , llevan contados los días , ya faltan muy pocos días , 80 días Indicó que cuando decidieron , cuando le pidieron al señor Rodríguez que fuese candidato para supuestamente quitarle votos , ellos calculaban y a lo mejor lo sigue pensando , que si Jaime Rodríguez va a la boleta le quitarán votos , pues no , le va a quitar votos o los votos que obtenga este señor se los quita al PAN y el PRI .\n",
      "\n",
      "Categorías inferidas: E1, E3\n",
      "==================================================\n",
      "\n",
      "==================================================\n",
      "Anuncia que cuando sea presidente de México enviará al Congreso una reforma para que se convierta en delito grave el fraude electoral .\n",
      "\n",
      "Categorías inferidas: NA\n",
      "==================================================\n",
      "\n",
      "==================================================\n",
      "Insistió que no caerá en ninguna provocación , porque en estos últimos tiempos los otros candidatos nada más se dirigen a él , quieren que debata sobre su patrimonio , que les conteste sus preguntas , pero sus asesores de los pueblos le dicen : \" no se pelee , no caiga en ninguna provocación , despacito , poco a poquito , llévesela así \" .\n",
      "\n",
      "Categorías inferidas: NA\n",
      "==================================================\n",
      "\n",
      "==================================================\n",
      "Coordinación de Mujeres PRD : Angélica de la Peña .\n",
      "\n",
      "Categorías inferidas: NA\n",
      "==================================================\n",
      "\n",
      "==================================================\n",
      "La pasividad del gobierno mexicano frente a la amenaza de militarizar la frontera es francamente inaceptable .\n",
      "\n",
      "Categorías inferidas: C1\n",
      "==================================================\n",
      "\n",
      "==================================================\n",
      "A la pregunta de los reporteros si se continuará con la evaluación del magisterio , el candidato a la Presidencia de México dejó en claro que los maestros no se oponen a la evaluación , lo que pasa que utilizaron lo de la evaluación para tratar de correr a los maestros , esto es antipedagógico y es anti laboral en cualquier circunstancia .\n",
      "\n",
      "Categorías inferidas: E3\n",
      "==================================================\n",
      "\n",
      "==================================================\n",
      "Afirmó que impulsará la generación de empleos y honrará la memoria de Emiliano Zapata , haciéndole justicia al campo y a sus productores .\n",
      "\n",
      "Categorías inferidas: E1\n",
      "==================================================\n",
      "\n",
      "==================================================\n",
      "Detalló que modernizará la carretera Escénica de Acapulco y corresponderá los logros y avances de la Universidad Autónoma de Guerrero dándole todo el apoyo que requiera .\n",
      "\n",
      "Categorías inferidas: NA\n",
      "==================================================\n",
      "\n",
      "==================================================\n",
      "Tras reconocer que actualmente la ciudadanía no encuentra en la democracia su bienestar , Ricardo Anaya sostuvo que lo que se necesita es un cambio de régimen que vaya más allá de personas y partidos para sustituir el actual modelo por uno del que la ciudadanía , del que las y los ciudadanos tengan mayor capacidad para influir en las decisiones del país .\n",
      "\n",
      "Categorías inferidas: C2\n",
      "==================================================\n",
      "\n",
      "==================================================\n",
      "Y cuando él fue jefe de gobierno , la economía creció la mitad de lo que creció a nivel nacional \" .\n",
      "\n",
      "Categorías inferidas: NA\n",
      "==================================================\n",
      "\n",
      "==================================================\n",
      "\" El dilema entre López Obrador y nuestra coalición es regresión y autoritarismo o democracia y libertades \" , enfatizó al insistir que el Frente que encabeza representa un gobierno de coalición incluyente , participativo y democrático .\n",
      "\n",
      "Categorías inferidas: C1, E3\n",
      "==================================================\n",
      "\n",
      "==================================================\n",
      "Desde Valle de Chalco , el candidato por la coalición \" Juntos haremos historia \" abrió un paréntesis para contestarle a Meade , porque ayer en el debate estuvo dale y dale que en su manifestación de bienes no registró tres departamentos que tiene .\n",
      "\n",
      "Categorías inferidas: NA\n",
      "==================================================\n",
      "\n",
      "==================================================\n",
      "A la pregunta de los reporteros sobre si Alfonso Romo se reunión con Alejandro Ramírez , el candidato a la Presidencia de México manifestó que sí , porque Alfonso Romo se está reuniendo con empresarios para aclararles de que \" nosotros no estamos en contra de la iniciativa privada \" .\n",
      "\n",
      "Categorías inferidas: C2, E1, E3\n",
      "==================================================\n",
      "\n",
      "==================================================\n",
      "Cuestionó qué malo puede haber si pide que se consiga la paz , que todos busquen que no haya violencia .\n",
      "\n",
      "Categorías inferidas: NA\n",
      "==================================================\n",
      "\n",
      "==================================================\n",
      "Pidió la unidad de los oaxaqueños , hay que hacer una tregua en estos 50 días que faltan , \" somos del partido transformación nacional , ya una vez que ganemos ya cada quien que regrese a su partido a seguir peleando , pero primero vamos a transformar a México \" y adelantó que no habrá perseguir a los de la mafia del poder , solo se les hará de lado , porque habrá un gobierno para el pueblo .\n",
      "\n",
      "Categorías inferidas: E3\n",
      "==================================================\n",
      "\n",
      "==================================================\n",
      "En este marco , se volvió a referir a la próxima derrota de los priistas , y destacó que andan \" enojados y groseros \" .\n",
      "\n",
      "Categorías inferidas: C2, E3\n",
      "==================================================\n",
      "\n",
      "==================================================\n",
      "\" En mi gobierno habrá no solo más , sino mejores empleos , mejor pagados \" , afirmó el candidato de la Coalición Por México al Frente a la Presidencia de la República , Ricardo Anaya , al presentar cinco de sus propuestas en la materia .\n",
      "\n",
      "Categorías inferidas: E3\n",
      "==================================================\n",
      "\n",
      "==================================================\n",
      "Queremos un México unido , con certidumbre y decimos no a la división y a la ocurrencia , afirmó el candidato presidencial de Todos por México .\n",
      "\n",
      "Categorías inferidas: V1\n",
      "==================================================\n",
      "\n",
      "==================================================\n",
      "La señora Juana Cuevas visitó este jueves el municipio de Acambay , Estado de México , y realizó un recorrido por uno de los nueve Centros para el Desarrollo Infantil Temprano que opera la asociación civil Un Kilo de Ayuda .\n",
      "\n",
      "Categorías inferidas: C1\n",
      "==================================================\n",
      "\n",
      "==================================================\n",
      "También advierte del ' charlatán ' que ofrece amnistía y perdón a delincuentes .\n",
      "\n",
      "Categorías inferidas: NA\n",
      "==================================================\n",
      "\n",
      "==================================================\n",
      "Recalcó que tendrá ventaja como lo ha obtenido en las elecciones pasadas según cifras oficiales , no tiene que ver el INE , no tiene que ver el Tribunal , va a ser en las casillas donde los ciudadanos van a decidir el destino del país , eso es lo que va a pasar .\n",
      "\n",
      "Categorías inferidas: NA\n",
      "==================================================\n",
      "\n",
      "==================================================\n",
      "Entiendo que se pusieron de acuerdo con López Obrador , que ya los perdonó , pero la justicia se tiene que hacer en nuestro país , es lo correcto , lo he dicho de cara a la nación \" .\n",
      "\n",
      "Categorías inferidas: C1\n",
      "==================================================\n",
      "\n",
      "==================================================\n",
      "\" No me voy a sumar a eso , yo tengo mi propio criterio , ya lo que dije de Peña , es más se lo dije en su cara y antes de que tomará posesión de la Presidencia , se acuerda que les dije si gana el PRI , si regresa el PRI , nos van a llevar al despeñadero , se acuerdan , ya no quiero meterme en eso \" , recordó .\n",
      "\n",
      "Categorías inferidas: C1\n",
      "==================================================\n",
      "\n",
      "==================================================\n",
      "Explicó que le llamó mucho la atención que ayer , después de su intervención en la reunión con consejeros de Banamex , el tema fue si podría renunciar ( José Antonio ) Meade o ( Ricardo ) Anaya para tener un solo candidato .\n",
      "\n",
      "Categorías inferidas: NA\n",
      "==================================================\n",
      "\n",
      "==================================================\n",
      "El México que soñamos es un México sin impunidad , con Estado de Derecho , donde el que la hace , la paga .\n",
      "\n",
      "Categorías inferidas: C1\n",
      "==================================================\n",
      "\n",
      "==================================================\n",
      "Aseguró que solo estará los seis años de gobierno , no tardará más tiempo , porque es partidario del sufragio efectivo no reelección , solo seis años , pero con eso es suficiente , porque entre todos llevarán a cabo la transformación que necesita el país .\n",
      "\n",
      "Categorías inferidas: C1, C2, E3\n",
      "==================================================\n",
      "\n",
      "==================================================\n",
      "Dijo que la Red Nacional de Guarderías incluirá programas de desarrollo infantil temprano , con cuidado de excelencia , con la estrategia \" aprender a aprender \" y desarrollo de habilidades .\n",
      "\n",
      "Categorías inferidas: NA\n",
      "==================================================\n",
      "\n",
      "==================================================\n",
      "\" Puede ser que ya está cubierto en donde viven , pero tengan la disposición como buenos demócratas de ir a donde todavía no se cubre o no se tiene a todos los integrantes , a todos los miembros de la casilla , es decir , a los propietarios y a los suplentes \" , observó .\n",
      "\n",
      "Categorías inferidas: C1\n",
      "==================================================\n",
      "\n",
      "==================================================\n",
      "A la pregunta de los reporteros si está listo para el debate y si le dieron a conocer el formato , el candidato por la coalición \" Juntos haremos historia \" para la Presidencia de la República que sí , ya hoy viene en la prensa lo que se acordó y negó que vaya a ir al ensayo del debate .\n",
      "\n",
      "Categorías inferidas: C1\n",
      "==================================================\n",
      "\n",
      "==================================================\n",
      "D.C. , no le quita nada a Peña hacer tomar esta iniciativa , porque ha mantenido una actitud de respeto a la soberanía nacional .\n",
      "\n",
      "Categorías inferidas: NA\n",
      "==================================================\n",
      "\n",
      "==================================================\n",
      "Añadió que no perseguirá a nadie , no tendrán que irse al exilio o a la cárcel , quiere justicia no venganza , ni Meade , ni Anaya va a tener ir a la cárcel .\n",
      "\n",
      "Categorías inferidas: E1, E4\n",
      "==================================================\n",
      "\n",
      "==================================================\n",
      "Por otra parte , Ricardo Anaya hizo un llamado a la gente buena que hay en los partidos a sumar fuerzas para ganar de manera contundente esta elección .\n",
      "\n",
      "Categorías inferidas: NA\n",
      "==================================================\n",
      "\n",
      "==================================================\n",
      "\" El 80 por ciento de lo que gasta el IMSS se gasta en diabetes , en hipertensión , en cáncer de próstata y en cáncer de mama . Los primeros dos son prevenibles , los segundos dos , si se detectan a tiempo , implica un mucho mejor pronóstico \" , expresó el candidato presidencial José Antonio Meade dijo que su meta es que a los trabajadores de México les vaya bien , que a sus familias les alcance con su esfuerzo , que tengan dinero en el bolsillo y que no falte nada en la mesa familiar .\n",
      "\n",
      "Categorías inferidas: NA\n",
      "==================================================\n",
      "\n",
      "==================================================\n",
      "En la explanada municipal de Rioverde , el abanderado presidencial dijo que , en su gobierno , se implementará tecnología en la frontera para que las autoridades conozcan quién entra a México y con qué intenciones .\n",
      "\n",
      "Categorías inferidas: C1\n",
      "==================================================\n",
      "\n",
      "==================================================\n",
      "Explicó que no es ganar solo la Presidencia de México , sino es ganar la mayoría del Congreso , en la Cámara de diputados y el Senado de la República , para evitar que se sigan dando moches a los legisladores que voten a favor de las leyes que promueve la mafia del poder , se necesitan gente honesta , autentica , representantes del pueblo , y por ello no se vota por la persona , sino para lograr una transformación del país .\n",
      "\n",
      "Categorías inferidas: E2, E3\n",
      "==================================================\n",
      "\n",
      "==================================================\n",
      "Planteó que habrá un plan de desarrollo integral : se sembrará en toda la región alrededor de 100 mil hectáreas de árboles frutales y maderables , con ello se generarán 40 mil empleos .\n",
      "\n",
      "Categorías inferidas: NA\n",
      "==================================================\n",
      "\n"
     ]
    }
   ],
   "source": [
    "with torch.no_grad():\n",
    "    for i, x in enumerate(X_test):\n",
    "        print('='*50)\n",
    "        print(' '.join(sentences[i]))\n",
    "#         print_ix_sentence(x)\n",
    "        pred = persuasion(x)\n",
    "        print()\n",
    "        print_ix_cat(pred)\n",
    "        print('='*50)\n",
    "        print()"
   ]
  },
  {
   "cell_type": "code",
   "execution_count": null,
   "metadata": {
    "scrolled": true
   },
   "outputs": [],
   "source": []
  }
 ],
 "metadata": {
  "kernelspec": {
   "display_name": "Python 3",
   "language": "python",
   "name": "python3"
  },
  "language_info": {
   "codemirror_mode": {
    "name": "ipython",
    "version": 3
   },
   "file_extension": ".py",
   "mimetype": "text/x-python",
   "name": "python",
   "nbconvert_exporter": "python",
   "pygments_lexer": "ipython3",
   "version": "3.7.7"
  }
 },
 "nbformat": 4,
 "nbformat_minor": 4
}
