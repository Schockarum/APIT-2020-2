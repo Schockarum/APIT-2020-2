{
 "cells": [
  {
   "cell_type": "markdown",
   "metadata": {},
   "source": [
    "# Clasificador de persuación"
   ]
  },
  {
   "cell_type": "code",
   "execution_count": 1,
   "metadata": {},
   "outputs": [],
   "source": [
    "import torch\n",
    "import torch.nn as nn\n",
    "import torch.nn.functional as F\n",
    "from sklearn.model_selection import train_test_split\n",
    "\n",
    "from tqdm.notebook import tqdm\n",
    "import random\n",
    "\n",
    "import numpy as np\n",
    "import matplotlib.pyplot as plt\n",
    "import pandas as pd\n",
    "import seaborn as sns"
   ]
  },
  {
   "cell_type": "code",
   "execution_count": 2,
   "metadata": {},
   "outputs": [
    {
     "name": "stdout",
     "output_type": "stream",
     "text": [
      "29\n"
     ]
    }
   ],
   "source": [
    "# Número de GPUs disponibles. Usar 0 para modo CPU.\n",
    "ngpu = 1\n",
    "\n",
    "# Fuente de la cual queremos obtener los datos\n",
    "source = 'corenlp'\n",
    "\n",
    "# Semilla a usar en los generadores de números aleatorios\n",
    "SEED = 29\n",
    "# SEED = random.randint(1, 10000) # En caso de requerir más resultados\n",
    "random.seed(SEED)\n",
    "torch.manual_seed(SEED)\n",
    "print(SEED)"
   ]
  },
  {
   "cell_type": "code",
   "execution_count": 3,
   "metadata": {},
   "outputs": [
    {
     "data": {
      "text/plain": [
       "device(type='cuda', index=0)"
      ]
     },
     "execution_count": 3,
     "metadata": {},
     "output_type": "execute_result"
    }
   ],
   "source": [
    "# Decide si queremos correr en gpu o cpu\n",
    "device = torch.device(\"cuda:0\" if (torch.cuda.is_available() and ngpu > 0) else \"cpu\")\n",
    "device"
   ]
  },
  {
   "cell_type": "markdown",
   "metadata": {},
   "source": [
    "## Descripción de las Categorías\n",
    "\n",
    "### Categoría Cognitiva\n",
    "\n",
    "#### Subcategorías:\n",
    "\n",
    "1. **Construcción del emisor/candidato (C1):** el candidato se coloca como referente principal del acto discursivo para exaltar sus cualidades personales y erigirse, a los ojos de sus interlocutores, como un líder en quien es adecuado confiar para el desarrollo de acciones de gobierno a favor de la sociedad; esto lo lleva a cabo mediante realizaciones léxicas de la primera persona, en singular o plural, y formas flexivas de verbos y posesivos para referirse a sí mismo, ya sea como individuo o como miembro de una colectividad. Para el caso de la campaña presidencial que nos ocupa, las cualidades del candidato emitidas por un tercero en el marco de una tarea proselitista, quedarán incluidas en esta categoría, ya que contribuyen a construir la imagen positiva del contendiente.\n",
    "\n",
    "2. **Promesa de campaña (C2):** a través de piezas discursivas, orales o escritas, el candidato oferta, destaca o compromete acciones que proyecta convertir en políticas públicas a favor de la población, si obtiene el triunfo en las urnas, con lo que implícitamente solicita el voto ciudadano que lo llevaría al poder.\n",
    "\n",
    "### Categoría Emocional\n",
    "\n",
    "#### Subcategorías:\n",
    "\n",
    "3. **Construcción del adversario (E1):** el mensaje es dirigido a su contraparte en la contienda electoral y está construido a manera de réplica y puede usar diferentes figuras retóricas (metáfora, ironía, metonimia) para conformar en el receptor una imagen determinada del adversario, que esencialmente tiene finalidad de descrédito.\n",
    "\n",
    "4. **Exageración de la información (E2):** se destacan los datos favorables a los fines persuasivos, con el objetivo de crear una idea positiva en la mente del receptor referente al tema del que se habla, o incluso negativa respecto de información relativa al adversario; el persuasor desfigura el sentido original del acontecimiento, nos dice Roiz (1994), mediante códigos diferentes: humorístico, burlesco, cínico, entre otros.\n",
    "\n",
    "5. **Recurso retórico (E3):** son variables basadas en figuras retóricas (metáfora, ironía, hipérbole, personificación, pleonasmo, perífrasis) que pueden fortalecer el efecto persuasivo, de acuerdo con Reardon (1991).\n",
    "\n",
    "6. **Apelación al miedo (E4):** el candidato emite mensajes dentro de su alocución que pretenden provocar sentimientos de aprensión, desasosiego o preocupación con respecto al adversario o a sus propuestas. \n",
    "\n",
    "### Categoría Volitiva\n",
    "\n",
    "#### Subcategoría:\n",
    "\n",
    "7. **Llamado al voto (V1):** el emisor del mensaje hace una invitación directa al ciudadano para que apoye su proyecto político el día de la elección al depositar el sufragio a su favor.\n"
   ]
  },
  {
   "cell_type": "code",
   "execution_count": 4,
   "metadata": {},
   "outputs": [
    {
     "data": {
      "text/plain": [
       "{'C1': 0, 'C2': 1, 'E1': 2, 'E2': 3, 'E3': 4, 'E4': 5, 'V1': 6}"
      ]
     },
     "execution_count": 4,
     "metadata": {},
     "output_type": "execute_result"
    }
   ],
   "source": [
    "ix_to_cat = ['C1', 'C2', 'E1', 'E2', 'E3', 'E4','V1']\n",
    "cat_to_ix = { cat: ix for ix, cat in enumerate(ix_to_cat) }\n",
    "\n",
    "num_cat = len(ix_to_cat) # Tamaño de salida de la red\n",
    "\n",
    "cat_to_ix"
   ]
  },
  {
   "cell_type": "markdown",
   "metadata": {},
   "source": [
    "## Obtención de datos"
   ]
  },
  {
   "cell_type": "markdown",
   "metadata": {},
   "source": [
    "### Vocabulario"
   ]
  },
  {
   "cell_type": "code",
   "execution_count": 5,
   "metadata": {},
   "outputs": [
    {
     "data": {
      "text/plain": [
       "[',', 'de', 'que', 'la', 'a']"
      ]
     },
     "execution_count": 5,
     "metadata": {},
     "output_type": "execute_result"
    }
   ],
   "source": [
    "ix_to_w = []\n",
    "with open(f'./../Embeddings/word_labels_{source}.txt', 'r', encoding='utf-8') as f:\n",
    "    ix_to_w = f.read().splitlines()\n",
    "    \n",
    "w_to_ix = { w: ix for ix, w in enumerate(ix_to_w) }\n",
    "\n",
    "tam_vocab = len(ix_to_w)\n",
    "\n",
    "ix_to_w[:5]"
   ]
  },
  {
   "cell_type": "markdown",
   "metadata": {},
   "source": [
    "### Enunciados"
   ]
  },
  {
   "cell_type": "code",
   "execution_count": 6,
   "metadata": {},
   "outputs": [
    {
     "data": {
      "text/plain": [
       "['El candidato de la coalición Todos por México se comprometió a estar con la población guerrerense en las buenas y en las malas .',\n",
       " 'Respecto a las zonas económicas especiales , el candidato de la coalición Todos por México mencionó que éstas deben ser aprovechadas como una especie de laboratorio , que genere recimiento a la medida en el norte y en el sur de la República mexicana .',\n",
       " 'Se compromete a abrir escuelas y guarderías de tiempo completo .',\n",
       " '\" Aquí están las mujeres y hombres priistas que son todo terreno , los que van a hacer posible que Pepe Meade sea presidente ; un hombre preparado , capaz y con experiencia para enfrentar la gobernabilidad de un país como México .',\n",
       " 'Y , quinto , Fiscalías General y Anticorrupción absolutamente autónomas e independientes , que puedan juzgar y perseguir a cualquier funcionario , incluyendo a el Presidente de la República .']"
      ]
     },
     "execution_count": 6,
     "metadata": {},
     "output_type": "execute_result"
    }
   ],
   "source": [
    "sentences = []\n",
    "with open(f'./Corpus/Train/sentences-{source}.txt', 'r', encoding='utf-8') as f:\n",
    "    sentences = [s.split() for s in f.read().splitlines()]\n",
    "\n",
    "[' '.join(s) for s in sentences[:5]]"
   ]
  },
  {
   "cell_type": "markdown",
   "metadata": {},
   "source": [
    "### Categorías persuasivas por enunciado"
   ]
  },
  {
   "cell_type": "code",
   "execution_count": 7,
   "metadata": {},
   "outputs": [
    {
     "data": {
      "text/plain": [
       "[['C2'], ['NA'], ['C2'], ['E3', 'C1'], ['NA']]"
      ]
     },
     "execution_count": 7,
     "metadata": {},
     "output_type": "execute_result"
    }
   ],
   "source": [
    "categorias_sents = []\n",
    "with open('./Corpus/Train/sentences-tags.txt', 'r', encoding='utf-8') as f:\n",
    "    categorias_sents = [t.split() for t in f.read().splitlines()]\n",
    "\n",
    "categorias_sents[:5]"
   ]
  },
  {
   "cell_type": "markdown",
   "metadata": {},
   "source": [
    "## Preparar datos para Red Neuronal"
   ]
  },
  {
   "cell_type": "code",
   "execution_count": 8,
   "metadata": {},
   "outputs": [],
   "source": [
    "BOS = '<BOS>'\n",
    "EOS = '<EOS>'\n",
    "UNK = '<UNK>'\n",
    "\n",
    "ixBOS = w_to_ix[BOS]\n",
    "ixEOS = w_to_ix[EOS]\n",
    "ixUNK = w_to_ix[UNK]"
   ]
  },
  {
   "cell_type": "markdown",
   "metadata": {},
   "source": [
    "### Palabras a índices numéricos"
   ]
  },
  {
   "cell_type": "code",
   "execution_count": 9,
   "metadata": {},
   "outputs": [],
   "source": [
    "def unk_w_to_ix(w):\n",
    "    try:\n",
    "        return w_to_ix[w]\n",
    "    except KeyError:\n",
    "        return ixUNK"
   ]
  },
  {
   "cell_type": "code",
   "execution_count": 10,
   "metadata": {},
   "outputs": [
    {
     "data": {
      "text/plain": [
       "['[5, 26, 1, 3, 38, 33, 16, 20, 11, 203, 4, 249, 14, 3, 441, 7473, 8, 17, 1972, 7, 8, 17, 1929, 6]',\n",
       " '[1416, 4, 17, 1183, 3052, 4901, 0, 5, 26, 1, 3, 38, 33, 16, 20, 284, 2, 3056, 909, 89, 7473, 28, 24, 3487, 1, 7473, 0, 2, 2709, 7473, 4, 3, 1098, 8, 5, 563, 7, 8, 5, 668, 1, 3, 71, 645, 6]',\n",
       " '[11, 1237, 4, 2807, 560, 7, 602, 1, 170, 431, 6]',\n",
       " '[10, 195, 70, 17, 114, 7, 540, 881, 2, 57, 66, 1522, 0, 9, 2, 84, 4, 93, 769, 2, 1688, 34, 145, 53, 105, 19, 776, 1943, 0, 2716, 7, 14, 854, 13, 675, 3, 4741, 1, 19, 32, 28, 20, 6]',\n",
       " '[7, 0, 2181, 0, 4940, 383, 7, 2142, 797, 4941, 185, 1968, 0, 2, 541, 3402, 7, 2806, 4, 942, 1466, 0, 2464, 4, 5, 53, 1, 3, 71, 6]']"
      ]
     },
     "execution_count": 10,
     "metadata": {},
     "output_type": "execute_result"
    }
   ],
   "source": [
    "X = [\n",
    "    # Convierto las palabras (en minúsculas) a índices\n",
    "    [ unk_w_to_ix(w.lower()) for w in sent ] \n",
    "    for sent in sentences\n",
    "]\n",
    "\n",
    "[str(x) for x in X[:5]]"
   ]
  },
  {
   "cell_type": "markdown",
   "metadata": {},
   "source": [
    "### Categorías a índices numéricos"
   ]
  },
  {
   "cell_type": "code",
   "execution_count": 11,
   "metadata": {},
   "outputs": [
    {
     "data": {
      "text/plain": [
       "[[0, 1, 0, 0, 0, 0, 0],\n",
       " [0, 0, 0, 0, 0, 0, 0],\n",
       " [0, 1, 0, 0, 0, 0, 0],\n",
       " [1, 0, 0, 0, 1, 0, 0],\n",
       " [0, 0, 0, 0, 0, 0, 0]]"
      ]
     },
     "execution_count": 11,
     "metadata": {},
     "output_type": "execute_result"
    }
   ],
   "source": [
    "Y = [[0 for _ in ix_to_cat] for c in categorias_sents]\n",
    "\n",
    "for i, cats_sents in enumerate(categorias_sents):\n",
    "    for cat in cats_sents:\n",
    "        try:\n",
    "            ix_cat = cat_to_ix[cat]\n",
    "            Y[i][ix_cat] = 1 # Pongo 1 si encuentro la categoría\n",
    "        except KeyError:\n",
    "            pass\n",
    "\n",
    "Y[:5]"
   ]
  },
  {
   "cell_type": "code",
   "execution_count": 12,
   "metadata": {},
   "outputs": [
    {
     "data": {
      "text/html": [
       "<div>\n",
       "<style scoped>\n",
       "    .dataframe tbody tr th:only-of-type {\n",
       "        vertical-align: middle;\n",
       "    }\n",
       "\n",
       "    .dataframe tbody tr th {\n",
       "        vertical-align: top;\n",
       "    }\n",
       "\n",
       "    .dataframe thead th {\n",
       "        text-align: right;\n",
       "    }\n",
       "</style>\n",
       "<table border=\"1\" class=\"dataframe\">\n",
       "  <thead>\n",
       "    <tr style=\"text-align: right;\">\n",
       "      <th></th>\n",
       "      <th>C1</th>\n",
       "      <th>C2</th>\n",
       "      <th>E1</th>\n",
       "      <th>E2</th>\n",
       "      <th>E3</th>\n",
       "      <th>E4</th>\n",
       "      <th>V1</th>\n",
       "    </tr>\n",
       "  </thead>\n",
       "  <tbody>\n",
       "    <tr>\n",
       "      <th>0</th>\n",
       "      <td>0</td>\n",
       "      <td>1</td>\n",
       "      <td>0</td>\n",
       "      <td>0</td>\n",
       "      <td>0</td>\n",
       "      <td>0</td>\n",
       "      <td>0</td>\n",
       "    </tr>\n",
       "    <tr>\n",
       "      <th>1</th>\n",
       "      <td>0</td>\n",
       "      <td>0</td>\n",
       "      <td>0</td>\n",
       "      <td>0</td>\n",
       "      <td>0</td>\n",
       "      <td>0</td>\n",
       "      <td>0</td>\n",
       "    </tr>\n",
       "    <tr>\n",
       "      <th>2</th>\n",
       "      <td>0</td>\n",
       "      <td>1</td>\n",
       "      <td>0</td>\n",
       "      <td>0</td>\n",
       "      <td>0</td>\n",
       "      <td>0</td>\n",
       "      <td>0</td>\n",
       "    </tr>\n",
       "    <tr>\n",
       "      <th>3</th>\n",
       "      <td>1</td>\n",
       "      <td>0</td>\n",
       "      <td>0</td>\n",
       "      <td>0</td>\n",
       "      <td>1</td>\n",
       "      <td>0</td>\n",
       "      <td>0</td>\n",
       "    </tr>\n",
       "    <tr>\n",
       "      <th>4</th>\n",
       "      <td>0</td>\n",
       "      <td>0</td>\n",
       "      <td>0</td>\n",
       "      <td>0</td>\n",
       "      <td>0</td>\n",
       "      <td>0</td>\n",
       "      <td>0</td>\n",
       "    </tr>\n",
       "    <tr>\n",
       "      <th>...</th>\n",
       "      <td>...</td>\n",
       "      <td>...</td>\n",
       "      <td>...</td>\n",
       "      <td>...</td>\n",
       "      <td>...</td>\n",
       "      <td>...</td>\n",
       "      <td>...</td>\n",
       "    </tr>\n",
       "    <tr>\n",
       "      <th>385</th>\n",
       "      <td>0</td>\n",
       "      <td>1</td>\n",
       "      <td>0</td>\n",
       "      <td>0</td>\n",
       "      <td>0</td>\n",
       "      <td>0</td>\n",
       "      <td>0</td>\n",
       "    </tr>\n",
       "    <tr>\n",
       "      <th>386</th>\n",
       "      <td>0</td>\n",
       "      <td>1</td>\n",
       "      <td>0</td>\n",
       "      <td>0</td>\n",
       "      <td>0</td>\n",
       "      <td>0</td>\n",
       "      <td>0</td>\n",
       "    </tr>\n",
       "    <tr>\n",
       "      <th>387</th>\n",
       "      <td>1</td>\n",
       "      <td>0</td>\n",
       "      <td>0</td>\n",
       "      <td>0</td>\n",
       "      <td>0</td>\n",
       "      <td>0</td>\n",
       "      <td>0</td>\n",
       "    </tr>\n",
       "    <tr>\n",
       "      <th>388</th>\n",
       "      <td>0</td>\n",
       "      <td>0</td>\n",
       "      <td>0</td>\n",
       "      <td>0</td>\n",
       "      <td>0</td>\n",
       "      <td>0</td>\n",
       "      <td>0</td>\n",
       "    </tr>\n",
       "    <tr>\n",
       "      <th>389</th>\n",
       "      <td>0</td>\n",
       "      <td>0</td>\n",
       "      <td>0</td>\n",
       "      <td>0</td>\n",
       "      <td>0</td>\n",
       "      <td>0</td>\n",
       "      <td>0</td>\n",
       "    </tr>\n",
       "  </tbody>\n",
       "</table>\n",
       "<p>390 rows × 7 columns</p>\n",
       "</div>"
      ],
      "text/plain": [
       "     C1  C2  E1  E2  E3  E4  V1\n",
       "0     0   1   0   0   0   0   0\n",
       "1     0   0   0   0   0   0   0\n",
       "2     0   1   0   0   0   0   0\n",
       "3     1   0   0   0   1   0   0\n",
       "4     0   0   0   0   0   0   0\n",
       "..   ..  ..  ..  ..  ..  ..  ..\n",
       "385   0   1   0   0   0   0   0\n",
       "386   0   1   0   0   0   0   0\n",
       "387   1   0   0   0   0   0   0\n",
       "388   0   0   0   0   0   0   0\n",
       "389   0   0   0   0   0   0   0\n",
       "\n",
       "[390 rows x 7 columns]"
      ]
     },
     "execution_count": 12,
     "metadata": {},
     "output_type": "execute_result"
    }
   ],
   "source": [
    "df_cats = pd.DataFrame(Y, columns=ix_to_cat)\n",
    "df_cats"
   ]
  },
  {
   "cell_type": "code",
   "execution_count": 13,
   "metadata": {},
   "outputs": [
    {
     "data": {
      "text/plain": [
       "C1    0.287179\n",
       "C2    0.351282\n",
       "E1    0.158974\n",
       "E2    0.112821\n",
       "E3    0.264103\n",
       "E4    0.056410\n",
       "V1    0.061538\n",
       "dtype: float64"
      ]
     },
     "execution_count": 13,
     "metadata": {},
     "output_type": "execute_result"
    }
   ],
   "source": [
    "df_cats.mean()"
   ]
  },
  {
   "cell_type": "code",
   "execution_count": 14,
   "metadata": {},
   "outputs": [],
   "source": [
    "corr = df_cats.corr(method='pearson')\n",
    "# corr"
   ]
  },
  {
   "cell_type": "code",
   "execution_count": 15,
   "metadata": {},
   "outputs": [
    {
     "data": {
      "image/png": "[encoded data removed]",
      "text/plain": [
       "<Figure size 576x432 with 2 Axes>"
      ]
     },
     "metadata": {},
     "output_type": "display_data"
    }
   ],
   "source": [
    "mask = np.zeros_like(corr)\n",
    "mask[np.triu_indices_from(mask)] = True\n",
    "with sns.axes_style(\"white\"):\n",
    "    f, ax = plt.subplots(figsize=(8, 6))\n",
    "    ax = sns.heatmap(corr, mask=mask, vmax=.3, square=True, annot=True)\n",
    "# sns.heatmap(df_cats.corr(method='pearson'), cmap='inferno', annot=True, square=True)\n",
    "# plt.show()"
   ]
  },
  {
   "cell_type": "code",
   "execution_count": 16,
   "metadata": {},
   "outputs": [
    {
     "data": {
      "text/plain": [
       "7"
      ]
     },
     "execution_count": 16,
     "metadata": {},
     "output_type": "execute_result"
    }
   ],
   "source": [
    "num_cats = len(ix_to_cat)\n",
    "num_cats"
   ]
  },
  {
   "cell_type": "code",
   "execution_count": 17,
   "metadata": {
    "scrolled": false
   },
   "outputs": [
    {
     "data": {
      "image/png": "[encoded data removed]",
      "text/plain": [
       "<Figure size 504x1800 with 14 Axes>"
      ]
     },
     "metadata": {
      "needs_background": "light"
     },
     "output_type": "display_data"
    }
   ],
   "source": [
    "%matplotlib inline\n",
    "f, axes = plt.subplots(num_cats, 1, sharey=True)\n",
    "f.set_size_inches((7,25))\n",
    "for ax, cat in zip(axes, ix_to_cat):\n",
    "    sns.heatmap(\n",
    "        df_cats.groupby([cat]).mean(), \n",
    "        ax=ax, \n",
    "        annot=True,\n",
    "#         vmin = 0,\n",
    "#         vmax = 0.65,\n",
    "    )"
   ]
  },
  {
   "cell_type": "markdown",
   "metadata": {},
   "source": [
    "### Crear datos de entrenamiento y validación"
   ]
  },
  {
   "cell_type": "code",
   "execution_count": 18,
   "metadata": {},
   "outputs": [],
   "source": [
    "X = [np.asarray(x, dtype=np.long) for x in X]\n",
    "Y = [np.asarray(y, dtype=np.float) for y in Y]"
   ]
  },
  {
   "cell_type": "code",
   "execution_count": 19,
   "metadata": {},
   "outputs": [],
   "source": [
    "X_train, X_val, Y_train, Y_val = train_test_split(X, Y, test_size=0.10)\n",
    "\n",
    "N_train = len(X_train)\n",
    "N_val = len(X_val)"
   ]
  },
  {
   "cell_type": "code",
   "execution_count": 20,
   "metadata": {},
   "outputs": [
    {
     "name": "stdout",
     "output_type": "stream",
     "text": [
      "Tamaño del corpus de entrenamiento: 351\n",
      "Tamaño del corpus de validación: 39\n"
     ]
    }
   ],
   "source": [
    "print(f'Tamaño del corpus de entrenamiento: {N_train}')\n",
    "print(f'Tamaño del corpus de validación: {N_val}')"
   ]
  },
  {
   "cell_type": "markdown",
   "metadata": {},
   "source": [
    "### Mover datos a tensores en gpu"
   ]
  },
  {
   "cell_type": "code",
   "execution_count": 21,
   "metadata": {},
   "outputs": [],
   "source": [
    "def np_to_long_tensor(list_of_lists):\n",
    "    return [\n",
    "        # La capa de entrada debe ser un tensor long\n",
    "        torch.from_numpy(l).long().to(device)\n",
    "        for l in list_of_lists\n",
    "    ]\n",
    "\n",
    "def np_to_float_tensor(list_of_lists):\n",
    "    return [\n",
    "        # La capa de salida debe ser un tensor float\n",
    "        torch.from_numpy(l).float().to(device) \n",
    "        for l in list_of_lists\n",
    "    ]"
   ]
  },
  {
   "cell_type": "code",
   "execution_count": 22,
   "metadata": {},
   "outputs": [],
   "source": [
    "X_train = np_to_long_tensor(X_train)\n",
    "Y_train = np_to_float_tensor(Y_train)\n",
    "\n",
    "X_val = np_to_long_tensor(X_val)\n",
    "Y_val = np_to_float_tensor(Y_val)"
   ]
  },
  {
   "cell_type": "markdown",
   "metadata": {},
   "source": [
    "## Descripción del modelo\n",
    "\n",
    "### Capa de embedding\n",
    "\n",
    "### Capa LSTM\n",
    "\n",
    "### Capa de salida\n",
    "\n"
   ]
  },
  {
   "cell_type": "code",
   "execution_count": 23,
   "metadata": {},
   "outputs": [],
   "source": [
    "# Dimensiones de la red neuronal\n",
    "D_in = tam_vocab\n",
    "D_emb = 64\n",
    "D_lstm = 32\n",
    "D_out = num_cat\n",
    "\n",
    "# Épocas de entrenamiento\n",
    "epochs = 100\n",
    "\n",
    "# Learning rate\n",
    "lr =  0.001"
   ]
  },
  {
   "cell_type": "code",
   "execution_count": 24,
   "metadata": {},
   "outputs": [],
   "source": [
    "class PersuasionLSTM(nn.Module):\n",
    "    def __init__(self, D_in, D_emb, D_lstm, D_out):\n",
    "        super(PersuasionLSTM, self).__init__()\n",
    "        self.embedding = nn.Embedding(num_embeddings=D_in, embedding_dim=D_emb)#, padding_idx=0)\n",
    "        self.dropout = nn.Dropout(p=0.2)\n",
    "        self.lstm = nn.LSTM(input_size=D_emb, hidden_size=D_lstm)\n",
    "        self.linear = nn.Linear(in_features=D_lstm, out_features=D_out)\n",
    "        self.sig = nn.Sigmoid()\n",
    "        \n",
    "\n",
    "    def forward(self, sentence):\n",
    "        T = len(sentence)\n",
    "        embeddings = self.embedding(sentence).view(T, 1, -1)\n",
    "        embeddings = self.dropout(embeddings)\n",
    "        lstm_out, (ht, ct) = self.lstm(embeddings)\n",
    "        lstm_out = lstm_out.view(T, -1)\n",
    "        preact_out = self.linear(lstm_out).view(T, -1)\n",
    "        return self.sig(preact_out[-1])"
   ]
  },
  {
   "cell_type": "code",
   "execution_count": 25,
   "metadata": {},
   "outputs": [
    {
     "data": {
      "text/plain": [
       "PersuasionLSTM(\n",
       "  (embedding): Embedding(7474, 64)\n",
       "  (dropout): Dropout(p=0.2, inplace=False)\n",
       "  (lstm): LSTM(64, 32)\n",
       "  (linear): Linear(in_features=32, out_features=7, bias=True)\n",
       "  (sig): Sigmoid()\n",
       ")"
      ]
     },
     "execution_count": 25,
     "metadata": {},
     "output_type": "execute_result"
    }
   ],
   "source": [
    "persuasion = PersuasionLSTM(D_in, D_emb, D_lstm, D_out).to(device)\n",
    "persuasion"
   ]
  },
  {
   "cell_type": "markdown",
   "metadata": {},
   "source": [
    "Cargo los pesos de la capa de embedding del modelo aprendido en [lstm.ipynb](./../Embeddings/lstm.ipynb)"
   ]
  },
  {
   "cell_type": "code",
   "execution_count": 26,
   "metadata": {},
   "outputs": [
    {
     "data": {
      "text/plain": [
       "<All keys matched successfully>"
      ]
     },
     "execution_count": 26,
     "metadata": {},
     "output_type": "execute_result"
    }
   ],
   "source": [
    "dir_path = './../Embeddings/modelsaves/'\n",
    "filename = 'modelv2-corenlp-emb_64-lstm_32-seed_42069-epochs_299-best-val'\n",
    "state_dict = torch.load(dir_path+filename)\n",
    "\n",
    "persuasion.embedding.load_state_dict(\n",
    "    {\n",
    "      'weight' : state_dict['embedding.weight']   \n",
    "    }\n",
    ")"
   ]
  },
  {
   "cell_type": "markdown",
   "metadata": {},
   "source": [
    "Congelo la capa de embedding para que no aprenda más"
   ]
  },
  {
   "cell_type": "code",
   "execution_count": 27,
   "metadata": {},
   "outputs": [],
   "source": [
    "persuasion.embedding.weight.requires_grad = False"
   ]
  },
  {
   "cell_type": "code",
   "execution_count": 28,
   "metadata": {},
   "outputs": [],
   "source": [
    "criterion = nn.BCELoss()\n",
    "criterion.to(device)\n",
    "optimizer = torch.optim.Adam(\n",
    "    [ \n",
    "        param for param in persuasion.parameters() \n",
    "        if param.requires_grad == True\n",
    "    ], \n",
    "    lr=lr)"
   ]
  },
  {
   "cell_type": "code",
   "execution_count": 29,
   "metadata": {},
   "outputs": [],
   "source": [
    "def hard_prob(y_hat, criterio_decision = 0.59):\n",
    "    with torch.no_grad():\n",
    "        pred = torch.gt(y_hat, 0.59)\n",
    "        pred.type(torch.Float)\n",
    "    return pred\n",
    "\n",
    "def calc_mat_conf(y_hat, y_real):\n",
    "    y_hat "
   ]
  },
  {
   "cell_type": "code",
   "execution_count": 30,
   "metadata": {},
   "outputs": [],
   "source": [
    "historial = {\n",
    "    'train':{\n",
    "        \n",
    "    },\n",
    "    'val':{\n",
    "        \n",
    "    },\n",
    "}"
   ]
  },
  {
   "cell_type": "code",
   "execution_count": 31,
   "metadata": {},
   "outputs": [
    {
     "data": {
      "application/vnd.jupyter.widget-view+json": {
       "model_id": "ab97c9cccead4070bbbd19cc5947747a",
       "version_major": 2,
       "version_minor": 0
      },
      "text/plain": [
       "HBox(children=(FloatProgress(value=0.0), HTML(value='')))"
      ]
     },
     "metadata": {},
     "output_type": "display_data"
    },
    {
     "name": "stdout",
     "output_type": "stream",
     "text": [
      "Epoch   1.\ttrain_loss: 0.478868\tval_loss: 0.424958\n",
      "Epoch  21.\ttrain_loss: 0.182130\tval_loss: 0.500449\n",
      "Epoch  41.\ttrain_loss: 0.088137\tval_loss: 0.614414\n",
      "Epoch  61.\ttrain_loss: 0.063040\tval_loss: 0.672827\n",
      "Epoch  81.\ttrain_loss: 0.041599\tval_loss: 0.790786\n",
      "\n",
      "Wall time: 5min 9s\n"
     ]
    }
   ],
   "source": [
    "%%time\n",
    "train_loss_hist = np.zeros(epochs+1)\n",
    "val_loss_hist = np.zeros(epochs+1)\n",
    "\n",
    "train_loss_hist[-1] = np.inf\n",
    "val_loss_hist[-1] = np.inf\n",
    "\n",
    "best_eval_model = {}\n",
    "best_train_model = {}\n",
    "\n",
    "matrices_conf = {}\n",
    "\n",
    "train_data = list(zip(X_train, Y_train))\n",
    "val_data = list(zip(X_val, Y_val))\n",
    "\n",
    "for epoch in tqdm(range(epochs)):\n",
    "    \n",
    "    # Entrenamiento\n",
    "    persuasion.train()\n",
    "    train_loss = 0\n",
    "    random.shuffle(train_data)\n",
    "    for x, y in train_data:\n",
    "        # Limpiamos gradientes acumulados\n",
    "        persuasion.zero_grad()\n",
    "\n",
    "        # Forward\n",
    "        out = persuasion(x)\n",
    "     \n",
    "        loss = criterion(out, y)\n",
    "        loss.backward()\n",
    "        optimizer.step()\n",
    "        train_loss += loss.item()\n",
    "    train_loss /= N_train\n",
    "    train_loss_hist[epoch] = train_loss\n",
    "    \n",
    "    # Validación\n",
    "    persuasion.eval()\n",
    "    val_loss = 0\n",
    "    random.shuffle(val_data)\n",
    "    for x, y in val_data:\n",
    "        out = persuasion(x)     \n",
    "        loss = criterion(out, y)\n",
    "        val_loss += loss.item()\n",
    "    val_loss /= N_val\n",
    "    val_loss_hist[epoch] = val_loss\n",
    "    \n",
    "    if epoch%20 == 0:\n",
    "#         tqdm.write(f'Epoch {epoch+1:3}.\\ttrain_loss: {train_loss:2.6f}')\n",
    "        tqdm.write(f'Epoch {epoch+1:3}.\\ttrain_loss: {train_loss:2.6f}\\tval_loss: {val_loss:2.6f}')\n",
    "    if val_loss < val_loss_hist[epoch-1]:\n",
    "        best_eval_model = persuasion.state_dict()\n",
    "#     if val_loss < val_loss_hist[epoch-1]:\n",
    "#         best_eval_model = model.state_dict()\n",
    "\n",
    "train_loss_hist = train_loss_hist[:-1]\n",
    "val_loss_hist = val_loss_hist[:-1]"
   ]
  },
  {
   "cell_type": "code",
   "execution_count": 32,
   "metadata": {},
   "outputs": [
    {
     "data": {
      "text/plain": [
       "100"
      ]
     },
     "execution_count": 32,
     "metadata": {},
     "output_type": "execute_result"
    }
   ],
   "source": [
    "len(train_loss_hist)"
   ]
  },
  {
   "cell_type": "code",
   "execution_count": 33,
   "metadata": {},
   "outputs": [
    {
     "name": "stdout",
     "output_type": "stream",
     "text": [
      "Mejor resultado en corpus de entrenamiento en época 99\n",
      "Mejor resultado en corpus de validación en época 8\n"
     ]
    }
   ],
   "source": [
    "best_train_epoch = train_loss_hist.argmin()+1\n",
    "best_val_epoch = val_loss_hist.argmin()+1\n",
    "\n",
    "print(f'Mejor resultado en corpus de entrenamiento en época {best_train_epoch}')\n",
    "print(f'Mejor resultado en corpus de validación en época {best_val_epoch}')"
   ]
  },
  {
   "cell_type": "code",
   "execution_count": 41,
   "metadata": {},
   "outputs": [
    {
     "data": {
      "image/png": "[encoded data removed]",
      "text/plain": [
       "<Figure size 432x288 with 1 Axes>"
      ]
     },
     "metadata": {
      "needs_background": "light"
     },
     "output_type": "display_data"
    }
   ],
   "source": [
    "plt.figure()\n",
    "\n",
    "plt.plot(train_loss_hist, color='red', label='train_loss')\n",
    "plt.plot(val_loss_hist, color='blue', label='val_loss')\n",
    "plt.legend()\n",
    "\n",
    "plt.xlabel('Epochs')\n",
    "plt.ylabel('Loss')\n",
    "\n",
    "plt.savefig(f'./img/modelv2loss-seed_{SEED}.png')\n",
    "\n",
    "plt.show()"
   ]
  },
  {
   "cell_type": "code",
   "execution_count": 39,
   "metadata": {},
   "outputs": [],
   "source": [
    "torch.save(\n",
    "    persuasion.state_dict(), # El último\n",
    "    f'./modelsaves/model-V2-seed_{SEED}-last-epoch_{epochs}'\n",
    ")"
   ]
  },
  {
   "cell_type": "code",
   "execution_count": 40,
   "metadata": {},
   "outputs": [],
   "source": [
    "torch.save(\n",
    "    best_eval_model, \n",
    "    f'./modelsaves/model-V2-seed_{SEED}-best-val-epoch_{best_val_epoch}'\n",
    ")"
   ]
  },
  {
   "cell_type": "code",
   "execution_count": null,
   "metadata": {},
   "outputs": [],
   "source": []
  }
 ],
 "metadata": {
  "kernelspec": {
   "display_name": "Python 3",
   "language": "python",
   "name": "python3"
  },
  "language_info": {
   "codemirror_mode": {
    "name": "ipython",
    "version": 3
   },
   "file_extension": ".py",
   "mimetype": "text/x-python",
   "name": "python",
   "nbconvert_exporter": "python",
   "pygments_lexer": "ipython3",
   "version": "3.7.7"
  }
 },
 "nbformat": 4,
 "nbformat_minor": 4
}
