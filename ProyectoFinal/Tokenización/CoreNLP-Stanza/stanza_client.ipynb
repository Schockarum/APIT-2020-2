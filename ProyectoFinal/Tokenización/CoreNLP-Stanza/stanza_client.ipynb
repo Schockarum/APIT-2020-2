{
 "cells": [
  {
   "cell_type": "markdown",
   "metadata": {},
   "source": [
    "# Pruebas con CoreNLP Stanza\n",
    "\n",
    "Tutorial de uso: https://stanfordnlp.github.io/stanza/corenlp_client"
   ]
  },
  {
   "cell_type": "code",
   "execution_count": 1,
   "metadata": {},
   "outputs": [],
   "source": [
    "from pymongo import MongoClient\n",
    "from stanza.server import CoreNLPClient"
   ]
  },
  {
   "cell_type": "code",
   "execution_count": 34,
   "metadata": {},
   "outputs": [],
   "source": [
    "text = \"Invitó a los jóvenes participar en la transformación de México para construir en la tierra, entre todos, desde abajo, de manera pacífica, sin violencia, el reino de la justicia. Andrés Manuel López Obrador observó que en el segundo debate le fue peor a Anaya que a Meade, porque Anaya quedó al descubierto como un mentecato, un mentiroso y “nosotros para arriba como la espuma del mar”.\""
   ]
  },
  {
   "cell_type": "code",
   "execution_count": 35,
   "metadata": {},
   "outputs": [
    {
     "name": "stdout",
     "output_type": "stream",
     "text": [
      "Using Stanford CoreNLP default properties for: spanish.  Make sure to have spanish models jar (available for download here: https://stanfordnlp.github.io/CoreNLP/) in CLASSPATH\n",
      "Setting server defaults from: StanfordCoreNLP-spanish.properties\n",
      "Warning: Server defaults being set server side, ignoring annotators=tokenize,ssplit,pos,lemma,ner\n",
      "Starting server with command: java -Xmx4G -cp C:\\StanfordCoreNLP/* edu.stanford.nlp.pipeline.StanfordCoreNLPServer -port 9000 -timeout 60000 -threads 5 -maxCharLength 100000 -quiet True -serverProperties StanfordCoreNLP-spanish.properties -preload tokenize,ssplit,pos,lemma,ner,depparse,kbp\n",
      "word\tvalue\tpos\tner\n",
      "Invitó\tVERB\tO\n",
      "a\tADP\tO\n",
      "los\tDET\tO\n",
      "jóvenes\tNOUN\tO\n",
      "participar\tVERB\tO\n",
      "en\tADP\tO\n",
      "la\tDET\tO\n",
      "transformación\tNOUN\tO\n",
      "de\tADP\tO\n",
      "México\tPROPN\tCOUNTRY\n",
      "para\tADP\tO\n",
      "construir\tVERB\tO\n",
      "en\tADP\tO\n",
      "la\tDET\tO\n",
      "tierra\tNOUN\tO\n",
      ",\tPUNCT\tO\n",
      "entre\tADP\tO\n",
      "todos\tPRON\tO\n",
      ",\tPUNCT\tO\n",
      "desde\tADP\tO\n",
      "abajo\tADV\tO\n",
      ",\tPUNCT\tO\n",
      "de\tADP\tO\n",
      "manera\tNOUN\tO\n",
      "pacífica\tADJ\tO\n",
      ",\tPUNCT\tO\n",
      "sin\tADP\tO\n",
      "violencia\tNOUN\tCAUSE_OF_DEATH\n",
      ",\tPUNCT\tO\n",
      "el\tDET\tO\n",
      "reino\tNOUN\tO\n",
      "de\tADP\tO\n",
      "la\tDET\tO\n",
      "justicia\tNOUN\tO\n",
      ".\tPUNCT\tO\n",
      "word\tvalue\tpos\tner\n",
      "Andrés\tPROPN\tPERSON\n",
      "Manuel\tPROPN\tPERSON\n",
      "López\tPROPN\tPERSON\n",
      "Obrador\tPROPN\tPERSON\n",
      "observó\tVERB\tO\n",
      "que\tSCONJ\tO\n",
      "en\tADP\tO\n",
      "el\tDET\tO\n",
      "segundo\tADJ\tO\n",
      "debate\tNOUN\tO\n",
      "le\tPRON\tO\n",
      "fue\tAUX\tO\n",
      "peor\tADV\tO\n",
      "a\tADP\tO\n",
      "Anaya\tPROPN\tPERSON\n",
      "que\tSCONJ\tO\n",
      "a\tADP\tO\n",
      "Meade\tPROPN\tPERSON\n",
      ",\tPUNCT\tO\n",
      "porque\tSCONJ\tO\n",
      "Anaya\tPROPN\tPERSON\n",
      "quedó\tVERB\tO\n",
      "al\tADP\tO\n",
      "descubierto\tNOUN\tO\n",
      "como\tSCONJ\tO\n",
      "un\tDET\tO\n",
      "mentecato\tNOUN\tO\n",
      ",\tPUNCT\tO\n",
      "un\tDET\tO\n",
      "mentiroso\tNOUN\tO\n",
      "y\tCCONJ\tO\n",
      "\"\tPUNCT\tO\n",
      "nosotros\tPRON\tO\n",
      "para\tADP\tO\n",
      "arriba\tADV\tO\n",
      "como\tSCONJ\tO\n",
      "la\tDET\tO\n",
      "espuma\tNOUN\tO\n",
      "del\tADP\tO\n",
      "mar\tNOUN\tO\n",
      "\"\tPUNCT\tO\n",
      ".\tPUNCT\tO\n",
      "------------------------------\n"
     ]
    }
   ],
   "source": [
    "with CoreNLPClient(\n",
    "    properties='spanish',\n",
    "    memory = '4G',\n",
    "    annotators='tokenize,ssplit,pos,lemma,ner'\n",
    ") as client:\n",
    "    # submit the request to the server\n",
    "    ann = client.annotate(text)\n",
    "#     print(ann)\n",
    "    # get the first sentence\n",
    "    for sentence in ann.sentence:\n",
    "        print('word\\tvalue\\tpos\\tner')\n",
    "        for token in sentence.token:\n",
    "            print(f\"{token.value}\\t{token.pos}\\t{token.ner}\")\n",
    "        print('------------------------------')"
   ]
  },
  {
   "cell_type": "code",
   "execution_count": null,
   "metadata": {},
   "outputs": [],
   "source": []
  }
 ],
 "metadata": {
  "kernelspec": {
   "display_name": "Python 3",
   "language": "python",
   "name": "python3"
  },
  "language_info": {
   "codemirror_mode": {
    "name": "ipython",
    "version": 3
   },
   "file_extension": ".py",
   "mimetype": "text/x-python",
   "name": "python",
   "nbconvert_exporter": "python",
   "pygments_lexer": "ipython3",
   "version": "3.7.7"
  }
 },
 "nbformat": 4,
 "nbformat_minor": 4
}
