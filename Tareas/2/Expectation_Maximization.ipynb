{
  "nbformat": 4,
  "nbformat_minor": 0,
  "metadata": {
    "colab": {
      "name": "Algoritmo Expectation-Maximization.ipynb",
      "provenance": [],
      "collapsed_sections": []
    },
    "kernelspec": {
      "name": "python3",
      "display_name": "Python 3"
    }
  },
  "cells": [
    {
      "cell_type": "markdown",
      "metadata": {
        "colab": {},
        "colab_type": "code",
        "id": "hIjsk0rg-qb5"
      },
      "source": [
        "# Expectation-Maximization\n",
        "\n",
        "## Algoritmo\n",
        "\n",
        "1. Inicializar <math>$p(w|\\theta_d)$</math> con valores aleatorios\n",
        "2. Mientras verosimilitud no cambie:\n",
        "    1. Mejorar esa inicialización de forma iterativa usando paso-E y paso-M\n",
        "\n",
        "### Paso-E\n",
        "\n",
        "$$\n",
        "p^{(n)}(z = 0 | w) = \\frac{p(\\theta_d) * p^{(n)}(w|\\theta_d)}{p(\\theta_d) * p^{(n)}(w | \\theta_d) + p(\\theta_B) * p(w| \\theta_B)}\n",
        "$$\n",
        "\n",
        "### Paso-M\n",
        "\n",
        "$$\n",
        "p^{(n+1)}(w | \\theta_d) = \\frac{count(w, d) p^{(n)}(z = 0 | w)}{\\sum_{w' = w_1}^{w_M}count(w', d) p^{(n)}(z = 0 | w')}\n",
        "$$"
      ]
    },
    {
      "cell_type": "markdown",
      "metadata": {
        "id": "pXXY-Am6qZ_G",
        "colab_type": "text"
      },
      "source": [
        "## Ejemplo\n",
        "\n",
        "d = \"w1 w1 w1 w1 w2 w2 w3 w3 w3 w3 w4 w4\"\n",
        "\n",
        "\\begin{array}{|c|c|}\n",
        "Palabra & count & p(w | \\theta_B) & p^{(1)}(w | \\theta_d) & p^{(1)}(z = 0 | w)&p^{(2)}(w | \\theta_d)&p^{(2)}(z = 0 | w)\\\\\n",
        "w_1&  4&  0.5&  0.25&  0.33&  0.20\\\\\n",
        "w_2&  2&  0.3&  0.25&  0.45&  0.14\\\\\n",
        "w_3&  4&  0.1&  0.25&  0.71&  0.44\\\\\n",
        "w_4&  2&  0.1&  0.25&  0.71&  0.22\n",
        "\\end{array}\n",
        "\n",
        "*Tarea: Resolver la tabla hasta n = 6 y programar ambas fórmulas*"
      ]
    },
    {
      "cell_type": "markdown",
      "metadata": {
        "id": "AiLjISzI-qrH",
        "colab_type": "text"
      },
      "source": [
        ""
      ]
    },
    {
      "cell_type": "code",
      "metadata": {
        "id": "nhkbCmbIyjuS",
        "colab_type": "code",
        "colab": {}
      },
      "source": [
        "import numpy as np\n",
        "from collections import Counter"
      ],
      "execution_count": 0,
      "outputs": []
    },
    {
      "cell_type": "code",
      "metadata": {
        "id": "NN2bRy4QwYJI",
        "colab_type": "code",
        "colab": {
          "base_uri": "https://localhost:8080/",
          "height": 34
        },
        "outputId": "e25e3de3-616c-41e2-d713-1f9801695db8"
      },
      "source": [
        "d = [*['w1']*4, *['w2']*2, *['w3']*4, *['w4']*2]\n",
        "d"
      ],
      "execution_count": 2,
      "outputs": [
        {
          "output_type": "execute_result",
          "data": {
            "text/plain": [
              "['w1', 'w1', 'w1', 'w1', 'w2', 'w2', 'w3', 'w3', 'w3', 'w3', 'w4', 'w4']"
            ]
          },
          "metadata": {
            "tags": []
          },
          "execution_count": 2
        }
      ]
    },
    {
      "cell_type": "markdown",
      "metadata": {
        "id": "p9Lsr5aY1Omy",
        "colab_type": "text"
      },
      "source": [
        "### Valores iniciales\n",
        "\n",
        "* prob_theta : $ [p(\\theta_d), p(\\theta_b)] $\n",
        "* likelihoods : $p(w_j | \\theta_i), \\ i \\in \\{B, d\\}, \\ j \\in |V| $\n",
        "* counts : $ [count(w_i, d), ..., count(w_{|V|}, d)] $"
      ]
    },
    {
      "cell_type": "code",
      "metadata": {
        "id": "NWr2yOBYxySR",
        "colab_type": "code",
        "colab": {}
      },
      "source": [
        "vocab = {\n",
        "    0 : 'w1',\n",
        "    1 : 'w2',\n",
        "    2 : 'w3',\n",
        "    3 : 'w4',\n",
        "}\n",
        "inv_vocab = { v: k for k, v in vocab.items() }\n",
        "prioris = np.array([0.5, 0.5])\n",
        "likelihoods = np.array([\n",
        "                           [0.5, 0.25],\n",
        "                           [0.3, 0.25],\n",
        "                           [0.1, 0.25],\n",
        "                           [0.1, 0.25],\n",
        "])\n",
        "estimados_w = np.zeros(4)\n",
        "counter = Counter(d)\n",
        "counts = np.zeros(4)\n",
        "for w, freq in counter.items():\n",
        "  counts[inv_vocab[w]] = freq"
      ],
      "execution_count": 0,
      "outputs": []
    },
    {
      "cell_type": "code",
      "metadata": {
        "id": "IRQd4U6Ww3va",
        "colab_type": "code",
        "colab": {}
      },
      "source": [
        "# Expectation\n",
        "def paso_E(prioris, likelihoods):\n",
        "  temp = (likelihoods*prioris).T\n",
        "  return temp[1]/sum(temp)"
      ],
      "execution_count": 0,
      "outputs": []
    },
    {
      "cell_type": "code",
      "metadata": {
        "id": "xraR51ge6-wi",
        "colab_type": "code",
        "colab": {}
      },
      "source": [
        "# Maximization\n",
        "def paso_M(counts, estimados_w): \n",
        "  temp = estimados_w*counts\n",
        "  return temp/temp.sum()"
      ],
      "execution_count": 0,
      "outputs": []
    },
    {
      "cell_type": "code",
      "metadata": {
        "id": "rPwGdjLn2NLY",
        "colab_type": "code",
        "colab": {
          "base_uri": "https://localhost:8080/",
          "height": 34
        },
        "outputId": "29f01c1a-acb5-4838-a63a-aabb4509c2f5"
      },
      "source": [
        "paso_M(counts, paso_E(prioris, likelihoods))"
      ],
      "execution_count": 9,
      "outputs": [
        {
          "output_type": "execute_result",
          "data": {
            "text/plain": [
              "array([0.20424403, 0.13925729, 0.43766578, 0.21883289])"
            ]
          },
          "metadata": {
            "tags": []
          },
          "execution_count": 9
        }
      ]
    },
    {
      "cell_type": "code",
      "metadata": {
        "id": "qO74bMcq3DiS",
        "colab_type": "code",
        "colab": {
          "base_uri": "https://localhost:8080/",
          "height": 68
        },
        "outputId": "1430d2c1-1d85-4684-def6-2e7ee2caf8c6"
      },
      "source": [
        "# P = np.matrix(prioris)\n",
        "# L = np.matrix(likelihoods).T\n",
        "# print((prioris*likelihoods).T)\n",
        "# print((P*L).T)\n",
        "P = prioris\n",
        "L = likelihoods\n",
        "print((prioris*likelihoods).T)\n",
        "print((L*P).T.reshape(8))"
      ],
      "execution_count": 28,
      "outputs": [
        {
          "output_type": "stream",
          "text": [
            "[[0.25  0.15  0.05  0.05 ]\n",
            " [0.125 0.125 0.125 0.125]]\n",
            "[0.25  0.15  0.05  0.05  0.125 0.125 0.125 0.125]\n"
          ],
          "name": "stdout"
        }
      ]
    },
    {
      "cell_type": "code",
      "metadata": {
        "id": "egmyp_7Amab6",
        "colab_type": "code",
        "colab": {
          "base_uri": "https://localhost:8080/",
          "height": 1000
        },
        "outputId": "59e2dd3f-1005-4c1f-abf6-0fc4bd32ba49"
      },
      "source": [
        "print('Iniciales')\n",
        "print(likelihoods)\n",
        "print(estimados_w)\n",
        "# Iteraciones \n",
        "for i in range(20):\n",
        "  print(f'Iteración {i+1}')\n",
        "  estimados_w = paso_E(prioris, likelihoods)\n",
        "  print('p(z=0 | w)')\n",
        "  print(estimados_w)\n",
        "  prob_w_th = paso_M(counts, estimados_w)\n",
        "  print('p(w | theta_d)')\n",
        "  print(prob_w_th)\n",
        "  print('')\n",
        "  likelihoods = likelihoods.T\n",
        "  likelihoods[1] = prob_w_th \n",
        "  likelihoods = likelihoods.T"
      ],
      "execution_count": 31,
      "outputs": [
        {
          "output_type": "stream",
          "text": [
            "Iniciales\n",
            "[[0.5  0.25]\n",
            " [0.3  0.25]\n",
            " [0.1  0.25]\n",
            " [0.1  0.25]]\n",
            "[0. 0. 0. 0.]\n",
            "Iteración 1\n",
            "p(z=0 | w)\n",
            "[0.33333333 0.45454545 0.71428571 0.71428571]\n",
            "p(w | theta_d)\n",
            "[0.20424403 0.13925729 0.43766578 0.21883289]\n",
            "\n",
            "Iteración 2\n",
            "p(z=0 | w)\n",
            "[0.29001883 0.31702899 0.81401085 0.68635607]\n",
            "p(w | theta_d)\n",
            "[0.18061582 0.0987185  0.50694376 0.21372192]\n",
            "\n",
            "Iteración 3\n",
            "p(z=0 | w)\n",
            "[0.26537117 0.24758947 0.83524009 0.68124637]\n",
            "p(w | theta_d)\n",
            "[0.16956308 0.07910059 0.53368978 0.21764654]\n",
            "\n",
            "Iteración 4\n",
            "p(z=0 | w)\n",
            "[0.25324437 0.20865331 0.84219408 0.68518467]\n",
            "p(w | theta_d)\n",
            "[0.16419305 0.06764103 0.54604339 0.22212253]\n",
            "\n",
            "Iteración 5\n",
            "p(z=0 | w)\n",
            "[0.24720682 0.18398663 0.84521163 0.68955912]\n",
            "p(w | theta_d)\n",
            "[0.16165853 0.06015815 0.55271804 0.22546529]\n",
            "\n",
            "Iteración 6\n",
            "p(z=0 | w)\n",
            "[0.2443232  0.16703258 0.84679449 0.69274757]\n",
            "p(w | theta_d)\n",
            "[0.16063245 0.05490852 0.55673252 0.22772651]\n",
            "\n",
            "Iteración 7\n",
            "p(z=0 | w)\n",
            "[0.2431495  0.15471177 0.84773101 0.69486753]\n",
            "p(w | theta_d)\n",
            "[0.16042375 0.05103741 0.55931101 0.22922782]\n",
            "\n",
            "Iteración 8\n",
            "p(z=0 | w)\n",
            "[0.24291033 0.14539024 0.84832651 0.69625896]\n",
            "p(w | theta_d)\n",
            "[0.16064845 0.04807683 0.56103971 0.23023501]\n",
            "\n",
            "Iteración 9\n",
            "p(z=0 | w)\n",
            "[0.24316783 0.13812131 0.84872316 0.69718535]\n",
            "p(w | theta_d)\n",
            "[0.16108691 0.04574934 0.56223799 0.23092576]\n",
            "\n",
            "Iteración 10\n",
            "p(z=0 | w)\n",
            "[0.2436698  0.13231938 0.84899688 0.69781742]\n",
            "p(w | theta_d)\n",
            "[0.16161314 0.04388018 0.5630942  0.23141248]\n",
            "\n",
            "Iteración 11\n",
            "p(z=0 | w)\n",
            "[0.24427135 0.12760312 0.84919186 0.69826121]\n",
            "p(w | theta_d)\n",
            "[0.1621562  0.04235379 0.56372442 0.23176558]\n",
            "\n",
            "Iteración 12\n",
            "p(z=0 | w)\n",
            "[0.24489116 0.12371352 0.84933506 0.69858236]\n",
            "p(w | theta_d)\n",
            "[0.16267794 0.04109062 0.56420196 0.23202948]\n",
            "\n",
            "Iteración 13\n",
            "p(z=0 | w)\n",
            "[0.24548567 0.12046834 0.84944338 0.69882192]\n",
            "p(w | theta_d)\n",
            "[0.16315956 0.04003403 0.56457395 0.23223246]\n",
            "\n",
            "Iteración 14\n",
            "p(z=0 | w)\n",
            "[0.24603364 0.11773537 0.84952766 0.69900593]\n",
            "p(w | theta_d)\n",
            "[0.1635936  0.03914252 0.56487107 0.23239281]\n",
            "\n",
            "Iteración 15\n",
            "p(z=0 | w)\n",
            "[0.24652679 0.11541614 0.8495949  0.69915113]\n",
            "p(w | theta_d)\n",
            "[0.16397893 0.0383849  0.56511367 0.2325225 ]\n",
            "\n",
            "Iteración 16\n",
            "p(z=0 | w)\n",
            "[0.24696405 0.11343563 0.84964976 0.69926847]\n",
            "p(w | theta_d)\n",
            "[0.16431781 0.03773726 0.56531541 0.23262953]\n",
            "\n",
            "Iteración 17\n",
            "p(z=0 | w)\n",
            "[0.24734819 0.11173555 0.84969535 0.69936523]\n",
            "p(w | theta_d)\n",
            "[0.16461413 0.03718089 0.56548568 0.23271931]\n",
            "\n",
            "Iteración 18\n",
            "p(z=0 | w)\n",
            "[0.24768376 0.11026986 0.84973381 0.69944636]\n",
            "p(w | theta_d)\n",
            "[0.16487238 0.03670094 0.56563108 0.23279561]\n",
            "\n",
            "Iteración 19\n",
            "p(z=0 | w)\n",
            "[0.24797598 0.10900159 0.84976663 0.69951526]\n",
            "p(w | theta_d)\n",
            "[0.16509707 0.03628546 0.56575635 0.23286111]\n",
            "\n",
            "Iteración 20\n",
            "p(z=0 | w)\n",
            "[0.24823004 0.10790077 0.8497949  0.6995744 ]\n",
            "p(w | theta_d)\n",
            "[0.16529247 0.03592471 0.56586503 0.23291778]\n",
            "\n"
          ],
          "name": "stdout"
        }
      ]
    },
    {
      "cell_type": "code",
      "metadata": {
        "id": "NQVL3wCsunKZ",
        "colab_type": "code",
        "colab": {
          "base_uri": "https://localhost:8080/",
          "height": 34
        },
        "outputId": "00dc8729-dbdd-4483-9452-d07f4bed59d3"
      },
      "source": [
        "likelihoods.T[1]*prioris[1]/sum((likelihoods*prioris).T)"
      ],
      "execution_count": 94,
      "outputs": [
        {
          "output_type": "execute_result",
          "data": {
            "text/plain": [
              "array([0.33333333, 0.45454545, 0.71428571, 0.71428571])"
            ]
          },
          "metadata": {
            "tags": []
          },
          "execution_count": 94
        }
      ]
    },
    {
      "cell_type": "code",
      "metadata": {
        "id": "mbyIEhp-wF6i",
        "colab_type": "code",
        "colab": {
          "base_uri": "https://localhost:8080/",
          "height": 34
        },
        "outputId": "6310d601-0e22-48bf-e354-71d438345c4a"
      },
      "source": [
        "temp = (likelihoods*prioris).T\n",
        "temp[1]/sum(temp)"
      ],
      "execution_count": 97,
      "outputs": [
        {
          "output_type": "execute_result",
          "data": {
            "text/plain": [
              "array([0.33333333, 0.45454545, 0.71428571, 0.71428571])"
            ]
          },
          "metadata": {
            "tags": []
          },
          "execution_count": 97
        }
      ]
    },
    {
      "cell_type": "code",
      "metadata": {
        "id": "1B7bEV0OwlIY",
        "colab_type": "code",
        "colab": {
          "base_uri": "https://localhost:8080/",
          "height": 34
        },
        "outputId": "5ce5e001-6b0f-449b-fbbf-348eb68df23c"
      },
      "source": [
        "likelihoods.dot(prioris)"
      ],
      "execution_count": 96,
      "outputs": [
        {
          "output_type": "execute_result",
          "data": {
            "text/plain": [
              "array([0.375, 0.275, 0.175, 0.175])"
            ]
          },
          "metadata": {
            "tags": []
          },
          "execution_count": 96
        }
      ]
    },
    {
      "cell_type": "code",
      "metadata": {
        "id": "PJ1XZYR10T6y",
        "colab_type": "code",
        "colab": {}
      },
      "source": [
        ""
      ],
      "execution_count": 0,
      "outputs": []
    }
  ]
}