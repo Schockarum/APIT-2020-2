{
 "cells": [
  {
   "cell_type": "markdown",
   "metadata": {},
   "source": [
    "# Web Scrapping para boletines de campaña de AMLO"
   ]
  },
  {
   "cell_type": "code",
   "execution_count": 1,
   "metadata": {},
   "outputs": [],
   "source": [
    "from selenium import webdriver\n",
    "from bs4 import BeautifulSoup\n",
    "# from tqdm.notebook import tqdm\n",
    "from tqdm import tqdm\n",
    "from uuid import uuid4\n",
    "import pandas as pd\n",
    "import datetime as dt"
   ]
  },
  {
   "cell_type": "markdown",
   "metadata": {},
   "source": [
    "## Definición de constantes"
   ]
  },
  {
   "cell_type": "code",
   "execution_count": 4,
   "metadata": {},
   "outputs": [],
   "source": [
    "# FECHA_INICIO = dt.date(2018, 3, 30)\n",
    "FECHA_INICIO = dt.date(2018, 4, 1)\n",
    "FECHA_FIN = dt.date(2018, 6, 27)\n",
    "UN_DIA = dt.timedelta(days=1)\n",
    "DIAS_DIF = (FECHA_FIN - FECHA_INICIO).days + 1\n",
    "SITIO_BASE = 'https://lopezobrador.org.mx/'\n",
    "RUTA_CHROMEDRIVER = \"C:\\\\Chromedriver\\\\chromedriver.exe\"\n",
    "articulos = []\n",
    "\n",
    "def obtener_ruta(fecha):\n",
    "    return SITIO_BASE + fecha.strftime(\"%Y/%m/%d\")\n",
    "\n",
    "# print('Inicio de campaña: ', FECHA_INICIO)\n",
    "# print('Fin de campaña: ', FECHA_FIN)"
   ]
  },
  {
   "cell_type": "markdown",
   "metadata": {},
   "source": [
    "## Driver chrome\n"
   ]
  },
  {
   "cell_type": "code",
   "execution_count": 3,
   "metadata": {},
   "outputs": [],
   "source": [
    "driver = webdriver.Chrome(RUTA_CHROMEDRIVER)"
   ]
  },
  {
   "cell_type": "markdown",
   "metadata": {},
   "source": [
    "## Scrapping\n",
    "Lógica principal para obtener información"
   ]
  },
  {
   "cell_type": "code",
   "execution_count": 6,
   "metadata": {
    "scrolled": true
   },
   "outputs": [
    {
     "name": "stderr",
     "output_type": "stream",
     "text": [
      "Progreso por fecha: 100%|███████████████████████████████████████████████████████████████████████████████████████████████████████████████████████████████████████████████████████| 88/88 [02:28<00:00,  1.43s/it]\n"
     ]
    }
   ],
   "source": [
    "rutas = [obtener_ruta(FECHA_INICIO + UN_DIA*i) for i in range(DIAS_DIF)]\n",
    "for ruta in tqdm(rutas, desc='Progreso por fecha'):\n",
    "#     ruta_actual = obtener_ruta(fecha_actual)\n",
    "    driver.get(ruta)\n",
    "    content = driver.page_source\n",
    "    soup = BeautifulSoup(content)\n",
    "    \n",
    "    # Buscamos todos los artículos con clase boletin\n",
    "    for soup_articulo in soup.findAll('article', attrs={'class':'category-boletines'}):\n",
    "        articulo = {\n",
    "            'uuid': str(uuid4()),\n",
    "            'fuente' : '',\n",
    "            'encabezado' : '',\n",
    "            'sumarios' : [],\n",
    "            'contenido' : [],\n",
    "        }\n",
    "        \n",
    "        # Encabezado del boletin\n",
    "        soup_encabezado = soup_articulo.find('h2', attrs={'class':'entry-title'})\n",
    "        articulo['encabezado'] = soup_encabezado.a.string\n",
    "        articulo['fuente'] = soup_encabezado.a.attrs['href']\n",
    "        \n",
    "        # Sumarios del boletin\n",
    "        soup_sumarios = soup_articulo.find('ul')\n",
    "        if soup_sumarios:\n",
    "            for soup_sumario in soup_sumarios.findAll('li'):\n",
    "                sumario = soup_sumario.string if soup_sumario.string else \"\"\n",
    "                if( len(sumario) < 3 ):\n",
    "                    sumario = \" \".join([child.string for child in soup_sumario.children if child.string])\n",
    "                sumario = sumario.strip()\n",
    "                if( len(sumario) >= 3):\n",
    "                    articulo['sumarios'].append(sumario)\n",
    "                \n",
    "        # Contenido del boletin\n",
    "        soup_content = soup_articulo.find('div', attrs={'class':'entry-content'})\n",
    "        for soup_p in soup_content.findAll('p'):\n",
    "            contenido = soup_p.string if soup_p.string else \"\"\n",
    "            if( len(contenido) < 3 ):\n",
    "                contenido = \" \".join([child.string for child in soup_p.children if child.string])\n",
    "            contenido = contenido.strip()\n",
    "            if( len(contenido) >= 3 and contenido != 'ªªªªªªªªªªª' ):\n",
    "                articulo['contenido'].append(contenido)\n",
    "        \n",
    "        # Agregamos el nuevo artículo\n",
    "        articulos.append(articulo)\n",
    "#     fecha_actual += UN_DIA\n",
    "\n",
    "# Hacemos un objeto    \n",
    "boletines = {\n",
    "    'boletines' : articulos\n",
    "}"
   ]
  },
  {
   "cell_type": "code",
   "execution_count": 7,
   "metadata": {},
   "outputs": [],
   "source": [
    "df_boletines = pd.DataFrame(boletines)"
   ]
  },
  {
   "cell_type": "code",
   "execution_count": 8,
   "metadata": {},
   "outputs": [],
   "source": [
    "with open('Data/boletines-AMLO.json', 'w', encoding='utf-8') as file:\n",
    "    df_boletines.to_json(file, force_ascii=False)"
   ]
  },
  {
   "cell_type": "code",
   "execution_count": null,
   "metadata": {},
   "outputs": [],
   "source": []
  }
 ],
 "metadata": {
  "kernelspec": {
   "display_name": "Python 3.6.8 64-bit",
   "language": "python",
   "name": "python36864bit27614f1e16684611a4b8e8ac168ac791"
  },
  "language_info": {
   "codemirror_mode": {
    "name": "ipython",
    "version": 3
   },
   "file_extension": ".py",
   "mimetype": "text/x-python",
   "name": "python",
   "nbconvert_exporter": "python",
   "pygments_lexer": "ipython3",
   "version": "3.6.8"
  }
 },
 "nbformat": 4,
 "nbformat_minor": 2
}
