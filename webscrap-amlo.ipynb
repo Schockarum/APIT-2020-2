{
 "cells": [
  {
   "cell_type": "markdown",
   "metadata": {},
   "source": [
    "# Web Scrapping para boletines de campaña de AMLO"
   ]
  },
  {
   "cell_type": "code",
   "execution_count": 1,
   "metadata": {},
   "outputs": [],
   "source": [
    "from selenium import webdriver\n",
    "from bs4 import BeautifulSoup\n",
    "from tqdm.notebook import tqdm\n",
    "# from tqdm import tqdm\n",
    "from uuid import uuid4\n",
    "import pandas as pd\n",
    "import datetime as dt"
   ]
  },
  {
   "cell_type": "markdown",
   "metadata": {},
   "source": [
    "## Definición de constantes"
   ]
  },
  {
   "cell_type": "code",
   "execution_count": 2,
   "metadata": {},
   "outputs": [],
   "source": [
    "def obtener_ruta(fecha):\n",
    "    return SITIO_BASE + fecha.strftime(\"%Y/%m/%d\")\n",
    "\n",
    "# FECHA_INICIO = dt.date(2018, 3, 30) # Inicio oficial\n",
    "FECHA_INICIO = dt.date(2018, 4, 1)\n",
    "FECHA_FIN = dt.date(2018, 6, 27)\n",
    "UN_DIA = dt.timedelta(days=1)\n",
    "DIAS_DIF = (FECHA_FIN - FECHA_INICIO).days + 1\n",
    "SITIO_BASE = 'https://lopezobrador.org.mx/'\n",
    "RUTA_CHROMEDRIVER = \"C:\\\\Chromedriver\\\\chromedriver.exe\"\n",
    "RUTAS = [obtener_ruta(FECHA_INICIO + UN_DIA*i) for i in range(DIAS_DIF)]\n",
    "articulos = []"
   ]
  },
  {
   "cell_type": "markdown",
   "metadata": {},
   "source": [
    "## Driver chrome\n"
   ]
  },
  {
   "cell_type": "code",
   "execution_count": 3,
   "metadata": {},
   "outputs": [],
   "source": [
    "driver = webdriver.Chrome(RUTA_CHROMEDRIVER)"
   ]
  },
  {
   "cell_type": "markdown",
   "metadata": {
    "slideshow": {
     "slide_type": "-"
    }
   },
   "source": [
    "## Scrapping\n",
    "Lógica principal para obtener información"
   ]
  },
  {
   "cell_type": "code",
   "execution_count": 6,
   "metadata": {
    "scrolled": true
   },
   "outputs": [
    {
     "data": {
      "application/vnd.jupyter.widget-view+json": {
       "model_id": "362e77d996e24a128abd25d7cad390b6",
       "version_major": 2,
       "version_minor": 0
      },
      "text/plain": [
       "HBox(children=(FloatProgress(value=0.0, description='Progreso por fecha', max=88.0, style=ProgressStyle(descri…"
      ]
     },
     "metadata": {},
     "output_type": "display_data"
    },
    {
     "name": "stdout",
     "output_type": "stream",
     "text": [
      "\n"
     ]
    }
   ],
   "source": [
    "for ruta in tqdm(RUTAS, desc='Progreso por fecha'):\n",
    "#     ruta_actual = obtener_ruta(fecha_actual)\n",
    "    driver.get(ruta)\n",
    "    content = driver.page_source\n",
    "    soup = BeautifulSoup(content)\n",
    "    \n",
    "    # Buscamos todos los artículos con clase boletin\n",
    "    for soup_articulo in soup.findAll('article', attrs={'class':'category-boletines'}):\n",
    "        articulo = {\n",
    "            'uuid': str(uuid4()),\n",
    "            'fuente' : '',\n",
    "            'fecha' : ruta[-10:], # En esta parte de la ruta se encuentra la fecha\n",
    "            'encabezado' : '',\n",
    "            'sumarios' : [],\n",
    "            'contenido' : \"\",\n",
    "        }\n",
    "        \n",
    "        # Encabezado del boletin\n",
    "        soup_encabezado = soup_articulo.find('h2', attrs={'class':'entry-title'})\n",
    "        articulo['encabezado'] = soup_encabezado.a.string\n",
    "        articulo['fuente'] = soup_encabezado.a.attrs['href']\n",
    "        \n",
    "        # Sumarios del boletin\n",
    "        soup_sumarios = soup_articulo.find('ul')\n",
    "        if soup_sumarios:\n",
    "            for soup_sumario in soup_sumarios.findAll('li'):\n",
    "                sumario = soup_sumario.string if soup_sumario.string else \"\"\n",
    "                if( len(sumario) < 3 ):\n",
    "                    sumario = \" \".join([child.string for child in soup_sumario.children if child.string])\n",
    "                sumario = sumario.strip()\n",
    "                if( len(sumario) >= 3):\n",
    "                    articulo['sumarios'].append(sumario)\n",
    "                \n",
    "        # Contenido del boletin\n",
    "        soup_content = soup_articulo.find('div', attrs={'class':'entry-content'})\n",
    "        for soup_p in soup_content.findAll('p'):\n",
    "            parrafo = soup_p.string if soup_p.string else \"\"\n",
    "            if( len(parrafo) < 3 ):\n",
    "                parrafo = \" \".join([child.string for child in soup_p.children if child.string])\n",
    "            parrafo = parrafo.strip()\n",
    "            if( len(parrafo) >= 3 ): #and parrafo != 'ªªªªªªªªªªª' ):\n",
    "                articulo['contenido'] += parrafo+\"\\n\"\n",
    "        \n",
    "        # Agregamos el nuevo artículo\n",
    "        articulos.append(articulo)\n",
    "#     fecha_actual += UN_DIA\n",
    "#     break\n",
    "# Hacemos un objeto para boletines\n",
    "boletines = {\n",
    "    'boletines' : articulos\n",
    "}"
   ]
  },
  {
   "cell_type": "code",
   "execution_count": 11,
   "metadata": {},
   "outputs": [],
   "source": [
    "# Boletin faltante\n",
    "boletines['boletines'][60]['contenido'] = \"\"\"Boletín campaña-062\n",
    "Descargar: Boletín campaña 062\n",
    "Descargar: Entrevista AMLO, Coparmex  \n",
    "Ciudad de México, 17 de mayo de 2018.-   El candidato por la coalición “Juntos haremos historia” por la Presidencia de México, Andrés Manuel López Obrador expresó que respeta la postura de Margarita Zavala, “muchos de los que iban a votar por ella, estoy seguro que lo van a hacer ahora por nosotros”.\n",
    "En entrevista y a la pregunta de los reporteros sobre si es un acto de valentía o de congruencia Margarita Zavala a estas alturas, el candidato presidencial respondió que no lo califica, eso se los dejó a la interpretación de los representantes de los medios de comunicación.\n",
    "Sobre si la ex candidata independiente pactó con Anaya, ayer prácticamente en todo el programa de Tercer Grado habló en contra de usted, López Obrador comentó que Zavala trae un cargo de conciencia.\n",
    "Agregó: “porque su esposo Felipe Calderón se robó la Presidencia en el 2006, fue el que desató esta guerra que ha causado la muerte de miles de mexicanos, entonces Calderón convirtió al país en un cementerio, entonces, eso les pesa mucho, trae ese problema de conciencia, pero no es conmigo”.\n",
    "Indicó que Margarita Zavala y Felipe Calderón deberían de entender que tienen esa deuda histórica con el pueblo de México.\n",
    "A la pregunta de los reporteros sobre si cree que Zavala se vaya a sumar algún otro candidato, el candidato presidencial respondió que puede ser, porque se identifica con el PRIAN. “No sucede nada, ya la gente decidió a favor de un cambio verdadero, vamos a ganar aunque se unan todos, les vamos a ganar”.\n",
    "Sobre si espera más retiros, más declinaciones de los candidatos, López Obrador manifestó que puede ser, porque están muy nerviosos, están muy preocupados, “estamos muy arriba, ya pasamos en términos de resultados finales de efectividad, ya pasamos el 50 por ciento de intención del voto”.\n",
    "Expuso que está mucho muy arriba, desde luego es el ciudadano que decidirá, pero nunca se había visto en la historia del país que un candidato sacará tanta ventaja como ahora. “No es para presumir pobremente estamos como 30 puntos arriba”.\n",
    "Comentó que fue una buena reunión con los integrantes de la Confederación Patronal de la República Mexicana (COPARMEX), fueron muy cordiales a pesar de que tiene diferencias, porque así es la democracia, se diálogo en un ambiente de respeto y de cordialidad.\n",
    "ªªªªªªªªªªª\"\"\""
   ]
  },
  {
   "cell_type": "code",
   "execution_count": 12,
   "metadata": {},
   "outputs": [
    {
     "data": {
      "text/plain": [
       "{'uuid': '8cb46087-5cd3-4a0c-9667-c30c2553fe40',\n",
       " 'fuente': 'https://lopezobrador.org.mx/2018/05/17/expresa-amlo-que-respeta-la-postura-de-margarita-zavala/',\n",
       " 'fecha': '2018/05/17',\n",
       " 'encabezado': 'Expresa AMLO que respeta la postura de Margarita Zavala',\n",
       " 'sumarios': ['Prevé que haya más declinaciones, están muy nerviosos “ya pasamos el 50 por ciento de intención del voto”',\n",
       "  'Comentó que fue una buena reunión con los integrantes de la Confederación Patronal de la República Mexicana (COPARMEX)'],\n",
       " 'contenido': 'Boletín campaña-062\\nDescargar: Boletín campaña 062\\nDescargar: Entrevista AMLO, Coparmex  \\nCiudad de México, 17 de mayo de 2018.-   El candidato por la coalición “Juntos haremos historia” por la Presidencia de México, Andrés Manuel López Obrador expresó que respeta la postura de Margarita Zavala, “muchos de los que iban a votar por ella, estoy seguro que lo van a hacer ahora por nosotros”.\\nEn entrevista y a la pregunta de los reporteros sobre si es un acto de valentía o de congruencia Margarita Zavala a estas alturas, el candidato presidencial respondió que no lo califica, eso se los dejó a la interpretación de los representantes de los medios de comunicación.\\nSobre si la ex candidata independiente pactó con Anaya, ayer prácticamente en todo el programa de Tercer Grado habló en contra de usted, López Obrador comentó que Zavala trae un cargo de conciencia.\\nAgregó: “porque su esposo Felipe Calderón se robó la Presidencia en el 2006, fue el que desató esta guerra que ha causado la muerte de miles de mexicanos, entonces Calderón convirtió al país en un cementerio, entonces, eso les pesa mucho, trae ese problema de conciencia, pero no es conmigo”.\\nIndicó que Margarita Zavala y Felipe Calderón deberían de entender que tienen esa deuda histórica con el pueblo de México.\\nA la pregunta de los reporteros sobre si cree que Zavala se vaya a sumar algún otro candidato, el candidato presidencial respondió que puede ser, porque se identifica con el PRIAN. “No sucede nada, ya la gente decidió a favor de un cambio verdadero, vamos a ganar aunque se unan todos, les vamos a ganar”.\\nSobre si espera más retiros, más declinaciones de los candidatos, López Obrador manifestó que puede ser, porque están muy nerviosos, están muy preocupados, “estamos muy arriba, ya pasamos en términos de resultados finales de efectividad, ya pasamos el 50 por ciento de intención del voto”.\\nExpuso que está mucho muy arriba, desde luego es el ciudadano que decidirá, pero nunca se había visto en la historia del país que un candidato sacará tanta ventaja como ahora. “No es para presumir pobremente estamos como 30 puntos arriba”.\\nComentó que fue una buena reunión con los integrantes de la Confederación Patronal de la República Mexicana (COPARMEX), fueron muy cordiales a pesar de que tiene diferencias, porque así es la democracia, se diálogo en un ambiente de respeto y de cordialidad.\\nªªªªªªªªªªª'}"
      ]
     },
     "execution_count": 12,
     "metadata": {},
     "output_type": "execute_result"
    }
   ],
   "source": [
    "boletines['boletines'][60]"
   ]
  },
  {
   "cell_type": "markdown",
   "metadata": {},
   "source": [
    "## Guardar resultados"
   ]
  },
  {
   "cell_type": "code",
   "execution_count": 7,
   "metadata": {},
   "outputs": [],
   "source": [
    "df_boletines = pd.DataFrame(boletines)"
   ]
  },
  {
   "cell_type": "code",
   "execution_count": 8,
   "metadata": {},
   "outputs": [],
   "source": [
    "with open('Data/boletines-AMLO.json', 'w', encoding='utf-8') as file:\n",
    "    df_boletines.to_json(file, force_ascii=False)"
   ]
  }
 ],
 "metadata": {
  "kernelspec": {
   "display_name": "Python 3",
   "language": "python",
   "name": "python3"
  },
  "language_info": {
   "codemirror_mode": {
    "name": "ipython",
    "version": 3
   },
   "file_extension": ".py",
   "mimetype": "text/x-python",
   "name": "python",
   "nbconvert_exporter": "python",
   "pygments_lexer": "ipython3",
   "version": "3.7.4"
  }
 },
 "nbformat": 4,
 "nbformat_minor": 2
}
