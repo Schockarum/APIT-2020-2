{
 "cells": [
  {
   "cell_type": "code",
   "execution_count": 1,
   "metadata": {},
   "outputs": [],
   "source": [
    "import datetime as dt"
   ]
  },
  {
   "cell_type": "code",
   "execution_count": 15,
   "metadata": {},
   "outputs": [
    {
     "name": "stdout",
     "output_type": "stream",
     "text": [
      "Inicio de campaña:  2018-03-30\n",
      "Fin de campaña:  2018-06-27\n"
     ]
    }
   ],
   "source": [
    "FECHA_INICIO = dt.date(2018, 3, 30)\n",
    "FECHA_FIN = dt.date(2018, 6, 27)\n",
    "UN_DIA = dt.timedelta(days=1)\n",
    "SITIO_BASE = 'https://lopezobrador.org.mx/'\n",
    "print('Inicio de campaña: ', FECHA_INICIO)\n",
    "print('Fin de campaña: ', FECHA_FIN)"
   ]
  },
  {
   "cell_type": "code",
   "execution_count": 3,
   "metadata": {},
   "outputs": [],
   "source": [
    "from selenium import webdriver\n",
    "from bs4 import BeautifulSoup\n",
    "import pandas as pd"
   ]
  },
  {
   "cell_type": "code",
   "execution_count": 4,
   "metadata": {
    "scrolled": true
   },
   "outputs": [],
   "source": [
    "driver = webdriver.Chrome(\"C:\\\\Chromedriver\\\\chromedriver.exe\")"
   ]
  },
  {
   "cell_type": "code",
   "execution_count": 5,
   "metadata": {},
   "outputs": [],
   "source": [
    "artículos = []\n"
   ]
  },
  {
   "cell_type": "code",
   "execution_count": 6,
   "metadata": {},
   "outputs": [],
   "source": [
    "def obtener_ruta(fecha):\n",
    "    return SITIO_BASE + fecha.strftime(\"%Y/%m/%d\")"
   ]
  },
  {
   "cell_type": "code",
   "execution_count": 47,
   "metadata": {},
   "outputs": [
    {
     "name": "stdout",
     "output_type": "stream",
     "text": [
      "None\n",
      "None\n",
      "Descargar audio  discurso AMLO\n",
      "None\n",
      " \n",
      "None\n",
      "Amigas y amigos:\n",
      "Iniciamos la campaña, aquí donde comienza nuestra patria, en Ciudad Juárez. iniciamos aquí la campaña como homenaje a este legendario Paso del Norte, donde se refugió y resistió Juárez y su gabinete, en los tiempos de la lucha contra los conservadores y la Invasión Francesa.\n",
      "Medio siglo después, en mayo de 1911, aquí también tuvo lugar la batalla decisiva, en la cual los revolucionarios, encabezados por Francisco I. Madero, con el apoyo militar de Pascual Orozco y Francisco Villa, derrotaron al ejército federal para propiciar la caída del régimen dictatorial porfirista.\n",
      "De modo que Ciudad Juárez, antes Paso del Norte, ha sido testigo de hechos históricos trascendentes y punto de partida de importantes transformaciones. Por eso, decidimos iniciar nuestra campaña aquí en este sitio, por demás emblemático, aquí al pie de la estatua del mejor presidente que ha habido en la historia de nuestro país, Benito Juárez García.\n",
      "Ciudad Juárez representa el pasado glorioso, también el presente de los grandes y graves problemas nacionales y también aquí en Ciudad Juárez, como todo México, se está expresando, manifestando la posibilidad de lograr juntos un mejor porvenir para nuestro pueblo y nuestra nación.\n",
      "La situación actual en Ciudad Juárez es muy parecida a lo que sucede en el resto del país. Antes había más diferencias entre el norte y el sur de México.\n",
      "Hasta hace poco, el crecimiento económico en la frontera era superior a la media nacional y por lo mismo había mayores oportunidades de empleos en toda esta región fronteriza.\n",
      "A partir de la recesión económica producida en 2008 en los Estados Unidos, Ciudad Juárez pasó a ser uno de los centros urbanos con mayor desempleo en el país.\n",
      "Aparejada a esa crisis económica, ha venido como rémora la crisis de bienestar social, que se sumó a la inseguridad y la violencia que ya venían de tiempo atrás.\n",
      "Aquí empezó el horror de los feminicidios que, desgraciadamente, siguen ocurriendo en todo el país y con mayor incidencia en las colonias populares de las grandes ciudades de nuestra República.\n",
      "Hoy, las multiplicadas amenazas a la integridad y a la vida acechan en forma particularmente devastadora a las mujeres y a los jóvenes.\n",
      "No fue casual que el papa Francisco decidiera venir a Ciudad Juárez hace más de dos años para alzar la voz y sostener que uno de los principales flagelos a los que se ven expuestos los jóvenes es la negación de su derecho al estudio y al trabajo sostenible y redituable, y la imposibilidad de realizarse y proyectarse.\n",
      "Esto genera condiciones de pobreza y marginación, y esta pobreza y esta marginación son el mayor caldo de cultivo para que caigan en el círculo del narcotráfico y de la violencia.\n",
      "Ha sido tan pronunciada la decadencia del país en los últimos tiempos que sólo la fortaleza cultural de nuestro pueblo permite explicar por qué tanto aguante y por qué tanta resistencia.\n",
      "Hemos padecido no sólo crisis económica y colapso del bienestar social, sino corrupción política, inseguridad y violencia.\n",
      "Según nuestro diagnóstico, el problema se originó a partir de la aplicación del llamado modelo neoliberal que no ha dado resultados ni siquiera en términos cuantitativos.\n",
      "Baste señalar que en treinta años, descontando el aumento de la población, el crecimiento real de la economía ha sido de cero, en 30 años no ha crecido la economía en nuestro país. Pero quizá lo más perjudicial es que dicha política económica ha desatado la corrupción más colosal y dañina que se haya registrado en la historia de nuestro país.\n",
      "Desde el gobierno de Carlos Salinas se optó, de manera absurda, por abandonar el campo y acabar con la industria nacional, el Estado dejó de promover el desarrollo.\n",
      "Los defensores del actual modelo económico hablan de modernidad, pero no dicen que esa modernidad es sinónimo de economía de élites, y que se excluyente a las mayorías y sólo es provechoso ese modelo para una pequeña minoría.\n",
      "Suelen poner como ejemplo de sus supuestos logros los beneficios del Tratado de Libre Comercio que, sin ser del todo inexistentes, porque no podemos negar que en algunas ramas de la economía han habido beneficios con el Tratado de Libre Comercio, pero con un costo altísimo y en términos generales con muy pocos resultados.\n",
      "Pueden argumentar lo que quieran, pero no se puede hablar del éxito del modelo exportador cuando la economía ha permanecido estancada durante tres décadas. El fomento de una economía para las élites no significa ni desarrollo ni creación de empleos y esto es lo que ha quedado de manifestó en nuestro país.\n",
      "En otras palabras, si fuera cierto que el Tratado de Libre Comercio de América del Norte (TLCAN) sólo beneficia a México, nuestra economía no permanecería estancada ni habría migración.\n",
      "Un dato importante: En 1970, cuando las exportaciones de México sólo representaban 8 por ciento del Producto Interno Bruto, el crecimiento de la economía era del 6.5 por ciento, mientras que ahora, cuando las exportaciones significan 36 por ciento del Producto Interno Bruto, la economía sólo crece en 2.3 por ciento.\n",
      "No somos, por tanto, un país que esté progresando gracias a la apertura externa, pues, aunque exportamos mucho en valor, también importamos la mayor parte de lo que consumimos; nuestras exportaciones no generan desarrollo tecnológico propio y en estas décadas hemos experimentado un severo retroceso en materia de soberanía nacional.\n",
      "Estamos hablando, hacemos referencia a lo que supuestamente ha funcionado mejor, pero a pesar de ello la situación económica de la gente en Ciudad Juárez y en todo México es peor que la existente hace treinta años.\n",
      "Por ejemplo: un trabajador de la industria automotriz en Ciudad Juárez gana 2 dólares con 47 centavos por hora, mientras que en Estados Unidos un obrero con la misma especialidad recibe 29 dólares por hora, es decir, diez veces más.\n",
      "Pero lo más injusto e indignante ha sido la pérdida del poder adquisitivo del salario mínimo.\n",
      "El más reciente reporte del Centro de Análisis Multidisciplinario de la Facultad de Economía de la UNAM afirma que hace 30 años un salario mínimo alcanzaba para comprar cincuenta y un kilos de tortilla, y ahora sólo alcanza para adquirir seis kilos de tortilla.\n",
      "De acuerdo con los estudios de este centro académico, la pérdida de poder adquisitivo del salario en éste periodo neoliberal llega al 80 por ciento (a octubre de 2017). De ese tamaño ha sido el empobrecimiento del pueblo durante el periodo neoliberal.\n",
      "Y en forma paralela a esta infame política económica, la corrupción campea con toda impunidad en la administración pública. Nunca antes se había padecido de tanta corrupción como ahora, nunca en la historia de México desde la época de La Colonia, se había padecido de tanta corrupción.\n",
      "Podrán acusarme de exagerado o extremista e incluso podrían argumentar que siempre ha sucedido lo mismo, pero la descomunal deshonestidad del periodo neoliberal, de 1983 a la fecha, supera por mucho lo antes visto y no tiene precedente.\n",
      "En la época post-revolucionaria, de los años 30 a los 80 del siglo pasado, los gobernantes no se atrevían, no se atrevieron a privatizar las tierras ejidales, los bosques, las playas, los ferrocarriles, las minas, la industria eléctrica, ni mucho menos a enajenar el petróleo; sin embargo ahora, en estos aciagos tiempos del neoliberalismo, los gobernantes se han dedicado, como en el Porfiriato, a concesionar el territorio y a transferir empresas y bienes públicos, e incluso funciones del Estado, a particulares nacionales y extranjeros.\n",
      "En estos tiempos, el sistema en su conjunto, ha operado para la corrupción, la corrupción se ha institucionalizado. No se trata, como antes, de actos delictivos individuales o de una red de complicidades para hacer negocios al amparo de los cargos públicos; ahora, la corrupción se ha convertido en la principal función del poder político y el encubrimiento, la impunidad y la complicidad son el principal aglutinante de los grupos que se han sucedido en el ejercicio del gobierno, sean del PRI o sean del PAN, es lo que yo llamo la mafia del poder.\n",
      "Por eso, nuestra propuesta tiene como principal propósito, que se oiga bien y que se oiga lejos, el principal propósito de nuestra lucha: es desterrar la corrupción y la impunidad, cortar de tajo con la corrupción y la impunidad.\n",
      "Hace relativamente poco, un migrante poblano, un hombre mayor en San Quintín, Baja California, se aceró y me dijo: “licenciado así como Juárez separó la iglesia del Estado, usted busque, procure, con el apoyo del pueblo, separar al poder económico del poder político”. Esta es la nueva reforma que el gobierno deje de ser un comité al servicio de una minoría rapaz.\n",
      "Que el gobierno represente a todas y a todos, a pobres y a ricos, a mayorías y minorías, a creyentes y a no creyentes, a pobladores del campo y de la ciudad, a mexicanos de todas las clases sociales, de todas las preferencias sexuales y de todas las culturas.\n",
      "El nuevo gobierno democrático dará el ejemplo del combate a la corrupción; los servidores públicos serán mujeres y hombres de inobjetable honestidad. Ninguna persona con antecedentes de enriquecimiento ilícito será invitada a participar en la función pública. Llegar al gobierno no significará la obtención de un privilegio o la oportunidad de hacer negocios al amparo del poder.\n",
      "El gobierno dejará de ser una fábrica de nuevos ricos y cambiará por completo la imagen que el mundo tiene de nuestro país.\n",
      "Además, hay suficientes razones y datos contundentes para sostener que acabar con la corrupción nos permitirá ahorrar cuando menos el 10 por ciento del presupuesto público, es decir, más de quinientos mil millones de pesos al año.\n",
      "La fórmula que proponemos consiste en acabar con la corrupción para ahorrar esos 500 mil millones de pesos, y también cortar el copete de privilegios que hay en el gobierno, se van a terminar los sueldos de 600 mil pesos mensuales para los altos funcionarios públicos, vamos a bajar de los sueldos de los de arriba, porque vamos a aumentar los sueldos de los de abajo.\n",
      "Van a ganar más: los maestros, las enfermeras, los médicos, los policías, los soldados, los marinos, va aumentar el salario de los trabajadores, van a aumentar el jornal de los campesinos.\n",
      "La fórmula consiste en acabar con la corrupción, acabar con la impunidad, a acabar con fueros y privilegios. La primera iniciativa que voy a enviar al Congreso va a consistir en reformar el artículo 108 de la Constitución para que el presidente en funciones pueda ser juzgado por delitos de corrupción, se acaba la impunidad, se acaban los privilegios.\n",
      "Desde el primero de diciembre de este año dispondremos de mayor inversión pública, la cual será utilizada como capital semilla para fomentar la inversión privada y para destinar presupuestos significativos a la educación, aquí abro un paréntesis para decirles a las maestras, a los maestros que vamos a cumplir en compromiso se va a cancelar la mal llamada reforma educativa o para que nadie se vaya a espantar, lo voy a decir de otra manera, más suave, nos vamos a poner de acuerdo con los maestros, con los padres de familia, vamos a elaborar un plan educativo para mejorar la calidad de la enseñanza sin afectar los derechos laborales de los maestros.\n",
      "Vamos a destinar presupuesto suficiente a la cultura, a la producción, a la creación de empleos, vamos a destinar presupuesto suficiente para el fomento al campo, vamos a rescatar al campo y a sus pobladores del abandono en que se encuentran.\n",
      "Va a haber financiamiento para programas de desarrollo regional de largo alcance, para la cobertura de necesidades básicas de la población.\n",
      "El ideal que tenemos, el sueño que tenemos es que se establezca en el país un estado de bienestar, que el mexicano tenga seguridad, tenga protección desde que nace hasta que muere, desde la cuna hasta la tumba.\n",
      "Vamos a apoyar actividades recreativas, vamos a apoyar el deporte por su importancia, no solo para el disfrute en lo personal, sino también como medicina preventiva, el deporte de alto rendimiento y el deporte profesional.\n",
      "Vamos a atender de manera especial, lo primero que se va a hacer es darle la mano a todos los damnificados de los sismos.\n",
      "Vamos a impulsar el desarrollo regional de sur a norte, con la puesta en práctica de proyectos para retener a la población en sus pueblos, muchos de ustedes vienen del sureste, del centro del país, de otros estados, porque allá no han habido oportunidades y han tenido que salir a buscarse la vida acá, a la frontera, ahora vamos a iniciar nuestro desarrollo del sur al norte del país, del Suchiate hasta El Bravo.\n",
      "Vamos a empezar sembrando en el sureste un millón de hectáreas de árboles frutales y maderables, se van a crear 400 mil empleos en ejidos, en pequeñas propiedades.\n",
      "Vamos también a impulsar mucho el turismo en el Caribe y en la región maya, se va a construir un tren rápido de Cancún-Tulum-Calakmul-Palenque para que se conozca la importancia cultural de nuestro país y de esta manera se impulsen las actividades relacionadas con el turismo.\n",
      "Vamos también a impulsar un proyecto en el Istmo de Tehuantepec, vamos a rehabilitar el puerto de Salina Cruz que está en el Pacífico y el puerto de Coatzacoalcos en el Golfo de México, se van a rehabilitar los dos puertos, se va a construir  en esa franja que es la más angosta de todo el territorio nacional, se va a construir un tren para carga de contenedores para unir a los países de Asia con la Costa Este de Estados Unidos, y en toda esa franja se va a dar mucho trabajo para que los tabasqueños, chiapanecos, oaxaqueños no tengan que venirse a buscarse la vida acá, sino que tengan trabajo allá, en sus pueblos.\n",
      "Vamos a construir dos pistas en la base aérea militar de Santa Lucía para resolver el problema de la saturación del actual aeropuerto de la Ciudad de México. Dicho de otra forma y con más claridad, se suspenderá la construcción del nuevo aeropuerto en el Lago de Texcoco y, con ello, ahorraremos más de 200 mil millones de pesos.\n",
      "Este proceso se llevará a cabo con estricto apego a la ley, buscando siempre el acuerdo con las compañías a las cuales se les han adjudicado contratos; garantizando el gobierno el pago a los bonos que se han emitido y protegiendo las inversiones de las Afores; es decir, se actuará con legalidad, se dará certidumbre, y no se va a permitir la corrupción.\n",
      "Nos estamos comprometiendo a que habrá cobertura de internet en todo el país y será gratuito el internet en caminos, en espacios públicos, en escuelas y en hospitales. Para que se tenga una idea, hoy solo el 25 por ciento del territorio nacional está comunicado con telefonía móvil, solo en el 25 por ciento en el territorio se puede uno comunicar por teléfono celular, el 75 por ciento del territorio de México no tiene comunicación, vamos a resolver este problema, todo el país va a estar comunicado, entonces así México va a tener comunicación por teléfono y por internet.\n",
      "En todo el país también se fijarán precios de garantía para los productos del campo, se le va a pagar bien al productor, no como ahora que el productor tiene que vender barato lo que produce y comprar caro todo lo que necesita.\n",
      "Vamos a pagarle bien a los productores para detener la migración y lograr la autosuficiencia alimentaria; la tendencia la puedo resumir en unas cuantas palabras, la política que se va a seguir: será fortalecer el mercado interno, es decir, la economía nacional y se va a producir en México lo que consumimos.\n",
      "También se impulsará la industria de la construcción para que haya empleos, se ejecutarán las obras públicas necesarias como caminos, vamos a pavimentar de concreto los 300 caminos de Oaxaca para comunicar a cabeceras municipales, ese estado tiene 570 municipios y hay 300 municipios que tienen caminos de terracería, van a ser pavimentados y no se va a hacer con maquinaria, se va a ser con el uso intensivo de mano de obra, para que la inversión quede en las comunidades, se paguen buenos salarios y al mismo tiempo sean estas obras que son en beneficio de los pueblos, de las comunidades.\n",
      "Así también vamos a construir hospitales, escuelas, vivienda, la introducción de servicios, el programa de transición de energías limpias y vamos a cuidar nuestro medio ambiente.\n",
      "El nuevo gobierno buscará la modernidad, pero desde abajo y para todos. Habrá un crecimiento económico horizontal, es decir, en todo el país, no sólo en pequeños islotes, como ha venido sucediendo en los últimos 30 años.\n",
      "Fomentaremos el desarrollo, aquí en la frontera, a lo largo de los 3 mil 185 kilómetros de frontera con Estados Unidos, aquí se creará, a lo largo de los 3 mil kilómetros de frontera una zona libre o franca para promover la inversión, el desarrollo productivo y tecnológico, así como la creación de empleos.\n",
      "Esta será, aquí en la frontera, será la última cortina para retener a los mexicanos y que no se vean en la necesidad de pasar al otro lado, que no se vean en la necesidad de ir a buscarse la vida al otro lado de la frontera.\n",
      "Aquí en esta franca de 3 mil kilómetros por 20, 30 kilómetros de ancho de  manera puntual lo expreso así:\n",
      "Se trata de un asunto de justicia y sin riesgos de inflación porque habrá, como lo hemos dicho, reducción de impuestos y de precios de energía, de tal manera que, al subir el salario y bajar otros precios, el nivel general de precios quedará igual o, incluso, podría bajar, no es aumentar el salario sin tomar en consideración otros factores, vamos a bajar los impuestos para que se aumente el salario y se reactive la economía en la franja fronteriza.\n",
      "Se va a introducir de agua potable, drenaje, pavimentación de calles, va a haber construcción de vivienda, guarderías, unidades deportivas, espacios culturales, escuelas, hospitales y otras obras y servicios.\n",
      "Añado que en todo el país y desde luego aquí en Ciudad Juárez, desde finales de este año iniciará el programa de los jóvenes: “Jóvenes construyendo el futuro”, a todos los jóvenes se les va a garantizar el derecho al estudio y el derecho al trabajo. También hago el compromiso que a finales de este año aumentará al doble la pensión a los adultos mayores y agrego todos los discapacitados pobres tendrán también el derecho a una pensión igual que la de los adultos mayores.\n",
      "Amigas y amigos:\n",
      "No vamos a descartar la posibilidad de convencer a Donald Trump de su equivocada política exterior y, en particular, de su despectiva actitud contra los mexicanos.\n",
      "Vamos a ser muy respetuosos del gobierno de Estados Unidos, pero vamos a exigir también respeto a los mexicanos, ni México ni su pueblo va a ser piñata de ningún gobierno extranjero.\n",
      "Estamos dispuestos en aras de una buena relación de amistad, estamos dispuestos a poner sobre la mesa, en su momento, nuestro programa de desarrollo para impulsar el crecimiento, generar empleos y garantizar el bienestar y, así, enfrentar de manera conjunta las causas que originan la migración, la inseguridad y la violencia. Reiteramos, que se oiga bien, que se oiga lejos, no es con muros ni con el uso de la fuerza como se resuelven los problemas sociales y los asuntos de seguridad, esos problemas se resuelven con desarrollo y bienestar, la paz y la tranquilidad son frutos de la justicia.\n",
      "También expreso, con toda claridad, que no estamos en contra del Tratado de Libre Comercio con Estados Unidos y Canadá. Sin embargo, consideramos que  sería conveniente que la firma de los nuevos acuerdos se realizará luego de las elecciones presidenciales del primero de julio, para que haya equidad y se busquen consensos, no afectar a sectores productivos de México e incluir en esos acuerdos asuntos importantes como la definición de salarios y el tema migratorio.\n",
      "El nuevo gobierno democrático mantendrá siempre una actitud respetuosa hacia el gobierno de Estados Unidos, pero haremos valer nuestra autoridad soberana.\n",
      "Defenderemos el derecho de nuestros connacionales a ganarse la vida en cualquier lugar del mundo con su trabajo honrado. Adelanto que en poco tiempo los 50 consulados de México en Estados Unidos se convertirán en procuradurías para la defensa de nuestros paisanos migrantes; para efecto práctico, se convertirán en auténticas defensorías al servicio de los migrantes.\n",
      "Insisto: buscaremos establecer con Estados Unidos una relación bilateral fincada en la cooperación para el desarrollo y el respeto mutuo. Protegeremos a los migrantes pero, al mismo tiempo, aplicaremos una política en nuestro país generadora de empleos que garantice a los mexicanos trabajo, salarios justos y bienestar en sus lugares de origen, donde están sus familiares, sus costumbres y su cultura.\n",
      "El sueño que me inspira y quiero hacer realidad es que México se convierta en una potencia y que sus habitantes sólo salgan de sus pueblos por gusto y no por necesidad. Entonces, cuando llegue ese día, entonces, pronto, muy pronto, ninguna amenaza, ningún muro, ninguna actitud prepotente de ningún gobierno extranjero podrá impedir que podamos trabajar y ser felices en nuestra querida patria.\n",
      "Amigas y amigos:\n",
      "Estoy confiado que la crisis nacional está por terminar y que nada podrá opacar de manera perdurable el nombre de México ni impedir que triunfe la causa de la justicia. Nuestra nación, que tanto ha sufrido, saldrá adelante, como ha pasado en otros tiempos de adversidad. La cultura y la cohesión social de nuestro pueblo nos ha permitido, no olvidemos, sobrevivir y sobreponernos a todas las calamidades. México, nuestro gran país, ha desafiado, a lo largo de su historia, hambrunas e inundaciones, guerras, invasiones y viles zarpazos a su territorio.\n",
      "Pero siempre México se ha levantado y ha superado los daños de epidemias y temblores, ha enfrentado miserias públicas, malos gobernantes, saqueos monumentales, pero la profecía de los antiguos poetas es real y verdadera:  Mientras exista el mundo, decían los antiguos poetas mexicanos, mientras exista el mundo nunca terminará, no acabará la fama y la gloria de nuestro México Temoanchan, Yokotan, Potonchan, Tollán, Caxcan, Colliman, Aztlán, de nuestro México Tenochtitlán.\n",
      "Amigas y amigos:\n",
      "En tiempos de tristezas y decepción, estos tiempos de sufrimiento y en estos tiempos aciagos, hay también una gran esperanza, un ánimo que despierta el entusiasmo, que despierta el corazón.\n",
      "Puede ser un ideal, una utopía, algo inalcanzable, pero ya somos muchos, aquí ustedes que están aguantando el sol y millones de mexicanas más quienes queremos la paz con justicia y dignidad, el desarrollo sustentable, el imperio de la legalidad, el bienestar, la vida buena.\n",
      "Hace mucho tiempo que no existía un entusiasmo como el que se está viviendo en la actualidad, ante la inminencia de un cambio de régimen, ante la cercanía de una transformación mayor; en muchas décadas no habíamos tenido al alcance de la mano, como ahora, la construcción o la reconstrucción de nuestra patria. Esa es la buena nueva. Estamos a punto de exclamar de manera colectiva, como no se había escuchado el grito, en los últimos cien años, con toda nuestra alegría, un triunfante: ¡Viva México!, ¡Viva México!, ¡Viva México!\n",
      "ªªªªªªªªªªª\n"
     ]
    }
   ],
   "source": [
    "fecha_actual = FECHA_INICIO\n",
    "fecha_actual += UN_DIA*2\n",
    "while fecha_actual <= FECHA_FIN:\n",
    "    ruta_actual = obtener_ruta(fecha_actual)\n",
    "    driver.get(ruta_actual)\n",
    "    content = driver.page_source\n",
    "    soup = BeautifulSoup(content)\n",
    "    # Buscamos todos los artículos con clase boletin\n",
    "    for soup_articulo in soup.findAll('article', attrs={'class':'category-boletines'}):\n",
    "        articulo = {\n",
    "            'fuente' : '',\n",
    "            'encabezado' : '',\n",
    "            'sumarios' : [],\n",
    "            'contenido' : [],\n",
    "        }\n",
    "        soup_encabezado = soup_articulo.find('h2', attrs={'class':'entry-title'})\n",
    "        articulo['encabezado'] = soup_encabezado.a.string\n",
    "        articulo['fuente'] = soup_encabezado.a.attrs['href']\n",
    "        soup_content = soup_articulo.find('div', attrs={'class':'entry-content'})\n",
    "        for soup_p in soup_content.findAll('p'):\n",
    "            contenido = soup_p.string if soup_p.string else \"\"\n",
    "            if( len(contenido) < 3 ):\n",
    "                contenido = \" \".join([child.string for child in soup_p.children if child.string])\n",
    "            if( len(contenido) >= 3 ):\n",
    "                articulo['contenido'].append(contenido)\n",
    "    fecha_actual += UN_DIA\n",
    "    break"
   ]
  },
  {
   "cell_type": "code",
   "execution_count": 48,
   "metadata": {},
   "outputs": [
    {
     "data": {
      "text/plain": [
       "{'fuente': 'https://lopezobrador.org.mx/2018/04/01/discurso-de-amlo-al-iniciar-su-campana-en-ciudad-juarez-chihuahua/',\n",
       " 'encabezado': 'Discurso AMLO al iniciar campaña en Ciudad Juárez, Chihuahua',\n",
       " 'sumarios': [],\n",
       " 'contenido': ['\\xa0  Boletín campaña-001',\n",
       "  'Descargar audio\\xa0 discurso AMLO',\n",
       "  'Ciudad Juárez, Chihuahua, 01 de abril de 2018.-  \\xa0 Palabras de Andrés Manuel López Obrador, candidato a la Presidencia de la República por la Coalición: ”Juntos haremos historia”, en su inicio de campaña en Ciudad Juárez, Chihuahua.',\n",
       "  'Amigas y amigos:',\n",
       "  'Iniciamos la campaña, aquí donde comienza nuestra patria, en Ciudad Juárez. iniciamos aquí la campaña como homenaje a este legendario Paso del Norte, donde se refugió y resistió Juárez y su gabinete, en los tiempos de la lucha contra los conservadores y la Invasión Francesa.',\n",
       "  'Medio siglo después, en mayo de 1911, aquí también tuvo lugar la batalla decisiva, en la cual los revolucionarios, encabezados por Francisco I. Madero, con el apoyo militar de Pascual Orozco y Francisco Villa, derrotaron al ejército federal para propiciar la caída del régimen dictatorial porfirista.',\n",
       "  'De modo que Ciudad Juárez, antes Paso del Norte, ha sido testigo de hechos históricos trascendentes y punto de partida de importantes transformaciones. Por eso, decidimos iniciar nuestra campaña aquí en este sitio, por demás emblemático, aquí al pie de la estatua del mejor presidente que ha habido en la historia de nuestro país, Benito Juárez García.',\n",
       "  'Ciudad Juárez representa el pasado glorioso, también el presente de los grandes y graves problemas nacionales y también aquí en Ciudad Juárez, como todo México, se está expresando, manifestando la posibilidad de lograr juntos un mejor porvenir para nuestro pueblo y nuestra nación.',\n",
       "  'La situación actual en Ciudad Juárez es muy parecida a lo que sucede en el resto del país. Antes había más diferencias entre el norte y el sur de México.',\n",
       "  'Hasta hace poco, el crecimiento económico en la frontera era superior a la media nacional y por lo mismo había mayores oportunidades de empleos en toda esta región fronteriza.',\n",
       "  'A partir de la recesión económica producida en 2008 en los Estados Unidos, Ciudad Juárez pasó a ser uno de los centros urbanos con mayor desempleo en el país.',\n",
       "  'Aparejada a esa crisis económica, ha venido como rémora la crisis de bienestar social, que se sumó a la inseguridad y la violencia que ya venían de tiempo atrás.',\n",
       "  'Aquí empezó el horror de los feminicidios que, desgraciadamente, siguen ocurriendo en todo el país y con mayor incidencia en las colonias populares de las grandes ciudades de nuestra República.',\n",
       "  'Hoy, las multiplicadas amenazas a la integridad y a la vida acechan en forma particularmente devastadora a las mujeres y a los jóvenes.',\n",
       "  'No fue casual que el papa Francisco decidiera venir a Ciudad Juárez hace más de dos años para alzar la voz y sostener que uno de los principales flagelos a los que se ven expuestos los jóvenes es la negación de su derecho al estudio y al trabajo sostenible y redituable, y la imposibilidad de realizarse y proyectarse.',\n",
       "  'Esto genera condiciones de pobreza y marginación, y esta pobreza y esta marginación son el mayor caldo de cultivo para que caigan en el círculo del narcotráfico y de la violencia.',\n",
       "  'Ha sido tan pronunciada la decadencia del país en los últimos tiempos que sólo la fortaleza cultural de nuestro pueblo permite explicar por qué tanto aguante y por qué tanta resistencia.',\n",
       "  'Hemos padecido no sólo crisis económica y colapso del bienestar social, sino corrupción política, inseguridad y violencia.',\n",
       "  'Según nuestro diagnóstico, el problema se originó a partir de la aplicación del llamado modelo neoliberal que no ha dado resultados ni siquiera en términos cuantitativos.',\n",
       "  'Baste señalar que en treinta años, descontando el aumento de la población, el crecimiento real de la economía ha sido de cero, en 30 años no ha crecido la economía en nuestro país. Pero quizá lo más perjudicial es que dicha política económica ha desatado la corrupción más colosal y dañina que se haya registrado en la historia de nuestro país.',\n",
       "  'Desde el gobierno de Carlos Salinas se optó, de manera absurda, por abandonar el campo y acabar con la industria nacional, el Estado dejó de promover el desarrollo.',\n",
       "  'Los defensores del actual modelo económico hablan de modernidad, pero no dicen que esa modernidad es sinónimo de economía de élites, y que se excluyente a las mayorías y sólo es provechoso ese modelo para una pequeña minoría.',\n",
       "  'Suelen poner como ejemplo de sus supuestos logros los beneficios del Tratado de Libre Comercio que, sin ser del todo inexistentes, porque no podemos negar que en algunas ramas de la economía han habido beneficios con el Tratado de Libre Comercio, pero con un costo altísimo y en términos generales con muy pocos resultados.',\n",
       "  'Pueden argumentar lo que quieran, pero no se puede hablar del éxito del modelo exportador cuando la economía ha permanecido estancada durante tres décadas. El fomento de una economía para las élites no significa ni desarrollo ni creación de empleos y esto es lo que ha quedado de manifestó en nuestro país.',\n",
       "  'En otras palabras, si fuera cierto que el Tratado de Libre Comercio de América del Norte (TLCAN) sólo beneficia a México, nuestra economía no permanecería estancada ni habría migración.',\n",
       "  'Un dato importante: En 1970, cuando las exportaciones de México sólo representaban 8 por ciento del Producto Interno Bruto, el crecimiento de la economía era del 6.5 por ciento, mientras que ahora, cuando las exportaciones significan 36 por ciento del Producto Interno Bruto, la economía sólo crece en 2.3 por ciento.',\n",
       "  'No somos, por tanto, un país que esté progresando gracias a la apertura externa, pues, aunque exportamos mucho en valor, también importamos la mayor parte de lo que consumimos; nuestras exportaciones no generan desarrollo tecnológico propio y en estas décadas hemos experimentado un severo retroceso en materia de soberanía nacional.',\n",
       "  'Estamos hablando, hacemos referencia a lo que supuestamente ha funcionado mejor, pero a pesar de ello la situación económica de la gente en Ciudad Juárez y en todo México es peor que la existente hace treinta años.',\n",
       "  'Por ejemplo: un trabajador de la industria automotriz en Ciudad Juárez gana 2 dólares con 47 centavos por hora, mientras que en Estados Unidos un obrero con la misma especialidad recibe 29 dólares por hora, es decir, diez veces más.',\n",
       "  'Pero lo más injusto e indignante ha sido la pérdida del poder adquisitivo del salario mínimo.',\n",
       "  'El más reciente reporte del Centro de Análisis Multidisciplinario de la Facultad de Economía de la UNAM afirma que hace 30 años un salario mínimo alcanzaba para comprar cincuenta y un kilos de tortilla, y ahora sólo alcanza para adquirir seis kilos de tortilla.',\n",
       "  'De acuerdo con los estudios de este centro académico, la pérdida de poder adquisitivo del salario en éste periodo neoliberal llega al 80 por ciento (a octubre de 2017). De ese tamaño ha sido el empobrecimiento del pueblo durante el periodo neoliberal.',\n",
       "  'Y en forma paralela a esta infame política económica, la corrupción campea con toda impunidad en la administración pública. Nunca antes se había padecido de tanta corrupción como ahora, nunca en la historia de México desde la época de La Colonia, se había padecido de tanta corrupción.',\n",
       "  'Podrán acusarme de exagerado o extremista e incluso podrían argumentar que siempre ha sucedido lo mismo, pero la descomunal deshonestidad del periodo neoliberal, de 1983 a la fecha, supera por mucho lo antes visto y no tiene precedente.',\n",
       "  'En la época post-revolucionaria, de los años 30 a los 80 del siglo pasado, los gobernantes no se atrevían, no se atrevieron a privatizar las tierras ejidales, los bosques, las playas, los ferrocarriles, las minas, la industria eléctrica, ni mucho menos a enajenar el petróleo; sin embargo ahora, en estos aciagos tiempos del neoliberalismo, los gobernantes se han dedicado, como en el Porfiriato, a concesionar el territorio y a transferir empresas y bienes públicos, e incluso funciones del Estado, a particulares nacionales y extranjeros.',\n",
       "  'En estos tiempos, el sistema en su conjunto, ha operado para la corrupción, la corrupción se ha institucionalizado. No se trata, como antes, de actos delictivos individuales o de una red de complicidades para hacer negocios al amparo de los cargos públicos; ahora, la corrupción se ha convertido en la principal función del poder político y el encubrimiento, la impunidad y la complicidad son el principal aglutinante de los grupos que se han sucedido en el ejercicio del gobierno, sean del PRI o sean del PAN, es lo que yo llamo la mafia del poder.',\n",
       "  'Por eso, nuestra propuesta tiene como principal propósito, que se oiga bien y que se oiga lejos, el principal propósito de nuestra lucha: es desterrar la corrupción y la impunidad, cortar de tajo con la corrupción y la impunidad.',\n",
       "  'Hace relativamente poco, un migrante poblano, un hombre mayor en San Quintín, Baja California, se aceró y me dijo: “licenciado así como Juárez separó la iglesia del Estado, usted busque, procure, con el apoyo del pueblo, separar al poder económico del poder político”. Esta es la nueva reforma que el gobierno deje de ser un comité al servicio de una minoría rapaz.',\n",
       "  'Que el gobierno represente a todas y a todos, a pobres y a ricos, a mayorías y minorías, a creyentes y a no creyentes, a pobladores del campo y de la ciudad, a mexicanos de todas las clases sociales, de todas las preferencias sexuales y de todas las culturas.',\n",
       "  'El nuevo gobierno democrático dará el ejemplo del combate a la corrupción; los servidores públicos serán mujeres y hombres de inobjetable honestidad. Ninguna persona con antecedentes de enriquecimiento ilícito será invitada a participar en la función pública. Llegar al gobierno no significará la obtención de un privilegio o la oportunidad de hacer negocios al amparo del poder.',\n",
       "  'El gobierno dejará de ser una fábrica de nuevos ricos y cambiará por completo la imagen que el mundo tiene de nuestro país.',\n",
       "  'Además, hay suficientes razones y datos contundentes para sostener que acabar con la corrupción nos permitirá ahorrar cuando menos el 10 por ciento del presupuesto público, es decir, más de quinientos mil millones de pesos al año.',\n",
       "  'La fórmula que proponemos consiste en acabar con la corrupción para ahorrar esos 500 mil millones de pesos, y también cortar el copete de privilegios que hay en el gobierno, se van a terminar los sueldos de 600 mil pesos mensuales para los altos funcionarios públicos, vamos a bajar de los sueldos de los de arriba, porque vamos a aumentar los sueldos de los de abajo.',\n",
       "  'Van a ganar más: los maestros, las enfermeras, los médicos, los policías, los soldados, los marinos, va aumentar el salario de los trabajadores, van a aumentar el jornal de los campesinos.',\n",
       "  'La fórmula consiste en acabar con la corrupción, acabar con la impunidad, a acabar con fueros y privilegios. La primera iniciativa que voy a enviar al Congreso va a consistir en reformar el artículo 108 de la Constitución para que el presidente en funciones pueda ser juzgado por delitos de corrupción, se acaba la impunidad, se acaban los privilegios.',\n",
       "  'Desde el primero de diciembre de este año dispondremos de mayor inversión pública, la cual será utilizada como capital semilla para fomentar la inversión privada y para destinar presupuestos significativos a la educación, aquí abro un paréntesis para decirles a las maestras, a los maestros que vamos a cumplir en compromiso se va a cancelar la mal llamada reforma educativa o para que nadie se vaya a espantar, lo voy a decir de otra manera, más suave, nos vamos a poner de acuerdo con los maestros, con los padres de familia, vamos a elaborar un plan educativo para mejorar la calidad de la enseñanza sin afectar los derechos laborales de los maestros.',\n",
       "  'Vamos a destinar presupuesto suficiente a la cultura, a la producción, a la creación de empleos, vamos a destinar presupuesto suficiente para el fomento al campo, vamos a rescatar al campo y a sus pobladores del abandono en que se encuentran.',\n",
       "  'Va a haber financiamiento para programas de desarrollo regional de largo alcance, para la cobertura de necesidades básicas de la población.',\n",
       "  'El ideal que tenemos, el sueño que tenemos es que se establezca en el país un estado de bienestar, que el mexicano tenga seguridad, tenga protección desde que nace hasta que muere, desde la cuna hasta la tumba.',\n",
       "  'Vamos a apoyar actividades recreativas, vamos a apoyar el deporte por su importancia, no solo para el disfrute en lo personal, sino también como medicina preventiva, el deporte de alto rendimiento y el deporte profesional.',\n",
       "  'Vamos a atender de manera especial, lo primero que se va a hacer es darle la mano a todos los damnificados de los sismos.',\n",
       "  'Vamos a impulsar el desarrollo regional de sur a norte, con la puesta en práctica de proyectos para retener a la población en sus pueblos, muchos de ustedes vienen del sureste, del centro del país, de otros estados, porque allá no han habido oportunidades y han tenido que salir a buscarse la vida acá, a la frontera, ahora vamos a iniciar nuestro desarrollo del sur al norte del país, del Suchiate hasta El Bravo.',\n",
       "  'Vamos a empezar sembrando en el sureste un millón de hectáreas de árboles frutales y maderables, se van a crear 400 mil empleos en ejidos, en pequeñas propiedades.',\n",
       "  'Vamos también a impulsar mucho el turismo en el Caribe y en la región maya, se va a construir un tren rápido de Cancún-Tulum-Calakmul-Palenque para que se conozca la importancia cultural de nuestro país y de esta manera se impulsen las actividades relacionadas con el turismo.',\n",
       "  'Vamos también a impulsar un proyecto en el Istmo de Tehuantepec, vamos a rehabilitar el puerto de Salina Cruz que está en el Pacífico y el puerto de Coatzacoalcos en el Golfo de México, se van a rehabilitar los dos puertos, se va a construir \\xa0en esa franja que es la más angosta de todo el territorio nacional, se va a construir un tren para carga de contenedores para unir a los países de Asia con la Costa Este de Estados Unidos, y en toda esa franja se va a dar mucho trabajo para que los tabasqueños, chiapanecos, oaxaqueños no tengan que venirse a buscarse la vida acá, sino que tengan trabajo allá, en sus pueblos.',\n",
       "  'Vamos a construir dos pistas en la base aérea militar de Santa Lucía para resolver el problema de la saturación del actual aeropuerto de la Ciudad de México. Dicho de otra forma y con más claridad, se suspenderá la construcción del nuevo aeropuerto en el Lago de Texcoco y, con ello, ahorraremos más de 200 mil millones de pesos.',\n",
       "  'Este proceso se llevará a cabo con estricto apego a la ley, buscando siempre el acuerdo con las compañías a las cuales se les han adjudicado contratos; garantizando el gobierno el pago a los bonos que se han emitido y protegiendo las inversiones de las Afores; es decir, se actuará con legalidad, se dará certidumbre, y no se va a permitir la corrupción.',\n",
       "  'Nos estamos comprometiendo a que habrá cobertura de internet en todo el país y será gratuito el internet en caminos, en espacios públicos, en escuelas y en hospitales. Para que se tenga una idea, hoy solo el 25 por ciento del territorio nacional está comunicado con telefonía móvil, solo en el 25 por ciento en el territorio se puede uno comunicar por teléfono celular, el 75 por ciento del territorio de México no tiene comunicación, vamos a resolver este problema, todo el país va a estar comunicado, entonces así México va a tener comunicación por teléfono y por internet.',\n",
       "  'En todo el país también se fijarán precios de garantía para los productos del campo, se le va a pagar bien al productor, no como ahora que el productor tiene que vender barato lo que produce y comprar caro todo lo que necesita.',\n",
       "  'Vamos a pagarle bien a los productores para detener la migración y lograr la autosuficiencia alimentaria; la tendencia la puedo resumir en unas cuantas palabras, la política que se va a seguir: será fortalecer el mercado interno, es decir, la economía nacional y se va a producir en México lo que consumimos.',\n",
       "  'También se impulsará la industria de la construcción para que haya empleos, se ejecutarán las obras públicas necesarias como caminos, vamos a pavimentar de concreto los 300 caminos de Oaxaca para comunicar a cabeceras municipales, ese estado tiene 570 municipios y hay 300 municipios que tienen caminos de terracería, van a ser pavimentados y no se va a hacer con maquinaria, se va a ser con el uso intensivo de mano de obra, para que la inversión quede en las comunidades, se paguen buenos salarios y al mismo tiempo sean estas obras que son en beneficio de los pueblos, de las comunidades.',\n",
       "  'Así también vamos a construir hospitales, escuelas, vivienda, la introducción de servicios, el programa de transición de energías limpias y vamos a cuidar nuestro medio ambiente.',\n",
       "  'El nuevo gobierno buscará la modernidad, pero desde abajo y para todos. Habrá un crecimiento económico horizontal, es decir, en todo el país, no sólo en pequeños islotes, como ha venido sucediendo en los últimos 30 años.',\n",
       "  'Fomentaremos el desarrollo, aquí en la frontera, a lo largo de los 3 mil 185 kilómetros de frontera con Estados Unidos, aquí se creará, a lo largo de los 3 mil kilómetros de frontera una zona libre o franca para promover la inversión, el desarrollo productivo y tecnológico, así como la creación de empleos.',\n",
       "  'Esta será, aquí en la frontera, será la última cortina para retener a los mexicanos y que no se vean en la necesidad de pasar al otro lado, que no se vean en la necesidad de ir a buscarse la vida al otro lado de la frontera.',\n",
       "  'Aquí en esta franca de 3 mil kilómetros por 20, 30 kilómetros de ancho de \\xa0manera puntual lo expreso así:',\n",
       "  'Se trata de un asunto de justicia y sin riesgos de inflación porque habrá, como lo hemos dicho, reducción de impuestos y de precios de energía, de tal manera que, al subir el salario y bajar otros precios, el nivel general de precios quedará igual o, incluso, podría bajar, no es aumentar el salario sin tomar en consideración otros factores, vamos a bajar los impuestos para que se aumente el salario y se reactive la economía en la franja fronteriza.',\n",
       "  'Se va a introducir de agua potable, drenaje, pavimentación de calles, va a haber construcción de vivienda, guarderías, unidades deportivas, espacios culturales, escuelas, hospitales y otras obras y servicios.',\n",
       "  'Añado que en todo el país y desde luego aquí en Ciudad Juárez, desde finales de este año iniciará el programa de los jóvenes: “Jóvenes construyendo el futuro”, a todos los jóvenes se les va a garantizar el derecho al estudio y el derecho al trabajo. También hago el compromiso que a finales de este año aumentará al doble la pensión a los adultos mayores y agrego todos los discapacitados pobres tendrán también el derecho a una pensión igual que la de los adultos mayores.',\n",
       "  'Amigas y amigos:',\n",
       "  'No vamos a descartar la posibilidad de convencer a Donald Trump de su equivocada política exterior y, en particular, de su despectiva actitud contra los mexicanos.',\n",
       "  'Vamos a ser muy respetuosos del gobierno de Estados Unidos, pero vamos a exigir también respeto a los mexicanos, ni México ni su pueblo va a ser piñata de ningún gobierno extranjero.',\n",
       "  'Estamos dispuestos en aras de una buena relación de amistad, estamos dispuestos a poner sobre la mesa, en su momento, nuestro programa de desarrollo para impulsar el crecimiento, generar empleos y garantizar el bienestar y, así, enfrentar de manera conjunta las causas que originan la migración, la inseguridad y la violencia. Reiteramos, que se oiga bien, que se oiga lejos, no es con muros ni con el uso de la fuerza como se resuelven los problemas sociales y los asuntos de seguridad, esos problemas se resuelven con desarrollo y bienestar, la paz y la tranquilidad son frutos de la justicia.',\n",
       "  'También expreso, con toda claridad, que no estamos en contra del Tratado de Libre Comercio con Estados Unidos y Canadá. Sin embargo, consideramos que \\xa0sería conveniente que la firma de los nuevos acuerdos se realizará luego de las elecciones presidenciales del primero de julio, para que haya equidad y se busquen consensos, no afectar a sectores productivos de México e incluir en esos acuerdos asuntos importantes como la definición de salarios y el tema migratorio.',\n",
       "  'El nuevo gobierno democrático mantendrá siempre una actitud respetuosa hacia el gobierno de Estados Unidos, pero haremos valer nuestra autoridad soberana.',\n",
       "  'Defenderemos el derecho de nuestros connacionales a ganarse la vida en cualquier lugar del mundo con su trabajo honrado. Adelanto que en poco tiempo los 50 consulados de México en Estados Unidos se convertirán en procuradurías para la defensa de nuestros paisanos migrantes; para efecto práctico, se convertirán en auténticas defensorías al servicio de los migrantes.',\n",
       "  'Insisto: buscaremos establecer con Estados Unidos una relación bilateral fincada en la cooperación para el desarrollo y el respeto mutuo. Protegeremos a los migrantes pero, al mismo tiempo, aplicaremos una política en nuestro país generadora de empleos que garantice a los mexicanos trabajo, salarios justos y bienestar en sus lugares de origen, donde están sus familiares, sus costumbres y su cultura.',\n",
       "  'El sueño que me inspira y quiero hacer realidad es que México se convierta en una potencia y que sus habitantes sólo salgan de sus pueblos por gusto y no por necesidad. Entonces, cuando llegue ese día, entonces, pronto, muy pronto, ninguna amenaza, ningún muro, ninguna actitud prepotente de ningún gobierno extranjero podrá impedir que podamos trabajar y ser felices en nuestra querida patria.',\n",
       "  'Amigas y amigos:',\n",
       "  'Estoy confiado que la crisis nacional está por terminar y que nada podrá opacar de manera perdurable el nombre de México ni impedir que triunfe la causa de la justicia. Nuestra nación, que tanto ha sufrido, saldrá adelante, como ha pasado en otros tiempos de adversidad. La cultura y la cohesión social de nuestro pueblo nos ha permitido, no olvidemos, sobrevivir y sobreponernos a todas las calamidades. México, nuestro gran país, ha desafiado, a lo largo de su historia, hambrunas e inundaciones, guerras, invasiones y viles zarpazos a su territorio.',\n",
       "  'Pero siempre México se ha levantado y ha superado los daños de epidemias y temblores, ha enfrentado miserias públicas, malos gobernantes, saqueos monumentales, pero la profecía de los antiguos poetas es real y verdadera:\\xa0 Mientras exista el mundo, decían los antiguos poetas mexicanos, mientras exista el mundo nunca terminará, no acabará la fama y la gloria de nuestro México Temoanchan, Yokotan, Potonchan, Tollán, Caxcan, Colliman, Aztlán, de nuestro México Tenochtitlán.',\n",
       "  'Amigas y amigos:',\n",
       "  'En tiempos de tristezas y decepción, estos tiempos de sufrimiento y en estos tiempos aciagos, hay también una gran esperanza, un ánimo que despierta el entusiasmo, que despierta el corazón.',\n",
       "  'Puede ser un ideal, una utopía, algo inalcanzable, pero ya somos muchos, aquí ustedes que están aguantando el sol y millones de mexicanas más quienes queremos la paz con justicia y dignidad, el desarrollo sustentable, el imperio de la legalidad, el bienestar, la vida buena.',\n",
       "  'Hace mucho tiempo que no existía un entusiasmo como el que se está viviendo en la actualidad, ante la inminencia de un cambio de régimen, ante la cercanía de una transformación mayor; en muchas décadas no habíamos tenido al alcance de la mano, como ahora, la construcción o la reconstrucción de nuestra patria. Esa es la buena nueva. Estamos a punto de exclamar de manera colectiva, como no se había escuchado el grito, en los últimos cien años, con toda nuestra alegría, un triunfante: ¡Viva México!, ¡Viva México!, ¡Viva México!',\n",
       "  'ªªªªªªªªªªª']}"
      ]
     },
     "execution_count": 48,
     "metadata": {},
     "output_type": "execute_result"
    }
   ],
   "source": [
    "articulo"
   ]
  },
  {
   "cell_type": "code",
   "execution_count": 35,
   "metadata": {},
   "outputs": [
    {
     "data": {
      "text/plain": [
       "'as djsak s'"
      ]
     },
     "execution_count": 35,
     "metadata": {},
     "output_type": "execute_result"
    }
   ],
   "source": [
    "\" \".join(['as', 'djsak', 's'])"
   ]
  },
  {
   "cell_type": "code",
   "execution_count": null,
   "metadata": {},
   "outputs": [],
   "source": []
  }
 ],
 "metadata": {
  "kernelspec": {
   "display_name": "Python 3.6.8 64-bit",
   "language": "python",
   "name": "python36864bit27614f1e16684611a4b8e8ac168ac791"
  },
  "language_info": {
   "codemirror_mode": {
    "name": "ipython",
    "version": 3
   },
   "file_extension": ".py",
   "mimetype": "text/x-python",
   "name": "python",
   "nbconvert_exporter": "python",
   "pygments_lexer": "ipython3",
   "version": "3.6.8"
  }
 },
 "nbformat": 4,
 "nbformat_minor": 2
}
