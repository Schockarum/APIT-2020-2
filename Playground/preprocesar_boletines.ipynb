{
 "cells": [
  {
   "cell_type": "code",
   "execution_count": 1,
   "metadata": {},
   "outputs": [],
   "source": [
    "import re, os, errno"
   ]
  },
  {
   "cell_type": "code",
   "execution_count": 16,
   "metadata": {},
   "outputs": [],
   "source": [
    "def preprocesar(ruta_dir, archivos):\n",
    "    try:\n",
    "        ruta_folder = os.path.join(ruta_abs, 'preprocesados')\n",
    "        os.makedirs(ruta_folder) # cre\n",
    "    except OSError as e:\n",
    "        if e.errno != errno.EEXIST:\n",
    "            raise\n",
    "    remplazos = [\n",
    "        # Remplazo dobles lineas por un identificador especial\n",
    "        (r'\\n\\n', '<dnl>'),\n",
    "        # Remplazo lineas simples por espacios\n",
    "        (r'\\n', ' '),\n",
    "        # Remplazo identificador de linea doble por linea simple\n",
    "        (r'<dnl>', '\\n'),\n",
    "        # Remplazo caracter &nbsp (\\u00A0) por espacio\n",
    "        (r'\\u00A0', ' '),\n",
    "        # Remplazo tabulador por espacio\n",
    "        (r'\\t', ' '),\n",
    "        # Remplazo repeticiones de más de dos espacios por espacio simple\n",
    "        (r' ( )+', ' '),\n",
    "        # Remplaza cadenas encerradas dentro de doble guión bajo,\n",
    "        # por ejemplo: _Hola_, _cómo estás_\n",
    "        (r'_(?P<word>[^_]+)_', r'\\g<word>'),\n",
    "        # Elimina links a imágenes tipo [C:\\Hola\\Mundo.jpg]\n",
    "        (r'\\[(.+)+\\]', '')\n",
    "    ]\n",
    "    for fname in archivos:\n",
    "        contenido = \"\"\n",
    "        full_path = os.path.join(ruta_abs, fname)\n",
    "#         print('Procesando: ', full_path, ' ...')\n",
    "        with open(full_path, 'r', encoding='utf-8') as f:\n",
    "            contenido = f.read()\n",
    "        for viejo, nuevo in remplazos:\n",
    "            contenido = re.sub(viejo, nuevo, contenido)\n",
    "            with open(os.path.join(ruta_folder, fname), 'w', encoding='utf-8') as wf:\n",
    "                wf.write(contenido)"
   ]
  },
  {
   "cell_type": "code",
   "execution_count": 17,
   "metadata": {},
   "outputs": [],
   "source": [
    "for candidato in ['AMLO', 'JAMK', 'RAC']:\n",
    "    ruta_rel = os.path.join('..', 'Boletines', candidato, 'txt')\n",
    "    ruta_abs = os.path.abspath(ruta_rel)\n",
    "    # Quitamos los directorios\n",
    "    archivos = [\n",
    "        f for f in os.listdir(ruta_abs) \n",
    "        if os.path.isfile(os.path.join(ruta_abs, f))\n",
    "    ] \n",
    "#     print(ruta_abs)\n",
    "    preprocesar(ruta_abs, archivos)"
   ]
  }
 ],
 "metadata": {
  "kernelspec": {
   "display_name": "Python 3",
   "language": "python",
   "name": "python3"
  },
  "language_info": {
   "codemirror_mode": {
    "name": "ipython",
    "version": 3
   },
   "file_extension": ".py",
   "mimetype": "text/x-python",
   "name": "python",
   "nbconvert_exporter": "python",
   "pygments_lexer": "ipython3",
   "version": "3.7.7"
  }
 },
 "nbformat": 4,
 "nbformat_minor": 4
}
