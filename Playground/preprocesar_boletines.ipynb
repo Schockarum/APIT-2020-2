{
 "cells": [
  {
   "cell_type": "code",
   "execution_count": 6,
   "metadata": {},
   "outputs": [],
   "source": [
    "import re, os, errno\n",
    "from tqdm import tqdm"
   ]
  },
  {
   "cell_type": "markdown",
   "metadata": {},
   "source": [
    "## Nombres de boletines"
   ]
  },
  {
   "cell_type": "markdown",
   "metadata": {},
   "source": [
    "### Boletines RAC\n",
    "\n",
    "El formato del nombre d elos archivos era irregular en el tema de los espacios.\n",
    "A veces las fechas tenían un espacio extra entre el guión anterior al año y este (\"- 2018\")."
   ]
  },
  {
   "cell_type": "code",
   "execution_count": 6,
   "metadata": {},
   "outputs": [],
   "source": [
    "ruta_rel = os.path.join('..', 'Boletines', 'RAC', 'txt')\n",
    "ruta_abs = os.path.abspath(ruta_rel)\n",
    "# Quitamos los directorios\n",
    "archivos = [\n",
    "    f for f in os.listdir(ruta_abs) \n",
    "    if os.path.isfile(os.path.join(ruta_abs, f))\n",
    "]\n",
    "\n",
    "for filename in archivos:\n",
    "    archivo_original=os.path.join(ruta_abs, filename)\n",
    "#     print(filename)\n",
    "    remplazo = re.sub(\n",
    "        'COMUNICADO (?P<digit>[\\d]+)', \n",
    "        'COMUNICADO_\\g<digit>', \n",
    "        filename\n",
    "    )\n",
    "    remplazo = re.sub(' ', '', remplazo)\n",
    "    if remplazo != filename:\n",
    "        print(remplazo)\n",
    "        archivo_remplazo=os.path.join(ruta_abs, remplazo)\n",
    "        os.rename(archivo_original, archivo_remplazo)"
   ]
  },
  {
   "cell_type": "markdown",
   "metadata": {},
   "source": [
    "### Boletines JAMK\n",
    "\n",
    "El formato de fecha en el nombre de los boletines a veces marcaba 2019 cuando todos son del 2018."
   ]
  },
  {
   "cell_type": "code",
   "execution_count": 3,
   "metadata": {},
   "outputs": [],
   "source": [
    "ruta_rel = os.path.join('..', 'Boletines', 'JAMK', 'txt')\n",
    "ruta_abs = os.path.abspath(ruta_rel)\n",
    "# Quitamos los directorios\n",
    "archivos = [\n",
    "    f for f in os.listdir(ruta_abs) \n",
    "    if os.path.isfile(os.path.join(ruta_abs, f))\n",
    "]\n",
    "\n",
    "for filename in archivos:\n",
    "    archivo_original=os.path.join(ruta_abs, filename)\n",
    "#     print(filename)\n",
    "    remplazo = re.sub(\n",
    "        '^(?P<digit>[\\d]{4})19', \n",
    "        '\\g<digit>18', \n",
    "        filename\n",
    "    )\n",
    "    if remplazo != filename:\n",
    "        print(remplazo)\n",
    "        archivo_remplazo=os.path.join(ruta_abs, remplazo)\n",
    "        os.rename(archivo_original, archivo_remplazo)"
   ]
  },
  {
   "cell_type": "markdown",
   "metadata": {},
   "source": [
    "## Contenido boletines"
   ]
  },
  {
   "cell_type": "code",
   "execution_count": 34,
   "metadata": {},
   "outputs": [],
   "source": [
    "def preprocesar(ruta_dir, archivos):\n",
    "    try:\n",
    "        ruta_folder = os.path.join(ruta_abs, 'preprocesados')\n",
    "        os.makedirs(ruta_folder) # cre\n",
    "    except OSError as e:\n",
    "        if e.errno != errno.EEXIST:\n",
    "            raise\n",
    "    remplazos = [\n",
    "        # Elimino bigotes al final de archivos de AMLO\n",
    "        (r'\\u00aa(\\u00aa)+', ''),\n",
    "        # Elimino bigotes al final de archivos de JAMK\n",
    "        (r'OO(O)+', ''),\n",
    "        # Elimino bigotes al final de archivos de RAC\n",
    "        (re.escape('**00**'), ''),\n",
    "        (r'\\*\\*(\\*)+', ''),\n",
    "        # Remplaza cadenas encerradas dentro de doble guión bajo,\n",
    "        # por ejemplo: _Hola_, _cómo estás_\n",
    "        (r'_(?P<word>[^_]+)_', r'\\g<word>'),\n",
    "        # Remplazo caracter &nbsp (\\u00A0) y tabuladores (\\t) por espacio\n",
    "        (r'[\\u00A0\\t]', ' '),\n",
    "        # Remplazo repeticiones de más de dos espacios por espacio simple\n",
    "        (r' ( )+', ' '),\n",
    "        # Quito espacios al final e inicio de nuevas líneas\n",
    "        (r'((( )+)\\n)|(\\n(( )+))', '\\n'),\n",
    "        # Remplazo saltos de líneas múltiples por un identificador especial\n",
    "        (r'\\n(\\n)+', '<dnl>'),\n",
    "        # Cambio saltos de linea simples por espacios\n",
    "        (r'\\n', ' '),\n",
    "        # Remplazo identificador de saltos de líneas múltiple por linea simple\n",
    "        (r'<dnl>', '\\n'),\n",
    "        # Elimino nuevas lineas al inicio y fin de archivo\n",
    "        (r'(^( )*)|( )*$', ''),\n",
    "        # Elimina links a imágenes tipo [C:\\Hola\\Mundo.jpg]\n",
    "        (r'\\[(.+)+\\]', ''),\n",
    "        # Elimino tablas al inicio\n",
    "        (r'^\\+.*\\+\\n', ''),\n",
    "        # Quito los puntos que quedaron huéfanos en una sóla línea\n",
    "        (r'^\\.$', ''),\n",
    "    ]\n",
    "    for fname in tqdm(archivos):\n",
    "        contenido = \"\"\n",
    "        full_path = os.path.join(ruta_abs, fname)\n",
    "#         print('Procesando: ', full_path, ' ...')\n",
    "        with open(full_path, 'r', encoding='utf-8') as f:\n",
    "            contenido = f.read()\n",
    "        for viejo, nuevo in remplazos:\n",
    "            contenido = re.sub(viejo, nuevo, contenido)\n",
    "        with open(os.path.join(ruta_folder, fname), 'w', encoding='utf-8') as wf:\n",
    "            wf.write(contenido)"
   ]
  },
  {
   "cell_type": "code",
   "execution_count": 35,
   "metadata": {},
   "outputs": [
    {
     "name": "stderr",
     "output_type": "stream",
     "text": [
      "100%|██████████████████████████████████████████████████████████████████████████████████| 86/86 [00:05<00:00, 15.63it/s]\n",
      "100%|███████████████████████████████████████████████████████████████████████████████| 116/116 [00:00<00:00, 785.29it/s]\n",
      "100%|███████████████████████████████████████████████████████████████████████████████| 145/145 [00:00<00:00, 764.61it/s]\n"
     ]
    }
   ],
   "source": [
    "for candidato in ['AMLO', 'RAC', 'JAMK']:\n",
    "    ruta_rel = os.path.join('..', 'Boletines', candidato, 'txt')\n",
    "    ruta_abs = os.path.abspath(ruta_rel)\n",
    "    # Quitamos los directorios\n",
    "    archivos = [\n",
    "        f for f in os.listdir(ruta_abs) \n",
    "        if os.path.isfile(os.path.join(ruta_abs, f))\n",
    "    ] \n",
    "#     print(ruta_abs)\n",
    "    preprocesar(ruta_abs, archivos)"
   ]
  },
  {
   "cell_type": "code",
   "execution_count": null,
   "metadata": {},
   "outputs": [],
   "source": []
  }
 ],
 "metadata": {
  "kernelspec": {
   "display_name": "Python 3",
   "language": "python",
   "name": "python3"
  },
  "language_info": {
   "codemirror_mode": {
    "name": "ipython",
    "version": 3
   },
   "file_extension": ".py",
   "mimetype": "text/x-python",
   "name": "python",
   "nbconvert_exporter": "python",
   "pygments_lexer": "ipython3",
   "version": "3.7.7"
  }
 },
 "nbformat": 4,
 "nbformat_minor": 4
}
