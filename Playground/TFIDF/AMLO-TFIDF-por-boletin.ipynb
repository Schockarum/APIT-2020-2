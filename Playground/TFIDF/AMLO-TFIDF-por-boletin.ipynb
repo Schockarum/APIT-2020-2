{
 "cells": [
  {
   "cell_type": "markdown",
   "metadata": {},
   "source": [
    "# Pruebas con TFIDF de boletines de AMLO\n",
    "\n",
    "Uso el archivo json que generé con [este script](./../WebScrapping/webscrapping-amlo.ipynb).\n",
    "\n",
    "Calculo TFIDF usando un boletín como documento y todos los boletines de AMLO como corpus."
   ]
  },
  {
   "cell_type": "code",
   "execution_count": 1,
   "metadata": {},
   "outputs": [],
   "source": [
    "import pandas as pd\n",
    "from collections import Counter\n",
    "from itertools import chain\n",
    "from functools import reduce\n",
    "import re\n",
    "import io\n",
    "from math import log"
   ]
  },
  {
   "cell_type": "code",
   "execution_count": 2,
   "metadata": {},
   "outputs": [],
   "source": [
    "data = pd.read_json('./../Boletines/AMLO/json/boletines.json', dtype=\"dict\", encoding=\"utf-8\")\n",
    "boletines = data['boletines']\n",
    "corpus = [boletin[\"contenido\"] for boletin in boletines]"
   ]
  },
  {
   "cell_type": "code",
   "execution_count": 3,
   "metadata": {},
   "outputs": [],
   "source": [
    "corpus_tokenizado = [re.findall('[a-zA-zñáéíóúüÁÉÍÓÚÜÑ]+', contenido.lower()) for contenido in corpus if len(contenido)>2]\n",
    "# ch = chain(*corpus_tokenizado)\n",
    "# todos_los_tokens = list(ch)\n",
    "# df_corpus = pd.DataFrame(todos_los_tokens)\n",
    "# df_corpus.to_csv('Data/pln_corpus_amlo.csv')"
   ]
  },
  {
   "cell_type": "code",
   "execution_count": 4,
   "metadata": {},
   "outputs": [],
   "source": [
    "with io.open('TFIDF/stop-words-spanish.txt', mode='r', encoding='utf-8') as f:\n",
    "    stopwords = f.read().splitlines()\n",
    "corpus_tokenizado = [[w for w in doc if not (w in stopwords)] for doc in corpus_tokenizado]\n",
    "counter_boletines = [Counter(contenido) for contenido in corpus_tokenizado]"
   ]
  },
  {
   "cell_type": "code",
   "execution_count": 5,
   "metadata": {},
   "outputs": [],
   "source": [
    "def bm25(x, k=25):\n",
    "    return ((x + 1)*k)/(x+k)\n",
    "\n",
    "def tf(documento, func=bm25):\n",
    "    c = Counter(documento)\n",
    "    return {\n",
    "        termino : bm25(cuenta) for (termino, cuenta) in c.items()\n",
    "    }\n",
    "\n",
    "def idf(palabra, documentos):\n",
    "    return log(\n",
    "        len(documentos) / \n",
    "        (1+reduce(lambda cuenta, documento : cuenta + (1 if (palabra in documento) else 0), documentos, 0))\n",
    "    )\n",
    "\n",
    "def tfidf(tf : dict, idfs : dict):\n",
    "    return {\n",
    "            palabra: idfs[palabra]*tf_value\n",
    "            for (palabra, tf_value) in tf.items()\n",
    "    }\n",
    "\n",
    "def obtener_keywords(tfidfs, num_keywords=5):\n",
    "    keywords = []\n",
    "    for tfidf_n in tfidfs:\n",
    "        keywords_n = sorted(tfidf_n.items() ,  key=lambda x: x[1], reverse=True)[:num_keywords]\n",
    "        keywords.append([keyword[0] for keyword in keywords_n])\n",
    "    return keywords"
   ]
  },
  {
   "cell_type": "code",
   "execution_count": 6,
   "metadata": {},
   "outputs": [],
   "source": [
    "cuenta_total_palabras = reduce((lambda x, y: x + y), counter_boletines)\n",
    "palabras = [palabra for (palabra, cuenta) in cuenta_total_palabras.items()]"
   ]
  },
  {
   "cell_type": "code",
   "execution_count": 7,
   "metadata": {},
   "outputs": [],
   "source": [
    "idfs = {\n",
    "    palabra: idf(palabra, corpus_tokenizado) for palabra in palabras\n",
    "}"
   ]
  },
  {
   "cell_type": "code",
   "execution_count": 8,
   "metadata": {},
   "outputs": [],
   "source": [
    "tfs = [tf(corpus_tokenizado[i]) for i in [1, 23, 87]]"
   ]
  },
  {
   "cell_type": "code",
   "execution_count": 9,
   "metadata": {},
   "outputs": [],
   "source": [
    "tfidfs = [\n",
    "    {\n",
    "        palabra: idfs[palabra]*tf\n",
    "        for (palabra, tf) in tf_n.items()\n",
    "    }\n",
    "    for tf_n in tfs\n",
    "]"
   ]
  },
  {
   "cell_type": "code",
   "execution_count": 10,
   "metadata": {},
   "outputs": [
    {
     "data": {
      "text/plain": [
       "[['catarina',\n",
       "  'técnicos',\n",
       "  'apodaca',\n",
       "  'mesa',\n",
       "  'santa',\n",
       "  'tlc',\n",
       "  'aeropuerto',\n",
       "  'viable',\n",
       "  'léon',\n",
       "  'dosis',\n",
       "  'alternativo',\n",
       "  'sostienen',\n",
       "  'hundimiento',\n",
       "  'n',\n",
       "  'océano'],\n",
       " ['moral',\n",
       "  'populismo',\n",
       "  'redes',\n",
       "  'corral',\n",
       "  'sucia',\n",
       "  'ético',\n",
       "  'chihuahua',\n",
       "  'mensajes',\n",
       "  'seguidores',\n",
       "  'contracampaña',\n",
       "  'imperativo',\n",
       "  'dominando',\n",
       "  'quisieron',\n",
       "  'documental',\n",
       "  'roberto']]"
      ]
     },
     "execution_count": 10,
     "metadata": {},
     "output_type": "execute_result"
    }
   ],
   "source": [
    "keywords = obtener_keywords(tfidfs, 15)\n",
    "keywords"
   ]
  },
  {
   "cell_type": "code",
   "execution_count": 11,
   "metadata": {},
   "outputs": [],
   "source": [
    "counter_total = reduce(lambda x, y : x+y, counter_boletines, Counter())"
   ]
  },
  {
   "cell_type": "code",
   "execution_count": 13,
   "metadata": {},
   "outputs": [
    {
     "data": {
      "text/plain": [
       "[('méxico', 1001),\n",
       " ('lópez', 654),\n",
       " ('obrador', 650),\n",
       " ('va', 466),\n",
       " ('gobierno', 447),\n",
       " ('país', 409),\n",
       " ('pueblo', 403),\n",
       " ('candidato', 395),\n",
       " ('dijo', 392),\n",
       " ('si', 373),\n",
       " ('vamos', 370),\n",
       " ('manuel', 306),\n",
       " ('andrés', 296),\n",
       " ('presidencia', 274),\n",
       " ('historia', 272),\n",
       " ('juntos', 257),\n",
       " ('corrupción', 255),\n",
       " ('comentó', 253),\n",
       " ('campaña', 249),\n",
       " ('mil', 238),\n",
       " ('haremos', 233),\n",
       " ('coalición', 232),\n",
       " ('van', 223),\n",
       " ('pregunta', 223),\n",
       " ('presidente', 219),\n",
       " ('expresó', 218),\n",
       " ('poder', 217),\n",
       " ('indicó', 209),\n",
       " ('ahora', 204),\n",
       " ('pesos', 203)]"
      ]
     },
     "execution_count": 13,
     "metadata": {},
     "output_type": "execute_result"
    }
   ],
   "source": [
    "counter_total.most_common(30)"
   ]
  },
  {
   "cell_type": "code",
   "execution_count": null,
   "metadata": {},
   "outputs": [],
   "source": []
  }
 ],
 "metadata": {
  "kernelspec": {
   "display_name": "Python 3",
   "language": "python",
   "name": "python3"
  },
  "language_info": {
   "codemirror_mode": {
    "name": "ipython",
    "version": 3
   },
   "file_extension": ".py",
   "mimetype": "text/x-python",
   "name": "python",
   "nbconvert_exporter": "python",
   "pygments_lexer": "ipython3",
   "version": "3.7.4"
  }
 },
 "nbformat": 4,
 "nbformat_minor": 4
}