{
 "cells": [
  {
   "cell_type": "markdown",
   "metadata": {},
   "source": [
    "# Emparejamiento Encabezado-Boletín "
   ]
  },
  {
   "cell_type": "code",
   "execution_count": 1,
   "metadata": {},
   "outputs": [],
   "source": [
    "from pymongo import MongoClient, UpdateOne\n",
    "import os\n",
    "import dateutil.parser as parser\n",
    "import re\n",
    "from datetime import timedelta, datetime\n",
    "from bson.objectid import ObjectId\n",
    "from pprint import pprint\n",
    "from tqdm import tqdm"
   ]
  },
  {
   "cell_type": "markdown",
   "metadata": {},
   "source": [
    "Datos a utilizar para emparejar los archivos con documentos en MongoDB"
   ]
  },
  {
   "cell_type": "code",
   "execution_count": 2,
   "metadata": {},
   "outputs": [],
   "source": [
    "UNA_HORA = timedelta(hours=1)\n",
    "CANDIDATOS = ['AMLO', 'JAMK', 'RAC']\n",
    "metadatos = { \n",
    "    candidato : {'ruta_abs' : '','fnames' : [],'fechas_iso': [] }\n",
    "    for candidato in CANDIDATOS\n",
    "}"
   ]
  },
  {
   "cell_type": "code",
   "execution_count": 3,
   "metadata": {},
   "outputs": [
    {
     "name": "stdout",
     "output_type": "stream",
     "text": [
      "C:\\Users\\Usuario.000\\Documents\\Facultad\\Git\\2020-2\\APIT-2020-2\\Boletines\\AMLO\\txt\\preprocesados\n",
      "['Boletín-campaña-002-1_020418.txt',\n",
      " 'Boletín-campaña-004_040418.txt',\n",
      " 'Boletín-campaña-005_040418.txt']\n",
      "\n",
      "C:\\Users\\Usuario.000\\Documents\\Facultad\\Git\\2020-2\\APIT-2020-2\\Boletines\\JAMK\\txt\\preprocesados\n",
      "['010418 JAMK miles siguen inicio campaña.txt',\n",
      " '010418 JAMK Yuc candidato cerca jóvenes.txt',\n",
      " '010418 JAMK Yuc presenta 7 compr Mex.txt']\n",
      "\n",
      "C:\\Users\\Usuario.000\\Documents\\Facultad\\Git\\2020-2\\APIT-2020-2\\Boletines\\RAC\\txt\\preprocesados\n",
      "['COMUNICADO_01-RAC-30-03-2018.txt',\n",
      " 'COMUNICADO_02-RAC-31-03-2018.txt',\n",
      " 'COMUNICADO_03-RAC-31-03-2018.txt']\n",
      "\n"
     ]
    }
   ],
   "source": [
    "for candidato in CANDIDATOS:\n",
    "    ruta_rel = os.path.join('..', 'Boletines', candidato, 'txt', 'preprocesados')\n",
    "    metadatos[candidato]['ruta_abs'] = os.path.abspath(ruta_rel)\n",
    "    metadatos[candidato]['fnames'] = os.listdir(metadatos[candidato]['ruta_abs'])\n",
    "    print(metadatos[candidato]['ruta_abs'])\n",
    "    pprint(metadatos[candidato]['fnames'][:3])\n",
    "    print()"
   ]
  },
  {
   "cell_type": "markdown",
   "metadata": {},
   "source": [
    "Los archivos de AMLO tienen un formato \"Boletín-campaña-000-DDMMYY.txt\""
   ]
  },
  {
   "cell_type": "code",
   "execution_count": 4,
   "metadata": {},
   "outputs": [
    {
     "data": {
      "text/plain": [
       "[datetime.datetime(2018, 4, 2, 12, 0, tzinfo=tzoffset(None, -21600)),\n",
       " datetime.datetime(2018, 4, 4, 12, 0, tzinfo=tzoffset(None, -21600)),\n",
       " datetime.datetime(2018, 4, 4, 12, 0, tzinfo=tzoffset(None, -21600)),\n",
       " datetime.datetime(2018, 4, 4, 12, 0, tzinfo=tzoffset(None, -21600)),\n",
       " datetime.datetime(2018, 4, 5, 12, 0, tzinfo=tzoffset(None, -21600))]"
      ]
     },
     "execution_count": 4,
     "metadata": {},
     "output_type": "execute_result"
    }
   ],
   "source": [
    "candidato = 'AMLO'\n",
    "metadatos[candidato]['fechas_iso'] = [\n",
    "    parser.parse(f\"2018-{s[-8:-6]}-{s[-10:-8]} 12:00:00-06:00\")\n",
    "    for s in metadatos[candidato]['fnames']\n",
    "]\n",
    "metadatos[candidato]['fechas_iso'][:5]"
   ]
  },
  {
   "cell_type": "markdown",
   "metadata": {},
   "source": [
    "Los archivos de JAMK tienen un formato \"DDMMYY JAMK <encabezado\\>.txt\""
   ]
  },
  {
   "cell_type": "code",
   "execution_count": 5,
   "metadata": {},
   "outputs": [
    {
     "data": {
      "text/plain": [
       "[datetime.datetime(2018, 4, 1, 12, 0, tzinfo=tzoffset(None, -21600)),\n",
       " datetime.datetime(2018, 4, 1, 12, 0, tzinfo=tzoffset(None, -21600)),\n",
       " datetime.datetime(2018, 4, 1, 12, 0, tzinfo=tzoffset(None, -21600)),\n",
       " datetime.datetime(2018, 5, 1, 12, 0, tzinfo=tzoffset(None, -21600)),\n",
       " datetime.datetime(2018, 6, 1, 12, 0, tzinfo=tzoffset(None, -21600))]"
      ]
     },
     "execution_count": 5,
     "metadata": {},
     "output_type": "execute_result"
    }
   ],
   "source": [
    "candidato = 'JAMK'\n",
    "metadatos[candidato]['fechas_iso'] = [\n",
    "    parser.parse(f\"2018-{s[2:4]}-{s[:2]} 12:00:00-06:00\")\n",
    "    for s in metadatos[candidato]['fnames']\n",
    "]\n",
    "metadatos[candidato]['fechas_iso'][:5]"
   ]
  },
  {
   "cell_type": "markdown",
   "metadata": {},
   "source": [
    "Los archivos de RAC tienen un formato \"COMUNICADO 00 - RAC - DD-MM-YYY.txt\""
   ]
  },
  {
   "cell_type": "code",
   "execution_count": 6,
   "metadata": {},
   "outputs": [
    {
     "data": {
      "text/plain": [
       "[datetime.datetime(2018, 3, 30, 12, 0, tzinfo=tzoffset(None, -21600)),\n",
       " datetime.datetime(2018, 3, 31, 12, 0, tzinfo=tzoffset(None, -21600)),\n",
       " datetime.datetime(2018, 3, 31, 12, 0, tzinfo=tzoffset(None, -21600)),\n",
       " datetime.datetime(2018, 4, 1, 12, 0, tzinfo=tzoffset(None, -21600)),\n",
       " datetime.datetime(2018, 4, 1, 12, 0, tzinfo=tzoffset(None, -21600))]"
      ]
     },
     "execution_count": 6,
     "metadata": {},
     "output_type": "execute_result"
    }
   ],
   "source": [
    "candidato = 'RAC'\n",
    "metadatos[candidato]['fechas_iso'] = [\n",
    "    parser.parse(f\"2018-{s[-11:-9]}-{s[-14:-12]} 12:00:00-06:00\")\n",
    "    for s in metadatos[candidato]['fnames']\n",
    "]\n",
    "metadatos[candidato]['fechas_iso'][:5]"
   ]
  },
  {
   "cell_type": "markdown",
   "metadata": {},
   "source": [
    "## Conexión a MongoDB\n",
    "Conexión del cliente mongo a la base de datos"
   ]
  },
  {
   "cell_type": "code",
   "execution_count": 7,
   "metadata": {},
   "outputs": [
    {
     "name": "stdout",
     "output_type": "stream",
     "text": [
      "{'_id': ObjectId('5ec3089dd380e649eb619ce9'),\n",
      " 'boletin': 'Juntos haremos historia\\n'\n",
      "            'BOLETÍN CAMPAÑA-009\\n'\n",
      "            'PIDE LÓPEZ OBRADOR A TRUMP QUE NO MALTRATE A LOS MEXICANOS, '\n",
      "            '“QUEREMOS RESPETO MUTUO”\\n'\n",
      "            '- NI LAS AMENAZAS, NI LOS MILITARES A LA FRONTERA EVITARAN QUE '\n",
      "            'MÉXICO QUIERA TENER UNA RELACIÓN DE AMISTAD CON EU: AMLO\\n'\n",
      "            'MATAMOROS, TAMAULIPAS, 06 DE ABRIL DE 2018.- Andrés Manuel López '\n",
      "            'Obrador manifestó que México y Estados Unidos “somos pueblos que '\n",
      "            'estamos hermanados, los gobiernos no tienen por qué separar a los '\n",
      "            'pueblos, nosotros le pedimos al presidente Donald Trump con todo '\n",
      "            'respeto que no maltrate a los mexicanos, no queremos racismo y '\n",
      "            'discriminación, queremos respeto mutuo”.\\n'\n",
      "            'Recalcó que nunca se le faltará el respeto al pueblo '\n",
      "            'estadounidense, pero México y su pueblo no será piñata de ningún '\n",
      "            'pueblo extranjero. Y por eso, recordó, ayer que por primera vez '\n",
      "            'fijó postura con claridad Enrique Peña, “lo secundamos, tenemos '\n",
      "            'diferencias, pero en este tema, en este asunto hay coincidencias, '\n",
      "            'no vamos a dividirnos cuando hay una amenaza de un gobierno '\n",
      "            'extranjero, la patria es primero”.\\n'\n",
      "            'López Obrador precisó que ante amenazas, ni ese memorándum que '\n",
      "            'firmó el presidente Donald Trump que enviará militares a la '\n",
      "            'frontera, evitaran que México quiera tener una relación de '\n",
      "            'amistad y de respeto mutuo, de cooperación para el desarrollo con '\n",
      "            'Estados Unidos.\\n'\n",
      "            'En entrevista, Andrés Manuel López Obrador dijo que esperará que '\n",
      "            'Donald Trump se pronuncie sobre lo que expresó Enrique Peña Nieto '\n",
      "            'y después hablará sobre el tema.\\n'\n",
      "            'A la pregunta de los reporteros que si es inédita esta unidad que '\n",
      "            'se dio entorno de Peña, López Obrador respondió que es muy '\n",
      "            'importante que haya unidad ahora que hay estas amenazas y falta '\n",
      "            'de respeto al pueblo de México y a la nación, es una actitud muy '\n",
      "            'podo diplomática la de Donald Trump,\\n'\n",
      "            '“Y ya se pasó de la raya, porque ya lleva tiempo con sus '\n",
      "            'balandronadas, y hasta ahora hay una respuesta del gobierno '\n",
      "            'mexicano en los términos que se manifestó el presidente Peña el '\n",
      "            'día de ayer, entonces vamos a esperar a ver qué dice Donald '\n",
      "            'Trump, ojalá opte, decida rencausar la política bilateral con '\n",
      "            'nuestro país”, expuso.\\n'\n",
      "            'Agregó que a partir del respeto mutuo se pueda seguir en las '\n",
      "            'negociaciones del Tratado de Libre Comercio y se tiene que '\n",
      "            'esperar la respuesta de Donald Trump, a ver en qué plan está '\n",
      "            'después del pronunciamiento del presidente Peña.\\n'\n",
      "            'En la asamblea informativa en Matamoros y Río Bravo, Tamaulipas, '\n",
      "            'expresó que el nuevo gobierno democrático llevará a cabo una '\n",
      "            'primera cortina para retener a los mexicanos a partir de que haya '\n",
      "            'trabajo desde la frontera sur y la frontera norte del país, '\n",
      "            'porque en toda la frontera se crearán una zona libre, una zona '\n",
      "            'franca, desde Matamoros hasta Tijuana, son 3 mil 185 kilómetros '\n",
      "            'de frontera.\\n'\n",
      "            '“Se va a impulsar el desarrollo, vamos desde el primero de enero '\n",
      "            'para que hayas inversiones y haya trabajo”, se bajará el IVA al 8 '\n",
      "            'por ciento, explicó.\\n'\n",
      "            'Añadió que bajará el Impuesto sobre la Renta al 20 por ciento, se '\n",
      "            'homologará la gasolina, el gas y la luz en lo que cuesta en toda '\n",
      "            'la franca fronteriza.\\n'\n",
      "            'Indicó que como se bajarán los impuestos, esto ayudará a '\n",
      "            'inversionistas desde el primero de enero del año próximo '\n",
      "            'aumentará el salario mínimo al doble de lo que ganan actualmente '\n",
      "            'los trabajadores, quienes ganan muy poco en las maquilas, 800, '\n",
      "            '900 pesos a la semana.\\n'\n",
      "            'En todas las ciudades fronterizas, expresó, se llevará un '\n",
      "            'programa de desarrollo social para impulsar la educación, todos '\n",
      "            'los jóvenes tendrán garantizado el derecho al estudio y el '\n",
      "            'derecho al trabajo, habrán becas para estudiantes de '\n",
      "            'preparatorias y universidades, nunca se les dará la espalda a la '\n",
      "            'juventud y lo resumió en una frase: “becarios sí, sicarios no”.\\n'\n",
      "            'En Matamoros, Tamaulipas, el candidato por la coalición “Juntos '\n",
      "            'haremos historia” a la Presidencia de la República informó que '\n",
      "            '“vamos a tomar posesión desde el primero de diciembre, porque '\n",
      "            'estoy hablando así con tanta seguridad, porque estamos 20 puntos '\n",
      "            'arriba en las encuestas, tendría que pasar algo gravísimo, porque '\n",
      "            'no vamos a permitir el fraude electoral, se va a tener que '\n",
      "            'respetar la voluntad del pueblo de México”.\\n'\n",
      "            'Manifestó que le van a tener que entregar la banda presidencial y '\n",
      "            'desde el primero de diciembre aumentará al doble la pensión para '\n",
      "            'los adultos mayores y se podrá financiar todos los programas, '\n",
      "            'porque en el nuevo gobierno democrático se contará de tajo con la '\n",
      "            'corrupción, el dinero le llegará al pueblo.\\n'\n",
      "            'Durante la asamblea informativa en Matamoros, Tamaulipas, el '\n",
      "            'candidato a la Presidencia de la República sostuvo que '\n",
      "            '“necesitamos la unidad” para lograr la transformación del país, '\n",
      "            '“lo que no han hecho los gobiernos mafiosos, lo va a ser el '\n",
      "            'pueblo de México, vamos a sacar nuestro querido México del '\n",
      "            'atolladero en que lo han metido”.\\n'\n",
      "            'Dio a conocer que se está a menos de tres meses de iniciar la '\n",
      "            'transformación de México y por eso se tiene que convocar, llamar '\n",
      "            'a todos los ciudadanos, porque este no es una lucha de un solo '\n",
      "            'dirigente, de un partido, esta es una lucha de todo un pueblo, '\n",
      "            'porque este es un movimiento amplio, plural e incluyente, todos '\n",
      "            'tienen cabida.\\n'\n",
      "            'Indicó que están abiertas las puertas para militantes de todos '\n",
      "            'los partidos, para todos, mujeres y hombres de buena voluntad, '\n",
      "            '“pero cuidado con los mañosos que están pensando que va a ser lo '\n",
      "            'mismo, porque al que le vayan creciendo las uñas, les vamos a dar '\n",
      "            'manicure con achuela, no queremos corruptos”.\\n'\n",
      "            'Expresó que no es que como ya está en picada el PRI, está en '\n",
      "            'picada el PAN, ahora se vienen al movimiento, porque se van a '\n",
      "            'colar, “se van a ir por un tubo, aquí no queremos corruptos” y '\n",
      "            'señaló que el acuerdo general, el gran pacto es que se pongan por '\n",
      "            'delante la honestidad como forma de vida y de gobierno, limpiar '\n",
      "            'de corrupción al gobierno.\\n'\n",
      "            'Dejó en claro que no es cualquiera elección la del día primero de '\n",
      "            'julio, no es como las elecciones de siempre que llega un partido '\n",
      "            'al gobierno y sigue lo mismo, nunca hay ningún cambio, ya no va a '\n",
      "            'ser esa la llamada alternancia que es gatopardismo eso que '\n",
      "            'consiste en que las cosas en apariencia cambian para seguir '\n",
      "            'igual, ya no va a ser un cambio verdadero, radical.\\n'\n",
      "            'Pidió que nadie se espante, porque la palabra radical viene de '\n",
      "            'raíz, “porque vamos a arrancar de raíz al régimen podrido, '\n",
      "            'corrupto, de injusticias y de privilegios”. “Sí se puede”.\\n'\n",
      "            'López Obrador expresó que se han registrado tres transformaciones '\n",
      "            'en México: La Independencia, La Reforma y la Revolución, “y '\n",
      "            'nosotros, todos los que estamos aquí, y millones de mexicanos, '\n",
      "            'mujeres y hombres vamos a llevar a cabo la cuarta transformación '\n",
      "            'de la historia de México”.\\n'\n",
      "            'En Matamoros, se comprometió a que cuando triunfe el movimiento '\n",
      "            'que encabeza se conocerá más la vida del héroe anónimo '\n",
      "            'tamaulipeco, Catarino Erasmo Garza Rodríguez, quien luchó en '\n",
      "            'contra de Porfirio Díaz y sus restos que están en una fosa común '\n",
      "            'en Bocas del Toro, Panamá, serán trasladados, serán traídos a '\n",
      "            'México para rendirle todos los honores.\\n'\n",
      "            'Dijo que es muy importante que se conozca la historia, porque el '\n",
      "            'que no sabe de dónde viene, difícilmente va a saber hacia dónde '\n",
      "            'va.\\n'\n",
      "            'Comentó que el nuevo gobierno de México resolverá el problema de '\n",
      "            'la saturación del actual aeropuerto de la Ciudad de México, pero '\n",
      "            'no se va a seguir construyendo en el Lago de Texcoco, porque eso '\n",
      "            'es un barril sin fondo, es una robadera de contratistas y de '\n",
      "            'políticos, aunque digan lo que quieran.\\n'\n",
      "            'Una vez que triunfe el movimiento, irá a Los Pinos para hablar '\n",
      "            'con Enrique Peña para ponerse de acuerdo y esa obra se suspenda '\n",
      "            'para que no se siga tirando el dinero del pueblo de México, se '\n",
      "            'pondrá orden de inmediato.\\n'\n",
      "            'Mañana, el candidato a la Presidencia de la Republica estará en '\n",
      "            'Irapuato y San Francisco del Rincón, Guanajuato.',\n",
      " 'candidato': 'AMLO',\n",
      " 'encabezado': 'Pide López Obrador a Trump que no maltrate a los mexicanos, '\n",
      "               '“queremos respeto mutuo”',\n",
      " 'estado': 'Tamaulipas',\n",
      " 'fecha': datetime.datetime(2018, 4, 6, 18, 0),\n",
      " 'id': 7,\n",
      " 'id_interno': 'BOLETÍN CAMPAÑA-009',\n",
      " 'localidad': 'Matamoros',\n",
      " 'sumarios': ['En votación efectiva, las encuestas nos dan entre 50 y 52 por '\n",
      "              'ciento, asegura',\n",
      "              'Estamos pobremente más de 20 puntos arriba, comenta',\n",
      "              'Reitera que el repliegue de militares iniciado por Donald Trump '\n",
      "              'es un asunto político propagandístico con miras a su '\n",
      "              'reelección']}\n"
     ]
    }
   ],
   "source": [
    "urifile = open(\"mongo_uri.txt\", 'r', encoding='utf-8')\n",
    "uri = urifile.read()\n",
    "client = MongoClient(uri)\n",
    "db = client.boletines_db\n",
    "pprint(db.boletines.find_one())"
   ]
  },
  {
   "cell_type": "markdown",
   "metadata": {},
   "source": [
    "## Emparejamiento\n",
    "\n",
    "Creo la función de emparejamiento. En ella, intentaré buscar coincidencias de encabezados (en la base de datos) dentro de los documentos (en texto plano). Para no hacer una búsqueda exhaustiva, uso el formato de fecha para reducir los posibles emparejamientos."
   ]
  },
  {
   "cell_type": "code",
   "execution_count": 21,
   "metadata": {},
   "outputs": [],
   "source": [
    "def emparejador(metadatos, candidato, db):\n",
    "    coincidencias = []\n",
    "    update_ops = []\n",
    "    for fname, fecha in tqdm(zip(metadatos['fnames'], metadatos['fechas_iso'])):\n",
    "        contenido = \"\"\n",
    "        full_fname = os.path.join(metadatos['ruta_abs'], fname)\n",
    "        with open(full_fname, 'r', encoding='utf-8') as f:\n",
    "            contenido = f.read()\n",
    "        filtro = {\n",
    "            \"candidato\": candidato,\n",
    "            \"fecha\": \n",
    "            { \n",
    "                \"$gt\": fecha-UNA_HORA*2, \n",
    "                \"$lt\": fecha+UNA_HORA*2\n",
    "            } \n",
    "        }\n",
    "        proy = { \"encabezado\":1 }\n",
    "        cursor = db.boletines.find(filtro, proy)\n",
    "        # print(f'Buscando en {fname}')  \n",
    "        # print(contenido[85:170].lower())\n",
    "        # print('...')\n",
    "        matched = False\n",
    "        for i, doc in enumerate(cursor):\n",
    "            # print('  Prueba ', i)\n",
    "            match = re.search(\n",
    "                re.escape(doc['encabezado'][:-1].lower()), \n",
    "                contenido.lower(),\n",
    "                re.IGNORECASE\n",
    "            )\n",
    "            # match = pattern.match(contenido.lower())\n",
    "            # print('Probando con: ', res['encabezado'].lower())\n",
    "            if match:\n",
    "                # print(f\"    RESULTADO encontrado\")\n",
    "                # print(f\"    {match}\")\n",
    "                # print(f\"    _id: {res['_id']}\")\n",
    "                coincidencias.append((fname, doc['_id']))\n",
    "                update_ops.append(UpdateOne(\n",
    "                    {'_id': doc['_id']},\n",
    "                    {'$set':{\n",
    "                        'boletin':contenido,\n",
    "                        'file_name':fname\n",
    "                    }}\n",
    "                ))\n",
    "                matched = True\n",
    "        if not matched:\n",
    "            tqdm.write(f'Sin coincidencias para {fname}')\n",
    "            coincidencias.append((fname, ''))\n",
    "        # print('------------------------------\\n')\n",
    "    res_updates = db.boletines.bulk_write(update_ops)\n",
    "    print(res_updates.bulk_api_result)\n",
    "    return coincidencias"
   ]
  },
  {
   "cell_type": "code",
   "execution_count": 22,
   "metadata": {},
   "outputs": [
    {
     "name": "stderr",
     "output_type": "stream",
     "text": [
      "85it [00:07, 11.62it/s]\n",
      "1it [00:00,  7.99it/s]"
     ]
    },
    {
     "name": "stdout",
     "output_type": "stream",
     "text": [
      "{'writeErrors': [], 'writeConcernErrors': [], 'nInserted': 0, 'nUpserted': 0, 'nMatched': 85, 'nModified': 85, 'nRemoved': 0, 'upserted': []}\n"
     ]
    },
    {
     "name": "stderr",
     "output_type": "stream",
     "text": [
      "147it [00:12, 11.52it/s]\n",
      "2it [00:00, 12.08it/s]"
     ]
    },
    {
     "name": "stdout",
     "output_type": "stream",
     "text": [
      "{'writeErrors': [], 'writeConcernErrors': [], 'nInserted': 0, 'nUpserted': 0, 'nMatched': 147, 'nModified': 147, 'nRemoved': 0, 'upserted': []}\n"
     ]
    },
    {
     "name": "stderr",
     "output_type": "stream",
     "text": [
      "116it [00:10, 11.32it/s]\n"
     ]
    },
    {
     "name": "stdout",
     "output_type": "stream",
     "text": [
      "{'writeErrors': [], 'writeConcernErrors': [], 'nInserted': 0, 'nUpserted': 0, 'nMatched': 116, 'nModified': 116, 'nRemoved': 0, 'upserted': []}\n"
     ]
    }
   ],
   "source": [
    "coincidencias = {\n",
    "    candidato : emparejador(metadatos[candidato], candidato, db)\n",
    "    for candidato in CANDIDATOS\n",
    "}"
   ]
  },
  {
   "cell_type": "code",
   "execution_count": 13,
   "metadata": {},
   "outputs": [
    {
     "name": "stdout",
     "output_type": "stream",
     "text": [
      "[('Boletín-campaña-002-1_020418.txt', ObjectId('5ec3089dd380e649eb619ce3')),\n",
      " ('Boletín-campaña-004_040418.txt', ObjectId('5ec3089dd380e649eb619ce4')),\n",
      " ('Boletín-campaña-005_040418.txt', ObjectId('5ec3089dd380e649eb619ce5')),\n",
      " ('Boletín-campaña-006_040418.txt', ObjectId('5ec3089dd380e649eb619ce6')),\n",
      " ('Boletín-campaña-007_050418.txt', ObjectId('5ec3089dd380e649eb619ce7'))]\n",
      "\n",
      "[('010418 JAMK miles siguen inicio campaña.txt',\n",
      "  ObjectId('5ec3089dd380e649eb619dab')),\n",
      " ('010418 JAMK Yuc candidato cerca jóvenes.txt',\n",
      "  ObjectId('5ec3089dd380e649eb619dac')),\n",
      " ('010418 JAMK Yuc presenta 7 compr Mex.txt',\n",
      "  ObjectId('5ec3089dd380e649eb619dad')),\n",
      " ('010518 JAMK Edomex unidad.txt', ObjectId('5ec3089dd380e649eb619de8')),\n",
      " ('010618 Eurviel Avila Edomex Ecatepec.txt',\n",
      "  ObjectId('5ec3089dd380e649eb619e13'))]\n",
      "\n",
      "[('COMUNICADO_01-RAC-30-03-2018.txt', ObjectId('5ec3089dd380e649eb619d36')),\n",
      " ('COMUNICADO_02-RAC-31-03-2018.txt', ObjectId('5ec3089dd380e649eb619d37')),\n",
      " ('COMUNICADO_03-RAC-31-03-2018.txt', ObjectId('5ec3089dd380e649eb619d38')),\n",
      " ('COMUNICADO_04-RAC-01-04-2018.txt', ObjectId('5ec3089dd380e649eb619d39')),\n",
      " ('COMUNICADO_05-RAC-01-04-2018.txt', ObjectId('5ec3089dd380e649eb619d3a'))]\n",
      "\n"
     ]
    }
   ],
   "source": [
    "for candidato in CANDIDATOS[:]:\n",
    "    pprint(coincidencias[candidato][:5])\n",
    "    print()"
   ]
  },
  {
   "cell_type": "code",
   "execution_count": 20,
   "metadata": {},
   "outputs": [],
   "source": [
    "import csv\n",
    "import errno\n",
    "for candidato in CANDIDATOS:\n",
    "    ruta_rel_match = os.path.join('..', 'Boletines', candidato, 'metadata')\n",
    "    ruta_abs_match = os.path.abspath(ruta_rel_match)\n",
    "    try:\n",
    "        os.makedirs(ruta_abs_match) # cre\n",
    "    except OSError as e:\n",
    "        if e.errno != errno.EEXIST:\n",
    "            raise\n",
    "    fname_id = os.path.join(ruta_abs_match, 'FName_ObjectId.csv')\n",
    "    with open(fname_id, 'w', encoding='utf-8', newline='') as f:\n",
    "        csv_out=csv.writer(f)\n",
    "        csv_out.writerow(('fname','ObjectId'))\n",
    "        for row in coincidencias[candidato]:\n",
    "            csv_out.writerow(row)\n",
    "        "
   ]
  },
  {
   "cell_type": "code",
   "execution_count": 13,
   "metadata": {},
   "outputs": [],
   "source": [
    "client.close()"
   ]
  },
  {
   "cell_type": "code",
   "execution_count": null,
   "metadata": {},
   "outputs": [],
   "source": []
  }
 ],
 "metadata": {
  "kernelspec": {
   "display_name": "Python 3",
   "language": "python",
   "name": "python3"
  },
  "language_info": {
   "codemirror_mode": {
    "name": "ipython",
    "version": 3
   },
   "file_extension": ".py",
   "mimetype": "text/x-python",
   "name": "python",
   "nbconvert_exporter": "python",
   "pygments_lexer": "ipython3",
   "version": "3.7.7"
  }
 },
 "nbformat": 4,
 "nbformat_minor": 4
}
